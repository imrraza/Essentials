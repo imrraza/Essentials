{
 "cells": [
  {
   "cell_type": "markdown",
   "metadata": {},
   "source": [
    "## Exercise 1"
   ]
  },
  {
   "cell_type": "markdown",
   "metadata": {},
   "source": [
    "Write a for loop to count how many even and odd numbers between 1 and 100."
   ]
  },
  {
   "cell_type": "code",
   "execution_count": 71,
   "metadata": {},
   "outputs": [
    {
     "name": "stdout",
     "output_type": "stream",
     "text": [
      "Number of Even Numbers: 49\n",
      "Number of Odd Numbers: 50\n"
     ]
    }
   ],
   "source": [
    "count_odd = []\n",
    "count_even = []\n",
    "\n",
    "# CODE HERE\n",
    "for i in range(1,100):\n",
    "    if i%2==0:\n",
    "        count_even.append([i])\n",
    "        \n",
    "    else:\n",
    "        count_odd.append([i])\n",
    "\n",
    "        \n",
    "\n",
    "print(\"Number of Even Numbers: {}\".format(len(count_even)))\n",
    "\n",
    "print(\"Number of Odd Numbers: {}\".format(len(count_odd)))"
   ]
  },
  {
   "cell_type": "markdown",
   "metadata": {},
   "source": [
    "\n",
    "## Exercise 2"
   ]
  },
  {
   "cell_type": "markdown",
   "metadata": {},
   "source": [
    "Using the names dictionary and order_list shown below, write a program that fits the following conditions:\n",
    "- It should produce an order by adding items to receipt from order_list sequentially.\n",
    "- It should Print \"Current Total: £x\" with each iteration\n",
    "- If the order value exceeds the budget value, it should stop adding items and print \"Budget Exceeded!\".\n",
    "- If not, each time it adds items, it should: \n",
    "    - Print \"Adding *full name of item* (quantity)\".\n",
    "    - Subtract the price from budget.\n",
    "    - Add the price to running_total.\n",
    "- It should print out running_total, order and budget formatted into print statements (done for you)."
   ]
  },
  {
   "cell_type": "code",
   "execution_count": 72,
   "metadata": {},
   "outputs": [
    {
     "name": "stdout",
     "output_type": "stream",
     "text": [
      "dict_keys(['tom', 'sug', 'ws', 'juc', 'fo'])\n",
      "The total for the order is: £ 3.48\n",
      "The items in the order are: []\n",
      "The remaining budget is: £ 6.52\n",
      "The total for the order is: £ 3.48\n",
      "The items in the order are: []\n",
      "The remaining budget is: £ 3.04\n"
     ]
    }
   ],
   "source": [
    "order_list = [(\"tom\", 0.87, 4), \n",
    "         (\"sug\", 1.09, 3), \n",
    "         (\"ws\", 0.29, 4), \n",
    "         (\"juc\", 1.89, 1), \n",
    "         (\"fo\", 1.29, 2)]\n",
    "\n",
    "names = {\"tom\":\"Tomatoes\", \n",
    "         \"sug\":\"Sugar\", \n",
    "         \"ws\":\"Washing Sponges\", \n",
    "         \"juc\":\"Juice\", \n",
    "         \"fo\":\"Foil\"}\n",
    "\n",
    "budget = 10.00\n",
    "running_total = 0.00\n",
    "receipt = []\n",
    "a=names.keys()\n",
    "### CODE HERE ###\n",
    "print(a)\n",
    "\n",
    "for z in order_list:\n",
    "        while running_total<= budget:\n",
    "            running_total=(z[1]*z[2])\n",
    "            budget-=(z[1]*z[2])\n",
    "            print(\"The total for the order is: £{:5.2f}\".format(running_total))\n",
    "            print(\"The items in the order are: {}\".format(receipt))\n",
    "            print(\"The remaining budget is: £{:5.2f}\".format(budget))\n",
    "#for i in a:\n",
    " #   for j in order_list:\n",
    "  #      print(order_list[j])\n",
    "   #     print(order_list[j][j+2])\n",
    "    #    running_total = order_list[j][j+1]*order_list[j][j+2]\n",
    "\n",
    "\n"
   ]
  },
  {
   "cell_type": "markdown",
   "metadata": {},
   "source": [
    "## Exercise 3"
   ]
  },
  {
   "cell_type": "markdown",
   "metadata": {},
   "source": [
    "- Create a list comprehension that squares even arguments, and adds 1 to and squares odd arguments\n",
    "- Test on my_list"
   ]
  },
  {
   "cell_type": "code",
   "execution_count": 52,
   "metadata": {},
   "outputs": [
    {
     "name": "stdout",
     "output_type": "stream",
     "text": [
      "[68, 104, 44, 184]\n",
      "[144, 80, 148]\n"
     ]
    }
   ],
   "source": [
    "my_list = [34,52,71,39,22,73,92]\n",
    "s=[]\n",
    "t=[]\n",
    "# CODE HERE\n",
    "for i in my_list:\n",
    "    if i%2==0:\n",
    "       s.append(i*2) \n",
    "    else:\n",
    "       t.append((i+1)*2) \n",
    "    \n",
    "print(s)\n",
    "print(t)"
   ]
  },
  {
   "cell_type": "markdown",
   "metadata": {},
   "source": [
    "## Exercise 4\n"
   ]
  },
  {
   "cell_type": "markdown",
   "metadata": {},
   "source": [
    "Filter shop_dict using list comprehension to find only items with values of over 1.00\n",
    "\n",
    "Assign them to a list called filtered_shop by their full names, not their codes, using names_dict."
   ]
  },
  {
   "cell_type": "code",
   "execution_count": 70,
   "metadata": {},
   "outputs": [
    {
     "name": "stdout",
     "output_type": "stream",
     "text": [
      "1.09\n",
      "1.09\n",
      "1.09\n",
      "1.09\n",
      "1.09\n",
      "1.89\n",
      "1.89\n",
      "1.89\n",
      "1.89\n",
      "1.89\n",
      "1.29\n",
      "1.29\n",
      "1.29\n",
      "1.29\n",
      "1.29\n",
      "[1.09, 1.09, 1.09, 1.09, 1.09, 1.89, 1.89, 1.89, 1.89, 1.89, 1.29, 1.29, 1.29, 1.29, 1.29, 1.09, 1.09, 1.09, 1.09, 1.09, 1.89, 1.89, 1.89, 1.89, 1.89, 1.29, 1.29, 1.29, 1.29, 1.29]\n",
      "[1.09, 1.09, 1.09, 1.09, 1.09, 1.89, 1.89, 1.89, 1.89, 1.89, 1.29, 1.29, 1.29, 1.29, 1.29, 1.09, 1.09, 1.09, 1.09, 1.09, 1.89, 1.89, 1.89, 1.89, 1.89, 1.29, 1.29, 1.29, 1.29, 1.29]\n"
     ]
    }
   ],
   "source": [
    "shop_dict = {\"tom\":0.87,\n",
    "        \"sug\":1.09,\n",
    "        \"ws\":0.29,\n",
    "        \"cc\":1.89,\n",
    "        \"ccz\":1.29}\n",
    "\n",
    "names_dict = {\"tom\":\"Tomatoes\", \n",
    "         \"sug\":\"Sugar\", \n",
    "         \"ws\":\"Washing Sponges\", \n",
    "         \"cc\":\"Coca-Cola\", \n",
    "         \"ccz\":\"Coca-Cola Zero\"}\n",
    "a=shop_dict.values()\n",
    "b=shop_dict.keys()\n",
    "c=names_dict.keys()\n",
    "d=names_dict.values()\n",
    "c=[]\n",
    "for x in a:\n",
    "    for y in b:\n",
    "        if x>1:\n",
    "            filtered_shop.append(x)\n",
    "            filtered_shop2.append(y)\n",
    "            print(x)\n",
    "        \n",
    "print(filtered_shop)\n",
    "#for i in names_dict:\n",
    "#   print(i)\n",
    "#keyin.shop_dict[]\n",
    "\n",
    "\n",
    "\n",
    "\n",
    "\n",
    "\n",
    "print(filtered_shop)"
   ]
  },
  {
   "cell_type": "markdown",
   "metadata": {},
   "source": [
    "\n",
    "## Exercise 5"
   ]
  },
  {
   "cell_type": "markdown",
   "metadata": {},
   "source": [
    "Write a program to produce the following pattern.\n",
    "\n",
    "CLUE: Use nested for loops, using one nested loop to increase in size and another to decrease."
   ]
  },
  {
   "cell_type": "code",
   "execution_count": 11,
   "metadata": {},
   "outputs": [
    {
     "data": {
      "application/vnd.code.notebook.stdout": [
       "\n",
       "* \n",
       "* * \n",
       "* * * \n",
       "* * * * \n",
       "* * * * * \n",
       "* * * * \n",
       "* * * \n",
       "* * \n",
       "* \n"
      ]
     },
     "output_type": "unknown"
    }
   ],
   "source": [
    "n=5\n",
    "\n",
    "# CODE HERE"
   ]
  },
  {
   "cell_type": "markdown",
   "metadata": {},
   "source": [
    "## Bonus Question"
   ]
  },
  {
   "cell_type": "markdown",
   "metadata": {},
   "source": [
    "Write a program to check whether each number from 10 to 50 is prime\n",
    "\n",
    "Your answer should take the following format:\n",
    "- \"x IS a prime number.\" for primes\n",
    "- \"x IS NOT a prime number because y is a factor of x.\" for non-primes\n",
    "\n",
    "CLUE: This is possible using a while loop nested in a for loop or using a nested for loop; if you can, try to find both."
   ]
  },
  {
   "cell_type": "code",
   "execution_count": 8,
   "metadata": {},
   "outputs": [
    {
     "data": {
      "application/vnd.code.notebook.stdout": [
       "10 is NOT a prime number, because 2 is a factor of 10\n",
       "11 IS a prime number\n",
       "12 is NOT a prime number, because 2 is a factor of 12\n",
       "13 IS a prime number\n",
       "14 is NOT a prime number, because 2 is a factor of 14\n",
       "15 is NOT a prime number, because 3 is a factor of 15\n",
       "16 is NOT a prime number, because 2 is a factor of 16\n",
       "17 IS a prime number\n",
       "18 is NOT a prime number, because 2 is a factor of 18\n",
       "19 IS a prime number\n",
       "20 is NOT a prime number, because 2 is a factor of 20\n",
       "21 is NOT a prime number, because 3 is a factor of 21\n",
       "22 is NOT a prime number, because 2 is a factor of 22\n",
       "23 IS a prime number\n",
       "24 is NOT a prime number, because 2 is a factor of 24\n",
       "25 is NOT a prime number, because 5 is a factor of 25\n",
       "26 is NOT a prime number, because 2 is a factor of 26\n",
       "27 is NOT a prime number, because 3 is a factor of 27\n",
       "28 is NOT a prime number, because 2 is a factor of 28\n",
       "29 IS a prime number\n",
       "30 is NOT a prime number, because 2 is a factor of 30\n",
       "31 IS a prime number\n",
       "32 is NOT a prime number, because 2 is a factor of 32\n",
       "33 is NOT a prime number, because 3 is a factor of 33\n",
       "34 is NOT a prime number, because 2 is a factor of 34\n",
       "35 is NOT a prime number, because 5 is a factor of 35\n",
       "36 is NOT a prime number, because 2 is a factor of 36\n",
       "37 IS a prime number\n",
       "38 is NOT a prime number, because 2 is a factor of 38\n",
       "39 is NOT a prime number, because 3 is a factor of 39\n",
       "40 is NOT a prime number, because 2 is a factor of 40\n",
       "41 IS a prime number\n",
       "42 is NOT a prime number, because 2 is a factor of 42\n",
       "43 IS a prime number\n",
       "44 is NOT a prime number, because 2 is a factor of 44\n",
       "45 is NOT a prime number, because 3 is a factor of 45\n",
       "46 is NOT a prime number, because 2 is a factor of 46\n",
       "47 IS a prime number\n",
       "48 is NOT a prime number, because 2 is a factor of 48\n",
       "49 is NOT a prime number, because 7 is a factor of 49\n",
       "50 is NOT a prime number, because 2 is a factor of 50\n"
      ]
     },
     "output_type": "unknown"
    }
   ],
   "source": [
    "# CODE HERE\n",
    "\n",
    "x=(10,50)\n",
    "\n",
    "while x<50:\n",
    "    for i in x:\n",
    "    for z in range(1,10)\n",
    "        if i%2 and "
   ]
  },
  {
   "cell_type": "code",
   "execution_count": null,
   "metadata": {},
   "outputs": [],
   "source": []
  }
 ],
 "metadata": {
  "interpreter": {
   "hash": "aee8b7b246df8f9039afb4144a1f6fd8d2ca17a180786b69acc140d282b71a49"
  },
  "kernelspec": {
   "display_name": "Python 3 (ipykernel)",
   "language": "python",
   "name": "python3"
  },
  "language_info": {
   "codemirror_mode": {
    "name": "ipython",
    "version": 3
   },
   "file_extension": ".py",
   "mimetype": "text/x-python",
   "name": "python",
   "nbconvert_exporter": "python",
   "pygments_lexer": "ipython3",
   "version": "3.9.6"
  }
 },
 "nbformat": 4,
 "nbformat_minor": 2
}
