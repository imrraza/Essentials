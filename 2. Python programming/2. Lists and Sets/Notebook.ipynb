{
 "cells": [
  {
   "cell_type": "markdown",
   "source": [
    "# 2. Lists and Sets"
   ],
   "metadata": {}
  },
  {
   "cell_type": "markdown",
   "source": [
    "## Learning objectives\n",
    "- Understand the nature of a list.\n",
    "- Know how to index and slice a list.\n",
    "- Know some ways to add items to a list.\n",
    "- Know some methods associated with a list.\n",
    "<br> <br>\n",
    "- Understand the nature of a set.\n",
    "- Learn how to add to and update a set.\n",
    "- Learn how to join sets using different methods."
   ],
   "metadata": {}
  },
  {
   "cell_type": "markdown",
   "source": [
    "## Lists"
   ],
   "metadata": {}
  },
  {
   "cell_type": "markdown",
   "source": [
    "- Powerful data type in Python.\n",
    "- Denoted by square brackets [].\n",
    "- Store items as a mutable ordered sequence of elements.\n",
    "- Each element in a list is an item.\n",
    "- Support indexing and slicing.\n",
    "- Can nest lists within each other.\n",
    "\n",
    "![Lists](images/lists.png)"
   ],
   "metadata": {}
  },
  {
   "cell_type": "markdown",
   "source": [
    "### Some definitions\n",
    "- Mutable: can be changed after creation (supports addition/removal/reassignment of items).\n",
    "- Ordered: as it sounds, has a fixed order (the order of elements provided at the time of assignment) and so can be indexed using numbers.\n",
    "- Hence a list \\[2,1,3,4\\] will not be rearranged, 2 will be the first element, 1 will be the second... etc.\n",
    "- Sequence of elements: fairly self explanatory."
   ],
   "metadata": {}
  },
  {
   "cell_type": "code",
   "execution_count": null,
   "source": [
    "# can handle multiple object types\n",
    "my_list = [3, \"three\", 3.0, True]"
   ],
   "outputs": [],
   "metadata": {}
  },
  {
   "cell_type": "code",
   "execution_count": null,
   "source": [
    "my_list[0]"
   ],
   "outputs": [],
   "metadata": {}
  },
  {
   "cell_type": "code",
   "execution_count": null,
   "source": [
    "sentence = 'This is just a sentence'\n",
    "sentence.split('s')"
   ],
   "outputs": [],
   "metadata": {}
  },
  {
   "cell_type": "code",
   "execution_count": null,
   "source": [
    "# can use the type() function to check the data type of an object\n",
    "type(3)"
   ],
   "outputs": [],
   "metadata": {}
  },
  {
   "cell_type": "code",
   "execution_count": null,
   "source": [
    "type(\"three\")"
   ],
   "outputs": [],
   "metadata": {}
  },
  {
   "cell_type": "code",
   "execution_count": null,
   "source": [
    "type(3.0)"
   ],
   "outputs": [],
   "metadata": {}
  },
  {
   "cell_type": "code",
   "execution_count": null,
   "source": [
    "type(True)"
   ],
   "outputs": [],
   "metadata": {}
  },
  {
   "cell_type": "code",
   "execution_count": null,
   "source": [
    "type(my_list)"
   ],
   "outputs": [],
   "metadata": {}
  },
  {
   "cell_type": "markdown",
   "source": [
    "### Indexing and Slicing"
   ],
   "metadata": {}
  },
  {
   "cell_type": "markdown",
   "source": [
    "In Python, slicing:\n",
    "\n",
    "- Starts at 0 (zero).\n",
    "- Is inclusive at the lower bound (including).\n",
    "- Is exclusive at the upper bound (up to but not including)."
   ],
   "metadata": {}
  },
  {
   "cell_type": "code",
   "execution_count": null,
   "source": [
    "my_list = ['John', 'Paul', 'George', 'Ringo']\n",
    "my_list"
   ],
   "outputs": [],
   "metadata": {}
  },
  {
   "cell_type": "code",
   "execution_count": null,
   "source": [
    "# Index 0 gives first element\n",
    "my_list[1]"
   ],
   "outputs": [],
   "metadata": {}
  },
  {
   "cell_type": "code",
   "execution_count": null,
   "source": [
    "# Use colon to indicate slice, 1:3 returns 2nd and 3rd items but not 4th\n",
    "my_list[0:3]"
   ],
   "outputs": [],
   "metadata": {}
  },
  {
   "cell_type": "code",
   "execution_count": null,
   "source": [
    "# No upper bound starts with first index indicated and gives everything beyond\n",
    "my_list[1:]"
   ],
   "outputs": [],
   "metadata": {}
  },
  {
   "cell_type": "code",
   "execution_count": null,
   "source": [
    "# No lower bound starts from index 0, up to but not including upper bound\n",
    "my_list[:3]"
   ],
   "outputs": [],
   "metadata": {}
  },
  {
   "cell_type": "code",
   "execution_count": null,
   "source": [
    "my_list[::2]"
   ],
   "outputs": [],
   "metadata": {}
  },
  {
   "cell_type": "code",
   "execution_count": null,
   "source": [
    "# You can also use negative index to start from the end:\n",
    "print(my_list[-1])\n",
    "print(my_list[-2])\n",
    "print(my_list[::-1])"
   ],
   "outputs": [],
   "metadata": {}
  },
  {
   "cell_type": "code",
   "execution_count": null,
   "source": [
    "# can reassign elements in lists to new values\n",
    "my_list[1] = my_list[1].upper()\n",
    "my_list"
   ],
   "outputs": [],
   "metadata": {}
  },
  {
   "cell_type": "code",
   "execution_count": null,
   "source": [
    "# Can add lists, does not change original list\n",
    "my_list + ['Yoko']\n",
    "print(my_list)"
   ],
   "outputs": [],
   "metadata": {}
  },
  {
   "cell_type": "code",
   "execution_count": null,
   "source": [
    "# Must reassign list to change original\n",
    "my_list = my_list + ['Yoko']\n",
    "\n",
    "my_list"
   ],
   "outputs": [],
   "metadata": {}
  },
  {
   "cell_type": "code",
   "execution_count": null,
   "source": [
    "my_list = my_list[:4]"
   ],
   "outputs": [],
   "metadata": {}
  },
  {
   "cell_type": "code",
   "execution_count": null,
   "source": [
    "my_list"
   ],
   "outputs": [],
   "metadata": {}
  },
  {
   "cell_type": "code",
   "execution_count": null,
   "source": [
    "# Can multiply, same principle applies\n",
    "my_list * 2"
   ],
   "outputs": [],
   "metadata": {}
  },
  {
   "cell_type": "code",
   "execution_count": null,
   "source": [
    "my_list"
   ],
   "outputs": [],
   "metadata": {}
  },
  {
   "cell_type": "code",
   "execution_count": null,
   "source": [
    "# Lists can be an item within a list\n",
    "# Lists within lists are called nested\n",
    "lst_1=[1,2,3]\n",
    "lst_2=[4,5,6]\n",
    "lst_3=[7,8,9]\n",
    "\n",
    "# Make a list of lists to form a nested list\n",
    "nest_list = [lst_1,lst_2,lst_3]\n",
    "nest_list"
   ],
   "outputs": [],
   "metadata": {}
  },
  {
   "cell_type": "markdown",
   "source": [
    "![Lists](images/deeper.jpg)"
   ],
   "metadata": {}
  },
  {
   "cell_type": "code",
   "execution_count": null,
   "source": [
    "print('Accessing second item', nest_list[1])\n",
    "print('Accessing second item of the second item', nest_list[1][1])"
   ],
   "outputs": [],
   "metadata": {}
  },
  {
   "cell_type": "markdown",
   "source": [
    "### List Functions and Methods"
   ],
   "metadata": {}
  },
  {
   "cell_type": "code",
   "execution_count": null,
   "source": [
    "# use len() function to check length\n",
    "len(my_list)"
   ],
   "outputs": [],
   "metadata": {}
  },
  {
   "cell_type": "code",
   "execution_count": null,
   "source": [
    "len(3)"
   ],
   "outputs": [],
   "metadata": {}
  },
  {
   "cell_type": "code",
   "execution_count": null,
   "source": [
    "# use min() and max() to find highest and lowest item in lists\n",
    "# works in alphabetical order with strings\n",
    "\n",
    "new_list = ['AApple', 'ABanana', 'cranberry']\n",
    "\n",
    "print(min(new_list))\n",
    "print(max(new_list))"
   ],
   "outputs": [],
   "metadata": {}
  },
  {
   "cell_type": "markdown",
   "source": [
    "#### .append() vs .extend()\n",
    "- .append() adds items to the end of a list.\n",
    "- .extend() adds items in a list (or other iterable) itemwise to the end of a list.\n",
    "- We can see the difference in addition below."
   ],
   "metadata": {}
  },
  {
   "cell_type": "code",
   "execution_count": null,
   "source": [
    "# add items by .append() method\n",
    "\n",
    "my_list = my_list.append(['Lennon','McCartney','Harrison', 'Starr'])\n",
    "\n",
    "print(my_list)"
   ],
   "outputs": [],
   "metadata": {}
  },
  {
   "cell_type": "code",
   "execution_count": null,
   "source": [
    "# add items in iterable itemwise by .extend() method\n",
    "\n",
    "my_list.extend(['Lennon','McCartney','Harrison', 'Starr'])\n",
    "\n",
    "my_list"
   ],
   "outputs": [],
   "metadata": {}
  },
  {
   "cell_type": "code",
   "execution_count": null,
   "source": [
    "my_list.insert(1, 'Lennon')"
   ],
   "outputs": [],
   "metadata": {}
  },
  {
   "cell_type": "code",
   "execution_count": null,
   "source": [
    "my_list"
   ],
   "outputs": [],
   "metadata": {}
  },
  {
   "cell_type": "code",
   "execution_count": null,
   "source": [
    "# use .pop method to remove and return last item\n",
    "last_item = my_list.pop()"
   ],
   "outputs": [],
   "metadata": {}
  },
  {
   "cell_type": "code",
   "execution_count": null,
   "source": [
    "last_item"
   ],
   "outputs": [],
   "metadata": {}
  },
  {
   "cell_type": "code",
   "execution_count": null,
   "source": [
    "print(my_list)"
   ],
   "outputs": [],
   "metadata": {}
  },
  {
   "cell_type": "code",
   "execution_count": null,
   "source": [
    "# can index, default index -1\n",
    "my_list.pop(0)"
   ],
   "outputs": [],
   "metadata": {}
  },
  {
   "cell_type": "code",
   "execution_count": null,
   "source": [
    "my_list"
   ],
   "outputs": [],
   "metadata": {}
  },
  {
   "cell_type": "code",
   "execution_count": null,
   "source": [
    "# returned item can be assigned to variable\n",
    "\n",
    "popped_item = my_list.pop(0)\n",
    "\n",
    "popped_item"
   ],
   "outputs": [],
   "metadata": {}
  },
  {
   "cell_type": "code",
   "execution_count": null,
   "source": [
    "my_list"
   ],
   "outputs": [],
   "metadata": {}
  },
  {
   "cell_type": "code",
   "execution_count": null,
   "source": [
    "# use .sort() method to sort list, changes original list, no returned value\n",
    "\n",
    "let_list = [\"a\", \"d\", \"v\", \"x\", \"g\"]\n",
    "\n",
    "num_list = [13,42,4,24,2,46,3,7]"
   ],
   "outputs": [],
   "metadata": {}
  },
  {
   "cell_type": "code",
   "execution_count": null,
   "source": [
    "let_list.sort()\n",
    "num_list.sort()"
   ],
   "outputs": [],
   "metadata": {}
  },
  {
   "cell_type": "code",
   "execution_count": null,
   "source": [
    "print(let_list)\n",
    "print(num_list)"
   ],
   "outputs": [],
   "metadata": {}
  },
  {
   "cell_type": "code",
   "execution_count": null,
   "source": [
    "# use .reverse() method to reverse list\n",
    "num_list.reverse()\n",
    "\n",
    "print(num_list)"
   ],
   "outputs": [],
   "metadata": {}
  },
  {
   "cell_type": "code",
   "execution_count": null,
   "source": [
    "# use \"sep\".join(list) to join a list of strings using a separator\n",
    "\n",
    "list_of_strings = [\"This\", \"is\", \"a\", \"sentence.\"]\n",
    "\n",
    "print(\"\\t\".join(list_of_strings))"
   ],
   "outputs": [],
   "metadata": {}
  },
  {
   "cell_type": "code",
   "execution_count": null,
   "source": [
    "my_list"
   ],
   "outputs": [],
   "metadata": {}
  },
  {
   "cell_type": "code",
   "execution_count": null,
   "source": [
    "# my_list.remove('PAUL')\n",
    "idx = my_list.index(['Lennon', 'McCartney', 'Harrison', 'Starr'])\n",
    "print(idx)"
   ],
   "outputs": [],
   "metadata": {}
  },
  {
   "cell_type": "code",
   "execution_count": null,
   "source": [
    "my_list"
   ],
   "outputs": [],
   "metadata": {}
  },
  {
   "cell_type": "markdown",
   "source": [
    "## Lists Exercises"
   ],
   "metadata": {}
  },
  {
   "cell_type": "markdown",
   "source": [
    "### Question 1:\n",
    "Write a program that checks if the two words in a two-word string start with the same letter. <br>\n",
    "Copy-paste (and slightly modify) your code to try it for both cases."
   ],
   "metadata": {}
  },
  {
   "cell_type": "code",
   "execution_count": null,
   "source": [
    "phrase1 = 'Clean Couch'\n",
    "\n",
    "split_string = phrase1.split()\n",
    "\n",
    "split_string[0][0] == split_string[1][0]\n",
    "# CODE HERE"
   ],
   "outputs": [],
   "metadata": {}
  },
  {
   "cell_type": "code",
   "execution_count": null,
   "source": [
    "phrase2 = 'Giant Table'\n",
    "\n",
    "split_string = phrase1.split()\n",
    "\n",
    "split_string[0][0] == split_string[1][0]\n",
    "# CODE HERE"
   ],
   "outputs": [],
   "metadata": {}
  },
  {
   "cell_type": "markdown",
   "source": [
    "### Question 2:\n",
    "Write a program that returns a string with the __words__ reversed.\n",
    "Once again, try the same operation with both test cases."
   ],
   "metadata": {}
  },
  {
   "cell_type": "code",
   "execution_count": null,
   "source": [
    "my_string1 = 'This is a short phrase'\n",
    "\n",
    "# CODE HERE"
   ],
   "outputs": [],
   "metadata": {}
  },
  {
   "cell_type": "code",
   "execution_count": null,
   "source": [
    "my_string2 = 'This is actually a significantly longer phrase than the previous one'\n",
    "\n",
    "# CODE HERE"
   ],
   "outputs": [],
   "metadata": {}
  },
  {
   "cell_type": "markdown",
   "source": [
    "## A Brief Introduction to Sets"
   ],
   "metadata": {}
  },
  {
   "cell_type": "markdown",
   "source": [
    "- Sets are a data type in Python.\n",
    "- They follow the rules of mathematical sets that you should already be familiar with.\n",
    "- They are mutable and unordered, and they do not contain repeated items (items are unique).\n",
    "- This means one useful usage of a set is to find all unique items in a list, as we can see below.\n",
    "- Sets also have their own methods, with operations familiar from mathematical sets."
   ],
   "metadata": {}
  },
  {
   "cell_type": "code",
   "execution_count": null,
   "source": [
    "my_set = set([1, 2, 3, 4, 4, 4, 6])\n",
    "print(my_set[1])"
   ],
   "outputs": [],
   "metadata": {}
  },
  {
   "cell_type": "markdown",
   "source": [
    "![Venn Diagram](images/venn.jpg)"
   ],
   "metadata": {}
  },
  {
   "cell_type": "code",
   "execution_count": null,
   "source": [
    "# can return unique items in list by casting list to set using set() function\n",
    "long_list = [1,1,1,1,2,3,3,4,5,5,4,4,5,5,6,6,5,55,5,5,5,5]\n",
    "\n",
    "set_of_list = set(long_list)\n",
    "\n",
    "print(set_of_list)"
   ],
   "outputs": [],
   "metadata": {}
  },
  {
   "cell_type": "code",
   "execution_count": null,
   "source": [
    "# we develop sets by first creating an empty set and then using .add() to add to it\n",
    "set_x = set()\n",
    "\n",
    "print(set_x)\n",
    "\n",
    "set_x.add(1)\n",
    "\n",
    "print(set_x)\n",
    "\n",
    "set_x.add(2)\n",
    "\n",
    "print(set_x)\n",
    "\n",
    "set_x.add(2)\n",
    "\n",
    "print(set_x)"
   ],
   "outputs": [],
   "metadata": {}
  },
  {
   "cell_type": "code",
   "execution_count": null,
   "source": [
    "# if we add 1 again, we see the set does not change, as items in a set are unique\n",
    "print(set_x)\n",
    "\n",
    "set_x.add(1)\n",
    "\n",
    "print(set_x)"
   ],
   "outputs": [],
   "metadata": {}
  },
  {
   "cell_type": "code",
   "execution_count": null,
   "source": [
    "# .union() finds the union (mathematical union) of one set and another\n",
    "set_x.add(10)\n",
    "print(set_x)\n",
    "print(set_of_list)\n",
    "set_x.union(set_of_list)"
   ],
   "outputs": [],
   "metadata": {}
  },
  {
   "cell_type": "code",
   "execution_count": null,
   "source": [
    "set_x = set_x.union(set_of_list)"
   ],
   "outputs": [],
   "metadata": {}
  },
  {
   "cell_type": "code",
   "execution_count": null,
   "source": [
    "# .update() updates a set with the union of it and another set\n",
    "print(set_x)\n",
    "\n",
    "print(set_of_list)\n",
    "\n",
    "dummy = set_x.update(set_of_list)\n",
    "\n",
    "print(dummy)"
   ],
   "outputs": [],
   "metadata": {}
  },
  {
   "cell_type": "code",
   "execution_count": null,
   "source": [
    "# a.difference(b) returns the items in a that are NOT in b\n",
    "set_x = set()\n",
    "set_x.add(1)\n",
    "set_x.add(2)\n",
    "print(set_x)\n",
    "print(set_of_list)\n",
    "set_of_list.difference(set_x)"
   ],
   "outputs": [],
   "metadata": {}
  },
  {
   "cell_type": "code",
   "execution_count": null,
   "source": [
    "type(list(set([1, 2, 3, 4, 4, 4, 5, 5, 5, 5, 5])))"
   ],
   "outputs": [],
   "metadata": {}
  },
  {
   "cell_type": "markdown",
   "source": [
    "## Summary\n",
    "We now understand:\n",
    "- The nature of lists, and sets.\n",
    "- The basic concept of mutability.\n",
    "<br><br>\n",
    "\n",
    "We now know:\n",
    "- How to index and slice lists.\n",
    "- List functions and methods including len(), .append(), .extend() etc.\n",
    "- How to use a set to find the unique values in a list.\n",
    "\n",
    "<br>\n",
    "\n",
    "Please use this notebook as a reference, and refer to the links below for more information.\n",
    "\n",
    "## Further reading\n",
    "- List methods: https://docs.python.org/3/tutorial/datastructures.html\n",
    "- Sets: https://docs.python.org/3/library/stdtypes.html#set"
   ],
   "metadata": {}
  }
 ],
 "metadata": {
  "kernelspec": {
   "display_name": "Python 3",
   "language": "python",
   "name": "python3"
  },
  "language_info": {
   "codemirror_mode": {
    "name": "ipython",
    "version": 3
   },
   "file_extension": ".py",
   "mimetype": "text/x-python",
   "name": "python",
   "nbconvert_exporter": "python",
   "pygments_lexer": "ipython3",
   "version": "3.8.3"
  }
 },
 "nbformat": 4,
 "nbformat_minor": 4
}