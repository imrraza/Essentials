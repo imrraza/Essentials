{
 "cells": [
  {
   "cell_type": "markdown",
   "metadata": {},
   "source": [
    "# If statements"
   ]
  },
  {
   "cell_type": "code",
   "execution_count": null,
   "metadata": {},
   "outputs": [],
   "source": [
    "x = 5\n",
    "if x > 3:\n",
    "    print('x is greater than 3') # Condition is met and this message is printed out\n",
    "\n"
   ]
  },
  {
   "cell_type": "code",
   "execution_count": null,
   "metadata": {},
   "outputs": [],
   "source": [
    "x = 1\n",
    "if x > 3:\n",
    "    print('x is greater than 3') # Condition is not met and this message is not printed out\n"
   ]
  },
  {
   "cell_type": "code",
   "execution_count": null,
   "metadata": {},
   "outputs": [],
   "source": [
    "x = 5\n",
    "if x > 3:\n",
    "    print('x is greater than 3') # The condition is True, so it prints out this\n",
    "else:\n",
    "    print('x is lower than 3')\n"
   ]
  },
  {
   "cell_type": "code",
   "execution_count": null,
   "metadata": {},
   "outputs": [],
   "source": [
    "x = 1\n",
    "if x > 3:\n",
    "    print('x is greater than 3')\n",
    "else:\n",
    "    print('x is lower than 3') # The condition is False, so it prints out this\n",
    "\n"
   ]
  },
  {
   "cell_type": "code",
   "execution_count": null,
   "metadata": {},
   "outputs": [],
   "source": [
    "x = 3\n",
    "if x > 3: # The first condition is False,\n",
    "    print('x is greater than 3')\n",
    "elif x == 3: # and the second one is True\n",
    "    print('x is equal to 3') # so it prints out this line\n",
    "else:\n",
    "    print('x is lower than 3') # but not this one\n"
   ]
  },
  {
   "cell_type": "markdown",
   "metadata": {},
   "source": [
    "# While loops"
   ]
  },
  {
   "cell_type": "code",
   "execution_count": null,
   "metadata": {},
   "outputs": [],
   "source": [
    "x = 0\n",
    "\n",
    "while x < 5:\n",
    "    print(f\"The current value of x is {x}\")\n",
    "    x += 1  # We increment the value of x by one at each iteration\n"
   ]
  },
  {
   "cell_type": "code",
   "execution_count": null,
   "metadata": {},
   "outputs": [],
   "source": [
    "x = 0\n",
    "\n",
    "while x < 5:\n",
    "    print(f\"The current value of x is {x}\")\n",
    "    x += 1\n",
    "else:\n",
    "    print('I am not in the while loop anymore!')\n"
   ]
  },
  {
   "cell_type": "code",
   "execution_count": null,
   "metadata": {},
   "outputs": [],
   "source": [
    "x = 10\n",
    "\n",
    "while x < 5:  # The condition is not met even before entering the while loop\n",
    "    print(f\"The current value of x is {x}\")\n",
    "    x += 1\n",
    "else:\n",
    "    print('I am not in the while loop anymore!')\n"
   ]
  },
  {
   "cell_type": "code",
   "execution_count": null,
   "metadata": {},
   "outputs": [],
   "source": [
    "x = 3\n",
    "while x < 5:\n",
    "    print(x)\n"
   ]
  },
  {
   "cell_type": "code",
   "execution_count": null,
   "metadata": {},
   "outputs": [],
   "source": [
    "x = 3\n",
    "while x < 5:\n",
    "    print(\"First\")\n",
    "    print(\"Second\")\n",
    "    print(\"Third\")\n",
    "    break\n",
    "    print(\"Fourth\")\n",
    "    print(\"Fifth\")\n"
   ]
  }
 ],
 "metadata": {
  "language_info": {
   "name": "python"
  },
  "orig_nbformat": 4
 },
 "nbformat": 4,
 "nbformat_minor": 2
}
