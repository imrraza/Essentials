{
 "cells": [
  {
   "cell_type": "markdown",
   "source": [
    "# 3. Dictionaries Tuples and Operators"
   ],
   "metadata": {}
  },
  {
   "cell_type": "markdown",
   "source": [
    "- Understand the nature of a dictionary.\n",
    "- Know how to index a dictionary.\n",
    "- Know some functions and methods associated with a dictionary.\n",
    "<br><br>\n",
    "- Understand the nature of a tuple and the basic idea of mutability.\n",
    "- Understand tuple assignment and tuple unpacking.\n",
    "- Know how perform tuple indexing/slicing.\n",
    "- Know some tuple methods.\n",
    "<br> <br>\n",
    "- Understand the basics of the Boolean data type (bool).\n",
    "- Know how to use comparison operators.\n",
    "- Know how to use boolean operators."
   ],
   "metadata": {}
  },
  {
   "cell_type": "markdown",
   "source": [
    "## Dictionaries"
   ],
   "metadata": {}
  },
  {
   "cell_type": "markdown",
   "source": [
    "- Dictionaries are __unordered__ collections of key:value pairs.\n",
    "- Keys must be strings (can be any immutable type but best practice to use strings).\n",
    "- Values can be any data type, including dictionaries themselves (nesting).\n",
    "- Indexed using keys."
   ],
   "metadata": {}
  },
  {
   "cell_type": "code",
   "execution_count": null,
   "source": [
    "# flexibility of data assignment inc. lists and sub-dictionaries\n",
    "d = { 'list': 123, 'list':[0,1,2], 'dictionary':{'insidekey':[100,200]}}\n",
    "\n",
    "print(d)"
   ],
   "outputs": [],
   "metadata": {}
  },
  {
   "cell_type": "code",
   "execution_count": null,
   "source": [
    "# indexing happens sequentially\n",
    "d['k4']['insidekey'][1]"
   ],
   "outputs": [],
   "metadata": {}
  },
  {
   "cell_type": "code",
   "execution_count": null,
   "source": [
    "d = {[1, 2, 3]: 123, 'k1':[0,1,2], 'k4':{'insidekey':[100,200]}}"
   ],
   "outputs": [],
   "metadata": {}
  },
  {
   "cell_type": "code",
   "execution_count": null,
   "source": [
    "# can stack calls\n",
    "d1 = {'k1':[\"a\", \"b\", \"c\"]}\n",
    "\n",
    "print(d1['k1'][2].upper())"
   ],
   "outputs": [],
   "metadata": {}
  },
  {
   "cell_type": "code",
   "execution_count": null,
   "source": [
    "# both of these methods give the same result\n",
    "print(d1['k1'][2].upper())\n",
    "\n",
    "x = d1['k1'][2]\n",
    "print(x.upper())"
   ],
   "outputs": [],
   "metadata": {}
  },
  {
   "cell_type": "code",
   "execution_count": null,
   "source": [
    "print(d)\n",
    "d[\"k7\"] = \"NEW\"\n",
    "print(d)"
   ],
   "outputs": [],
   "metadata": {}
  },
  {
   "cell_type": "code",
   "execution_count": null,
   "source": [
    "# add by assigning new pair, reassign\n",
    "d[\"k7\"] = \"VALUE\"\n",
    "\n",
    "print(d)"
   ],
   "outputs": [],
   "metadata": {}
  },
  {
   "cell_type": "code",
   "execution_count": null,
   "source": [
    "# call all keys/values/pairs by .keys / .values / .items methods, .items returns tuples\n",
    "print(d.keys())\n",
    "print()\n",
    "print(d.values())\n",
    "print()\n",
    "print(d.items())"
   ],
   "outputs": [],
   "metadata": {}
  },
  {
   "cell_type": "code",
   "execution_count": null,
   "source": [
    "d['k7']"
   ],
   "outputs": [],
   "metadata": {}
  },
  {
   "cell_type": "code",
   "execution_count": null,
   "source": [
    "# use in to check if item in iterable\n",
    "d1 = {\"k1\": 10, \"k2\":[1,2,3], \"k3\":345}"
   ],
   "outputs": [],
   "metadata": {}
  },
  {
   "cell_type": "code",
   "execution_count": null,
   "source": [
    "\"k2\" in d1"
   ],
   "outputs": [],
   "metadata": {}
  },
  {
   "cell_type": "code",
   "execution_count": null,
   "source": [
    "345 in d1"
   ],
   "outputs": [],
   "metadata": {}
  },
  {
   "cell_type": "code",
   "execution_count": null,
   "source": [
    "d1.values()"
   ],
   "outputs": [],
   "metadata": {}
  },
  {
   "cell_type": "code",
   "execution_count": null,
   "source": [
    "345 in d1.values()"
   ],
   "outputs": [],
   "metadata": {}
  },
  {
   "cell_type": "code",
   "execution_count": null,
   "source": [
    "345 in d1.keys()"
   ],
   "outputs": [],
   "metadata": {}
  },
  {
   "cell_type": "code",
   "execution_count": null,
   "source": [
    "d1.items()"
   ],
   "outputs": [],
   "metadata": {}
  },
  {
   "cell_type": "code",
   "execution_count": null,
   "source": [
    "('k3', 345) in d1.items()"
   ],
   "outputs": [],
   "metadata": {}
  },
  {
   "cell_type": "code",
   "execution_count": null,
   "source": [
    "d1 = {\"k1\": 10, \"k2\":[1,2,3], \"k3\":345}\n",
    "d2 = {'k1': 50, 'k5': 42}\n",
    "d1.update(d2)\n",
    "print(d1)"
   ],
   "outputs": [],
   "metadata": {}
  },
  {
   "cell_type": "code",
   "execution_count": null,
   "source": [
    "d1.pop('k1')\n",
    "print(d1)"
   ],
   "outputs": [],
   "metadata": {}
  },
  {
   "cell_type": "markdown",
   "source": [
    "## Tuples"
   ],
   "metadata": {}
  },
  {
   "cell_type": "markdown",
   "source": [
    "- Tuples are like lists: flexible data input.\n",
    "- But they are immutable: cannot be changed once created.\n",
    "- Therefore no append/extend/remove/pop methods and no item reassignment for tuples.\n",
    "- Useful for holding values in data that you do not want to be reassigned by accident."
   ],
   "metadata": {}
  },
  {
   "cell_type": "code",
   "execution_count": null,
   "source": [
    "# immutable but flexible data input\n",
    "t = (1,2,3)\n",
    "t1 = (1, \"two\", 3)\n",
    "t2 = (\"a\", \"a\", \"b\")"
   ],
   "outputs": [],
   "metadata": {}
  },
  {
   "cell_type": "code",
   "execution_count": null,
   "source": [
    "t"
   ],
   "outputs": [],
   "metadata": {}
  },
  {
   "cell_type": "code",
   "execution_count": null,
   "source": [
    "# can use in operator to check if item is in tuple\n",
    "1 in t1"
   ],
   "outputs": [],
   "metadata": {}
  },
  {
   "cell_type": "code",
   "execution_count": null,
   "source": [
    "t1.pop()"
   ],
   "outputs": [],
   "metadata": {}
  },
  {
   "cell_type": "code",
   "execution_count": null,
   "source": [
    "t1[1] = \"ten\""
   ],
   "outputs": [],
   "metadata": {}
  },
  {
   "cell_type": "code",
   "execution_count": null,
   "source": [
    "# check length with len() function\n",
    "len(t)\n",
    "print(\"The length of the tuple is {x}\".format(x=len(t)))"
   ],
   "outputs": [],
   "metadata": {}
  },
  {
   "cell_type": "code",
   "execution_count": null,
   "source": [
    "# count instances using .count() method\n",
    "t2.count(\"a\")\n",
    "print(\"a occurs {x} times in the tuple\".format(x=t2.count(\"a\")))"
   ],
   "outputs": [],
   "metadata": {}
  },
  {
   "cell_type": "code",
   "execution_count": null,
   "source": [
    "t2"
   ],
   "outputs": [],
   "metadata": {}
  },
  {
   "cell_type": "code",
   "execution_count": null,
   "source": [
    "# find first index using .index() method\n",
    "t2.index(\"b\")\n",
    "print(\"b occurs first at index {x} in the tuple\".format(x=t2.index(\"b\")))"
   ],
   "outputs": [],
   "metadata": {}
  },
  {
   "cell_type": "markdown",
   "source": [
    "### Tuple Packing and Unpacking"
   ],
   "metadata": {}
  },
  {
   "cell_type": "markdown",
   "source": [
    "- One of the most powerful aspects of tuples is a technique called tuple unpacking.\n",
    "- This allows us to assign variables using commas from a single tuple in order.\n",
    "- The syntax works as below, although the brackets can be omitted, unless required to be clear."
   ],
   "metadata": {}
  },
  {
   "cell_type": "markdown",
   "source": [
    "Python here 'unpacks' the tuple automatically and picks out the values and assigns them to the comma-separated variables:"
   ],
   "metadata": {}
  },
  {
   "cell_type": "code",
   "execution_count": null,
   "source": [
    "a, b = (1, 2, 3)\n",
    "\n",
    "print(a)\n",
    "print(b)\n",
    "print(c)"
   ],
   "outputs": [],
   "metadata": {}
  },
  {
   "cell_type": "markdown",
   "source": [
    "We can also assign a tuple to a variable and perform tuple unpacking on the variable:"
   ],
   "metadata": {}
  },
  {
   "cell_type": "code",
   "execution_count": null,
   "source": [
    "t1 = (1,2,3)\n",
    "\n",
    "a, b, c = t1\n",
    "\n",
    "print(a)\n",
    "print(b)\n",
    "print(c)"
   ],
   "outputs": [],
   "metadata": {}
  },
  {
   "cell_type": "markdown",
   "source": [
    "Here, brackets are implied, Python performs tuple unpacking operation in same way 'under the hood'. <br>\n",
    "This comma notation is useful shorthand for assigning multiple variables:"
   ],
   "metadata": {}
  },
  {
   "cell_type": "code",
   "execution_count": null,
   "source": [
    "t1 = (1, 3, 5)"
   ],
   "outputs": [],
   "metadata": {}
  },
  {
   "cell_type": "code",
   "execution_count": null,
   "source": [
    "t1 = (1)"
   ],
   "outputs": [],
   "metadata": {}
  },
  {
   "cell_type": "code",
   "execution_count": null,
   "source": [
    "type(t1)"
   ],
   "outputs": [],
   "metadata": {}
  },
  {
   "cell_type": "code",
   "execution_count": null,
   "source": [
    "a, b, c = 1, 2, 3\n",
    "\n",
    "print(a)\n",
    "print(b)\n",
    "print(c)"
   ],
   "outputs": [],
   "metadata": {}
  },
  {
   "cell_type": "markdown",
   "source": [
    "Tuples can also be packed in the same way. Again, useful for multiple variable assignment:"
   ],
   "metadata": {}
  },
  {
   "cell_type": "code",
   "execution_count": null,
   "source": [
    "print(a)\n",
    "print(b)\n",
    "print(c)\n",
    "\n",
    "t1 = a, b, c\n",
    "\n",
    "print(list(t1))\n",
    "print(type(list(t1)))"
   ],
   "outputs": [],
   "metadata": {}
  },
  {
   "cell_type": "markdown",
   "source": [
    "## Booleans and Comparison Operators"
   ],
   "metadata": {}
  },
  {
   "cell_type": "markdown",
   "source": [
    "Booleans in Python function as they do in maths. <br>\n",
    "Can use: \n",
    "- (<) less than\n",
    "- (>) more than\n",
    "- (<=) less than or equal to\n",
    "- (>=) more than or equal to\n",
    "- (==) equal to (single = is assignment)\n",
    "- (!=) not equal\n",
    "\n",
    "to evaluate equality/inequality.\n",
    "\n",
    "Use keywords to chain/modify boolean operators:\n",
    "- and\n",
    "- or\n",
    "- not"
   ],
   "metadata": {}
  },
  {
   "cell_type": "code",
   "execution_count": null,
   "source": [
    "1 < 2"
   ],
   "outputs": [],
   "metadata": {}
  },
  {
   "cell_type": "code",
   "execution_count": null,
   "source": [
    "1 >= 2"
   ],
   "outputs": [],
   "metadata": {}
  },
  {
   "cell_type": "code",
   "execution_count": null,
   "source": [
    "# and/or for boolean comparison chaining\n",
    "1 < 2 and 10 < 20"
   ],
   "outputs": [],
   "metadata": {}
  },
  {
   "cell_type": "code",
   "execution_count": null,
   "source": [
    "True and False"
   ],
   "outputs": [],
   "metadata": {}
  },
  {
   "cell_type": "code",
   "execution_count": null,
   "source": [
    "True or False"
   ],
   "outputs": [],
   "metadata": {}
  },
  {
   "cell_type": "code",
   "execution_count": null,
   "source": [
    "# and/or for boolean comparison chaining\n",
    "25 > 37 or 55 < 100"
   ],
   "outputs": [],
   "metadata": {}
  },
  {
   "cell_type": "code",
   "execution_count": null,
   "source": [
    "# use not to return opposite boolean\n",
    "not 100 > 1"
   ],
   "outputs": [],
   "metadata": {}
  },
  {
   "cell_type": "code",
   "execution_count": null,
   "source": [
    "# use in keyword to check if item is in iterable (also works for strings)\n",
    "print(\"x\" in [1,2,3])\n",
    "\n",
    "print(\"x\" in ['x','y','z'])\n",
    "\n",
    "print(\"a\" in \"a world\")"
   ],
   "outputs": [],
   "metadata": {}
  },
  {
   "cell_type": "code",
   "execution_count": null,
   "source": [],
   "outputs": [],
   "metadata": {}
  },
  {
   "cell_type": "markdown",
   "source": [
    "## Data Types and Structures Exercises"
   ],
   "metadata": {}
  },
  {
   "cell_type": "markdown",
   "source": [
    "### Question 1"
   ],
   "metadata": {}
  },
  {
   "cell_type": "markdown",
   "source": [
    "Describe the key differences between a list, a dictionary and a tuple."
   ],
   "metadata": {}
  },
  {
   "cell_type": "markdown",
   "source": [
    "Answer here"
   ],
   "metadata": {}
  },
  {
   "cell_type": "markdown",
   "source": [
    "### Question 2"
   ],
   "metadata": {}
  },
  {
   "cell_type": "markdown",
   "source": [
    "What is mutability?"
   ],
   "metadata": {}
  },
  {
   "cell_type": "markdown",
   "source": [
    "Answer here"
   ],
   "metadata": {}
  },
  {
   "cell_type": "markdown",
   "source": [
    "### Question 3"
   ],
   "metadata": {}
  },
  {
   "cell_type": "markdown",
   "source": [
    "Print the string python from this dictionary:"
   ],
   "metadata": {}
  },
  {
   "cell_type": "code",
   "execution_count": null,
   "source": [
    "d = {'start here':1,'k1':[1,2,3,{'k2':[1,2,{'k3':['keep going',{'further':[1,2,3,4,[{'k4':'python'}]]}]}]}]}"
   ],
   "outputs": [],
   "metadata": {}
  },
  {
   "cell_type": "code",
   "execution_count": null,
   "source": [
    "# CODE HERE"
   ],
   "outputs": [],
   "metadata": {}
  },
  {
   "cell_type": "markdown",
   "source": [
    "### Question 4"
   ],
   "metadata": {}
  },
  {
   "cell_type": "markdown",
   "source": [
    "Create a nested dictionary called shop with sub-dictionaries called 'prices' and 'pack_sizes'. <br>\n",
    "'prices' should contain items as keys and prices as values. <br>\n",
    "'pack_sizes' should contain items as keys and pack sizes as values. <br>\n",
    "\n",
    "- Tomatoes cost 87p for a pack of 6\n",
    "- 500g sugar costs £1.09\n",
    "- Washing sponges cost 29p for a pack of 10\n",
    "- Juice is £1.89 per 1.5l bottle\n",
    "- Foil is £1.29 per 30m roll\n",
    "\n",
    "Use the same keys for both sub-dictionaries, e.g. 'tomato':0.87 and 'tomato':'Pack of 6'. <br>\n",
    "Use the provided list as the values for pack_sizes (copy-paste the strings):"
   ],
   "metadata": {}
  },
  {
   "cell_type": "code",
   "execution_count": null,
   "source": [
    "[\"Pack of 6\", \"500g\", \"Pack of 10\", \"1.5l bottle\", \"30m roll\"]\n",
    "\n",
    "shop = {}"
   ],
   "outputs": [],
   "metadata": {}
  },
  {
   "cell_type": "code",
   "execution_count": null,
   "source": [
    "shop"
   ],
   "outputs": [],
   "metadata": {}
  },
  {
   "cell_type": "markdown",
   "source": [
    "### Question 5"
   ],
   "metadata": {}
  },
  {
   "cell_type": "markdown",
   "source": [
    "Using the nested dictionary above, find the price of the following shopping list:\n",
    "\n",
    "- 18 tomatoes\n",
    "- 2 packs of washing sponges\n",
    "- 4.5 litres of juice\n",
    "- 4 rolls of foil\n",
    "- 2kg sugar\n",
    "\n",
    "Do it in this (rather tedious) order:\n",
    "\n",
    "Create 4 lists using indexing:\n",
    "- The first containing the cost per pack of each item called 'pack_cost', indexing the 'prices' dictionary.\n",
    "- The second containing the pack size of each item called 'pack', indexing the 'pack_sizes' dictionary.\n",
    "- The third containing the quantities of each item called 'quant' (created for you).\n",
    "- The fourth containing cost per pack multiplied by quantity for each item called 'tsp', indexing 'unit_cost' and 'pack'.\n",
    "\n",
    "Print your answer as a nested list of 4 lists called order.\n",
    "\n",
    "Using sum, find the subtotal (exc. VAT) as a variable called order_subtotal.\n",
    "\n",
    "Find the total (inc. VAT) as a variable called order_total (VAT is 20%).\n",
    "\n",
    "(This is a very tedious way of doing this, but it will show you why for loops are super useful later on)"
   ],
   "metadata": {}
  },
  {
   "cell_type": "code",
   "execution_count": null,
   "source": [
    "unit_cost = []\n",
    "\n",
    "pack = []\n",
    "\n",
    "quant = [3,4,2,3,4]\n",
    "\n",
    "tsp = []\n",
    "\n",
    "order = []\n",
    "\n",
    "order_subtotal\n",
    "\n",
    "order_total"
   ],
   "outputs": [],
   "metadata": {
    "scrolled": true
   }
  },
  {
   "cell_type": "code",
   "execution_count": null,
   "source": [
    "print(order)"
   ],
   "outputs": [],
   "metadata": {}
  },
  {
   "cell_type": "code",
   "execution_count": null,
   "source": [
    "print(\"The subtotal is £{:4.2f}.\".format(order_subtotal))"
   ],
   "outputs": [],
   "metadata": {}
  },
  {
   "cell_type": "code",
   "execution_count": null,
   "source": [
    "print(\"The total is £{:4.2f}.\".format(order_total))"
   ],
   "outputs": [],
   "metadata": {}
  },
  {
   "cell_type": "code",
   "execution_count": null,
   "source": [],
   "outputs": [],
   "metadata": {}
  },
  {
   "cell_type": "markdown",
   "source": [
    "## Summary\n",
    "We now understand:\n",
    "- The nature of dictionaries and tuples .\n",
    "- The basic concept of tuple unpacking.\n",
    "- The nature of booleans and how to use them.\n",
    "<br><br>\n",
    "\n",
    "We now know:\n",
    "- How to use a set to find the unique values in a list.\n",
    "- How to index a dictionary.\n",
    "- Dictionary methods including .keys(), .values(), .items().\n",
    "- Tuple methods including .count() and .index().\n",
    "- How to use booleans and logical operators.\n",
    "<br><br>\n",
    "\n",
    "Please use this notebook as a reference, and refer to the links below for more information.\n",
    "\n",
    "## Further reading\n",
    "- Dictionary methods: https://docs.python.org/3/library/stdtypes.html#typesmapping\n",
    "- Built-in types: https://docs.python.org/3/library/stdtypes.html\n",
    "- Sets: https://docs.python.org/3/library/stdtypes.html#set"
   ],
   "metadata": {}
  }
 ],
 "metadata": {
  "kernelspec": {
   "display_name": "Python 3",
   "language": "python",
   "name": "python3"
  },
  "language_info": {
   "codemirror_mode": {
    "name": "ipython",
    "version": 3
   },
   "file_extension": ".py",
   "mimetype": "text/x-python",
   "name": "python",
   "nbconvert_exporter": "python",
   "pygments_lexer": "ipython3",
   "version": "3.8.3"
  }
 },
 "nbformat": 4,
 "nbformat_minor": 4
}