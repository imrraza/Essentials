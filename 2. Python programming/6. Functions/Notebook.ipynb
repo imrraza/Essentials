{
 "cells": [
  {
   "cell_type": "markdown",
   "source": [
    "# 6: Functions"
   ],
   "metadata": {}
  },
  {
   "cell_type": "markdown",
   "source": [
    "## Learning objectives\n",
    "- Understand the nature and usage of functions.\n",
    "- Know the syntax of defining a function.\n",
    "- Understand the basic difference between functions and methods.\n",
    "- Understand arguments and outputs.\n",
    "- Know how to use the help() function.\n",
    "- Understand the idea of scope.\n",
    "- Understand the idea of recursion."
   ],
   "metadata": {}
  },
  {
   "cell_type": "markdown",
   "source": [
    "# Functions"
   ],
   "metadata": {}
  },
  {
   "cell_type": "markdown",
   "source": [
    "## Defining Functions"
   ],
   "metadata": {}
  },
  {
   "cell_type": "markdown",
   "source": [
    "- We have already seen for loops as a way of obeying the DRY (Don't Repeat Yourself) principle.\n",
    "- The next major step is functions.\n",
    "- Functions provide a way to program a block of code that only runs when called.\n",
    "- This means that we can avoid having to redefine the same operations when doing them repeatedly..\n",
    "<br><br>\n",
    "- A function takes in parameters, and can return an output.\n",
    "- The value passed in as a parameter is called an **argument**.\n",
    "- A function associated with an object is called a method.\n",
    "- An instance of a function is called a function call.\n",
    "- The basic syntax for a function is as follows:"
   ],
   "metadata": {}
  },
  {
   "cell_type": "code",
   "execution_count": null,
   "source": [
    "# function definition\r\n",
    "def function_name (param1, param2 = 1):\r\n",
    "    '''\r\n",
    "    DOCSTRING: explains function\r\n",
    "    INPUT: Name (str)\r\n",
    "    OUTPUT: Hello Name (str)\r\n",
    "    '''\r\n",
    "    # add code to run\r\n",
    "    return(\"Hello \" + param1)"
   ],
   "outputs": [],
   "metadata": {}
  },
  {
   "cell_type": "code",
   "execution_count": null,
   "source": [
    "# function call\r\n",
    "function_name(\"Zain\")"
   ],
   "outputs": [],
   "metadata": {}
  },
  {
   "cell_type": "code",
   "execution_count": null,
   "source": [
    "function_name"
   ],
   "outputs": [],
   "metadata": {}
  },
  {
   "cell_type": "markdown",
   "source": [
    "- __def__ keyword shows python you're about to define a function.\n",
    "- __Function name__ comes next, name all lower case, separated by underscores, do not use builtin keywords: see PEP8 for detail.\n",
    "- __Parameters__ defined in brackets.\n",
    "- __Default arguments__ are arguments that have a default value to revert to if no other value is specified. Here, param2 = 1 means that param2 will be 1 unless it is specified to be something else in the function call.\n",
    "- __Colon__ indicates end of definition line, next line will indent.\n",
    "- __Docstrings__ explain what the function is doing: read PEP257 or google __*'python docstrings'*__ for guidelines.\n",
    "- https://www.python.org/dev/peps/pep-0257/\n",
    "- __return__ keyword indicates output of function.\n",
    "<br><br>\n",
    "- When performing a function call, we write the name of the function followed by parentheses containing the arguments to pass in.\n",
    "- __COMMON ERROR: if you call a function without parentheses it will not run!!!__\n",
    "- It will simply show information on the function including the module it belongs to, its name, and the parameters it takes."
   ],
   "metadata": {}
  },
  {
   "cell_type": "markdown",
   "source": [
    "## Using help()"
   ],
   "metadata": {}
  },
  {
   "cell_type": "markdown",
   "source": [
    "- We can use the help() function to find documentation if we don't know what a function does.\n",
    "- Or press Shift + Tab.\n",
    "- For more detailed documentation, it is better to find and use the full documentation on the function (google it!)."
   ],
   "metadata": {}
  },
  {
   "cell_type": "code",
   "execution_count": null,
   "source": [
    "help(function_name)"
   ],
   "outputs": [],
   "metadata": {}
  },
  {
   "cell_type": "code",
   "execution_count": null,
   "source": [
    "help(print)"
   ],
   "outputs": [],
   "metadata": {}
  },
  {
   "cell_type": "markdown",
   "source": [
    "## Variable Scope"
   ],
   "metadata": {}
  },
  {
   "cell_type": "markdown",
   "source": [
    "- Variable scope refers to which parts of a program can reference a variable.\n",
    "- There are 2 kinds of scope: local and global.\n",
    "- A variable defined inside a function can only be referenced inside that function: local scope.\n",
    "- A variable defined outside a function (in the general script) can be referenced inside the function, but cannot be modified from inside the function (UnboundLocalError).\n",
    "- To change it inside the function, it must be redefined inside the function."
   ],
   "metadata": {}
  },
  {
   "cell_type": "code",
   "execution_count": null,
   "source": [
    "counter = 0 # Global scope\r\n",
    "\r\n",
    "def add_to_counter():\r\n",
    "    counter = 12\r\n",
    "    output = counter # Local scope\r\n",
    "    return output # When calling for the function, the returned value will correspond to what is included this statement\r\n",
    "\r\n",
    "x = add_to_counter()\r\n",
    "print(x) \r\n",
    "print(counter) # The local scope didn't change the global scope"
   ],
   "outputs": [],
   "metadata": {}
  },
  {
   "cell_type": "code",
   "execution_count": 22,
   "source": [
    "counter = 0 # Global scope\r\n",
    "\r\n",
    "def add_to_counter():\r\n",
    "    counter = 12 # Local scope\r\n",
    "    return counter # When calling for the function, the returned value will correspond to what is included this statement\r\n",
    "\r\n",
    "x = add_to_counter()\r\n",
    "print(x) \r\n",
    "print(counter) # The local scope didn't change the global scope"
   ],
   "outputs": [
    {
     "output_type": "stream",
     "name": "stdout",
     "text": [
      "12\n",
      "0\n"
     ]
    }
   ],
   "metadata": {}
  },
  {
   "cell_type": "markdown",
   "source": [
    "Even though global scope affects the local scope, be careful, because that doesn't mean that the global variable is actually inside the function. In this example, the global count can affect the value of the local count, but if we try to use it before defining it in the function, it won't work. In this case, it happens because it doesn't know whether it should use the local or global scope"
   ],
   "metadata": {}
  },
  {
   "cell_type": "code",
   "execution_count": 23,
   "source": [
    "counter = 0\r\n",
    "\r\n",
    "def add_to_counter():\r\n",
    "    counter = counter + 1\r\n",
    "    return counter\r\n",
    "\r\n",
    "counter = add_to_counter()\r\n",
    "\r\n",
    "print(counter)"
   ],
   "outputs": [
    {
     "output_type": "error",
     "ename": "UnboundLocalError",
     "evalue": "local variable 'counter' referenced before assignment",
     "traceback": [
      "\u001b[1;31m---------------------------------------------------------------------------\u001b[0m",
      "\u001b[1;31mUnboundLocalError\u001b[0m                         Traceback (most recent call last)",
      "\u001b[1;32m<ipython-input-23-1c3ae8454087>\u001b[0m in \u001b[0;36m<module>\u001b[1;34m\u001b[0m\n\u001b[0;32m      5\u001b[0m     \u001b[1;32mreturn\u001b[0m \u001b[0mcounter\u001b[0m\u001b[1;33m\u001b[0m\u001b[1;33m\u001b[0m\u001b[0m\n\u001b[0;32m      6\u001b[0m \u001b[1;33m\u001b[0m\u001b[0m\n\u001b[1;32m----> 7\u001b[1;33m \u001b[0mcounter\u001b[0m \u001b[1;33m=\u001b[0m \u001b[0madd_to_counter\u001b[0m\u001b[1;33m(\u001b[0m\u001b[1;33m)\u001b[0m\u001b[1;33m\u001b[0m\u001b[1;33m\u001b[0m\u001b[0m\n\u001b[0m\u001b[0;32m      8\u001b[0m \u001b[1;33m\u001b[0m\u001b[0m\n\u001b[0;32m      9\u001b[0m \u001b[0mprint\u001b[0m\u001b[1;33m(\u001b[0m\u001b[0mcounter\u001b[0m\u001b[1;33m)\u001b[0m\u001b[1;33m\u001b[0m\u001b[1;33m\u001b[0m\u001b[0m\n",
      "\u001b[1;32m<ipython-input-23-1c3ae8454087>\u001b[0m in \u001b[0;36madd_to_counter\u001b[1;34m()\u001b[0m\n\u001b[0;32m      2\u001b[0m \u001b[1;33m\u001b[0m\u001b[0m\n\u001b[0;32m      3\u001b[0m \u001b[1;32mdef\u001b[0m \u001b[0madd_to_counter\u001b[0m\u001b[1;33m(\u001b[0m\u001b[1;33m)\u001b[0m\u001b[1;33m:\u001b[0m\u001b[1;33m\u001b[0m\u001b[1;33m\u001b[0m\u001b[0m\n\u001b[1;32m----> 4\u001b[1;33m     \u001b[0mcounter\u001b[0m \u001b[1;33m=\u001b[0m \u001b[0mcounter\u001b[0m \u001b[1;33m+\u001b[0m \u001b[1;36m1\u001b[0m\u001b[1;33m\u001b[0m\u001b[1;33m\u001b[0m\u001b[0m\n\u001b[0m\u001b[0;32m      5\u001b[0m     \u001b[1;32mreturn\u001b[0m \u001b[0mcounter\u001b[0m\u001b[1;33m\u001b[0m\u001b[1;33m\u001b[0m\u001b[0m\n\u001b[0;32m      6\u001b[0m \u001b[1;33m\u001b[0m\u001b[0m\n",
      "\u001b[1;31mUnboundLocalError\u001b[0m: local variable 'counter' referenced before assignment"
     ]
    }
   ],
   "metadata": {}
  },
  {
   "cell_type": "markdown",
   "source": [
    "In this case, even we haven't defined it, Python knows the value of counter"
   ],
   "metadata": {}
  },
  {
   "cell_type": "code",
   "execution_count": 24,
   "source": [
    "counter = 0\r\n",
    "\r\n",
    "def add_to_counter():\r\n",
    "    x = counter + 1\r\n",
    "    return x\r\n",
    "\r\n",
    "counter = add_to_counter()\r\n",
    "\r\n",
    "print(counter)"
   ],
   "outputs": [
    {
     "output_type": "stream",
     "name": "stdout",
     "text": [
      "1\n"
     ]
    }
   ],
   "metadata": {}
  },
  {
   "cell_type": "markdown",
   "source": [
    "If we want to change the global scope from within a function, we can use the global keyword."
   ],
   "metadata": {}
  },
  {
   "cell_type": "code",
   "execution_count": 1,
   "source": [
    "#counter = 0\r\n",
    "\r\n",
    "def add_to_counter():\r\n",
    "    counter = 2\r\n",
    "    #global counter\r\n",
    "    counter += 12 # add 12 to counter\r\n",
    "    return counter\r\n",
    "\r\n",
    "add_to_counter()\r\n",
    "print(counter)"
   ],
   "outputs": [
    {
     "output_type": "error",
     "ename": "NameError",
     "evalue": "name 'counter' is not defined",
     "traceback": [
      "\u001b[1;31m---------------------------------------------------------------------------\u001b[0m",
      "\u001b[1;31mNameError\u001b[0m                                 Traceback (most recent call last)",
      "\u001b[1;32m<ipython-input-1-714c7c61df93>\u001b[0m in \u001b[0;36m<module>\u001b[1;34m\u001b[0m\n\u001b[0;32m      8\u001b[0m \u001b[1;33m\u001b[0m\u001b[0m\n\u001b[0;32m      9\u001b[0m \u001b[0madd_to_counter\u001b[0m\u001b[1;33m(\u001b[0m\u001b[1;33m)\u001b[0m\u001b[1;33m\u001b[0m\u001b[1;33m\u001b[0m\u001b[0m\n\u001b[1;32m---> 10\u001b[1;33m \u001b[0mprint\u001b[0m\u001b[1;33m(\u001b[0m\u001b[0mcounter\u001b[0m\u001b[1;33m)\u001b[0m\u001b[1;33m\u001b[0m\u001b[1;33m\u001b[0m\u001b[0m\n\u001b[0m",
      "\u001b[1;31mNameError\u001b[0m: name 'counter' is not defined"
     ]
    }
   ],
   "metadata": {}
  },
  {
   "cell_type": "code",
   "execution_count": null,
   "source": [
    "x = 1, 2, 3"
   ],
   "outputs": [],
   "metadata": {}
  },
  {
   "cell_type": "code",
   "execution_count": null,
   "source": [
    "type(x)"
   ],
   "outputs": [],
   "metadata": {}
  },
  {
   "cell_type": "markdown",
   "source": [
    "Functions can accepts an indefinite number of arguments. However, what if the number of arguments can vary? We can use * and ** as input for a function"
   ],
   "metadata": {}
  },
  {
   "cell_type": "code",
   "execution_count": null,
   "source": [
    "print('I am being printed', end='\\n\\n')"
   ],
   "outputs": [],
   "metadata": {}
  },
  {
   "cell_type": "code",
   "execution_count": null,
   "source": [
    "def say_hi(name):\r\n",
    "    print(f'Hello {name}')"
   ],
   "outputs": [],
   "metadata": {}
  },
  {
   "cell_type": "code",
   "execution_count": null,
   "source": [
    "say_hi(name='Ivan')"
   ],
   "outputs": [],
   "metadata": {}
  },
  {
   "cell_type": "code",
   "execution_count": null,
   "source": [
    "my_tuple = 1, 2"
   ],
   "outputs": [],
   "metadata": {}
  },
  {
   "cell_type": "code",
   "execution_count": null,
   "source": [
    "type(my_tuple)"
   ],
   "outputs": [],
   "metadata": {}
  },
  {
   "cell_type": "code",
   "execution_count": null,
   "source": [
    "my_dict = {'a': 4, 'b': 5}"
   ],
   "outputs": [],
   "metadata": {}
  },
  {
   "cell_type": "code",
   "execution_count": null,
   "source": [
    "def fun_dummy(*args, **kwargs): # args = arguments, kwargs = key word arguments\r\n",
    "    print(args) # args is now a tuple\r\n",
    "    print(kwargs) # kwargs now is a dictionary\r\n",
    "\r\n",
    "fun_dummy(1, 2, 3, 5, 6, 2, 1, a=4, b=5, c=6)\r\n",
    "# anything without any a key word argument (by key word I mean a, b, c) will be a tuple in the function\r\n",
    "# Anything with a key word argument will be included in a dictionary in the function"
   ],
   "outputs": [],
   "metadata": {}
  },
  {
   "cell_type": "markdown",
   "source": [
    "For example, let's try to give a undefined number of arguments to a function to take the sum of them:"
   ],
   "metadata": {}
  },
  {
   "cell_type": "code",
   "execution_count": null,
   "source": [
    "def sum_args(*args):\r\n",
    "    print(f'args is a tuple {args}')\r\n",
    "    return sum(args)\r\n",
    "\r\n",
    "\r\n",
    "print(sum_args(1, 42, 4.2))  # You can add as many arguments as you want\r\n",
    "print(sum_args(1, 1, 1, 1, 1, 1, 1, 1, 1, 1, 1, 1, 1, 1, 1, 1))\r\n"
   ],
   "outputs": [],
   "metadata": {}
  },
  {
   "cell_type": "markdown",
   "source": [
    "When passing **kwargs, we can use kwargs as a dictionary, so we can iterate though it as we learnt"
   ],
   "metadata": {}
  },
  {
   "cell_type": "code",
   "execution_count": null,
   "source": [
    "new_dict = {'a': 5, 'b': 3, 'c': 6}"
   ],
   "outputs": [],
   "metadata": {}
  },
  {
   "cell_type": "code",
   "execution_count": null,
   "source": [
    "x, y = (1, 2)"
   ],
   "outputs": [],
   "metadata": {}
  },
  {
   "cell_type": "code",
   "execution_count": null,
   "source": [
    "new_dict.items()"
   ],
   "outputs": [],
   "metadata": {}
  },
  {
   "cell_type": "code",
   "execution_count": null,
   "source": [
    "def keys_and_values(**kwargs):\r\n",
    "    print(f'kwargs is a dictionary: {kwargs}')\r\n",
    "    for key, value in kwargs.items():\r\n",
    "        print(f'Key is {key} and its value is {value}')\r\n",
    "\r\n",
    "keys_and_values(a=5, b=3, c=6)"
   ],
   "outputs": [],
   "metadata": {}
  },
  {
   "cell_type": "markdown",
   "source": [
    "If we try to give a regular argument to a function that only accepts keyword arguments it will throw an error"
   ],
   "metadata": {}
  },
  {
   "cell_type": "code",
   "execution_count": null,
   "source": [
    "def addition(x, y):\r\n",
    "    print(x + y)\r\n",
    "\r\n",
    "addition(1, 5)"
   ],
   "outputs": [],
   "metadata": {}
  },
  {
   "cell_type": "code",
   "execution_count": null,
   "source": [
    "def keys_and_values(*args, **kwargs):\r\n",
    "    print(f'kwargs is a dictionary: {kwargs}')\r\n",
    "    for key, value in kwargs.items():\r\n",
    "        print(f'Key is {key} and its value is {value}')\r\n",
    "\r\n",
    "keys_and_values(5, a=5, b=3, c=6)"
   ],
   "outputs": [],
   "metadata": {}
  },
  {
   "cell_type": "markdown",
   "source": [
    "And the other way arounf also throws an error\n"
   ],
   "metadata": {}
  },
  {
   "cell_type": "code",
   "execution_count": null,
   "source": [
    "def sum_args(*args):\r\n",
    "    print(f'args is a tuple {args}')\r\n",
    "    return sum(args)\r\n",
    "\r\n",
    "x = sum_args(c=1, d=2)"
   ],
   "outputs": [],
   "metadata": {}
  },
  {
   "cell_type": "markdown",
   "source": [
    "When you give positional arguments, they have to come first, and after that, you can start giving keyword arguments\n"
   ],
   "metadata": {}
  },
  {
   "cell_type": "code",
   "execution_count": null,
   "source": [
    "def fun_dummy(*args, **kwargs):  # args = arguments, kwargs = key word arguments\r\n",
    "    print(args)  # args is now a tuple\r\n",
    "    print(kwargs)  # kwargs now is a dictionary\r\n",
    "\r\n",
    "\r\n",
    "fun_dummy(1, 2, e=4, d=4, c=6, e=5)\r\n"
   ],
   "outputs": [],
   "metadata": {}
  },
  {
   "cell_type": "markdown",
   "source": [
    "## Recursion"
   ],
   "metadata": {}
  },
  {
   "cell_type": "markdown",
   "source": [
    "- A recursive function is a function that calls itself within its definition.\n",
    "- This can be hard to get your head around at first, but think of it as a breaking a big problem down into doing a small problem many times over.\n",
    "- This means that a complex problem can be made increasingly simpler by repeatedly doing a simpler and simpler and simpler form of the same problem with each repetition.\n",
    "- However, we must provide a 'simplest form' of the function where the function stops, otherwise it will repeat forever and throw an error.\n",
    "- We call this 'simplest form' a base case.\n",
    "- This is best illustrated with an example:"
   ],
   "metadata": {}
  },
  {
   "cell_type": "code",
   "execution_count": null,
   "source": [
    "# Function that takes in as input the starting number to countdown from\r\n",
    "def countdown(n):\r\n",
    "    \r\n",
    "    # base case: this is where the function will eventually stop\r\n",
    "    if n == 0:\r\n",
    "        print(0)\r\n",
    "        \r\n",
    "    # here we reduce the problem into a simpler version\r\n",
    "    else:\r\n",
    "        \r\n",
    "        # we print the countdown number\r\n",
    "        print(n)\r\n",
    "        \r\n",
    "        # we repeat the function with the next smallest number\r\n",
    "        countdown(n-1)\r\n",
    "        \r\n",
    "\r\n",
    "countdown(5)"
   ],
   "outputs": [],
   "metadata": {}
  },
  {
   "cell_type": "markdown",
   "source": [
    "## Exercise 4"
   ],
   "metadata": {}
  },
  {
   "cell_type": "markdown",
   "source": [
    "Define a recursive function called num_fact that returns the factorial of a given number."
   ],
   "metadata": {}
  },
  {
   "cell_type": "code",
   "execution_count": null,
   "source": [
    "# CODE HERE"
   ],
   "outputs": [],
   "metadata": {}
  },
  {
   "cell_type": "code",
   "execution_count": null,
   "source": [
    "num_fact(10)"
   ],
   "outputs": [],
   "metadata": {}
  },
  {
   "cell_type": "code",
   "execution_count": null,
   "source": [],
   "outputs": [],
   "metadata": {}
  },
  {
   "cell_type": "markdown",
   "source": [
    "## Summary\n",
    "Congratulations, you are now able to program in Python! <br>\n",
    "\n",
    "You should now understand:\n",
    "- How functions work in Python.\n",
    "- The nature of variable scope.\n",
    "- The idea of recursion.\n",
    "<br><br>\n",
    "\n",
    "You should now know:\n",
    "- How to define a function.\n",
    "- How to call a function.\n",
    "- How to use the help() function.\n",
    "- How to use recursive functions.\n",
    "\n",
    "## Further reading\n",
    "- Python Function Definitions: https://docs.python.org/3/reference/compound_stmts.html#function-definitions\n",
    "- Python Docstring Conventions: https://www.python.org/dev/peps/pep-0257/"
   ],
   "metadata": {}
  },
  {
   "cell_type": "code",
   "execution_count": null,
   "source": [],
   "outputs": [],
   "metadata": {}
  }
 ],
 "metadata": {
  "interpreter": {
   "hash": "66a4c1a82e4b740877da9482796a67c3d19e50649dddfb2985c1182127ae3fd0"
  },
  "kernelspec": {
   "name": "python3",
   "display_name": "Python 3.8.3 64-bit ('base': conda)"
  },
  "language_info": {
   "name": "python",
   "version": "3.8.3",
   "mimetype": "text/x-python",
   "codemirror_mode": {
    "name": "ipython",
    "version": 3
   },
   "pygments_lexer": "ipython3",
   "nbconvert_exporter": "python",
   "file_extension": ".py"
  }
 },
 "nbformat": 4,
 "nbformat_minor": 2
}