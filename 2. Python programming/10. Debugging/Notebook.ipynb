{
 "cells": [
  {
   "cell_type": "markdown",
   "source": [
    "# Debugging"
   ],
   "metadata": {}
  },
  {
   "cell_type": "markdown",
   "source": [
    "Understanding the errors raised by Python (or any programming language) is crucial for progressing with your code. If you obtain an error and don't know what it means, you will spend a considerable amount of time figuring out what to do. \r\n",
    "\r\n",
    "The best approach to know what to do when you encounter an error is adopting the right mindset. At the beginning, you might wonder where to start; luckily Python offers a compiler that trace backs the error and tells the user where to find the error.\r\n",
    "\r\n",
    "In this notebook, you will see how to interpret the error message thrown by Python. In addition, in order to save you time, you will see the most common bugs you might find, as well as some techniques that can help you through the debugging process."
   ],
   "metadata": {}
  },
  {
   "cell_type": "markdown",
   "source": [
    "# Python Standard Error"
   ],
   "metadata": {}
  },
  {
   "cell_type": "markdown",
   "source": [
    "When you run your code, if Python encounters an error during the compilation, it will print the error (or exception) directly to the console. The error tells the user how to find the conflicting line. For example:"
   ],
   "metadata": {}
  },
  {
   "cell_type": "code",
   "execution_count": 2,
   "source": [
    "x = 5\r\n",
    "y = 10\r\n",
    "z = 'Dog'\r\n",
    "\r\n",
    "print(x + y)\r\n",
    "print(x + z)\r\n",
    "print(x * y)"
   ],
   "outputs": [
    {
     "output_type": "stream",
     "name": "stdout",
     "text": [
      "15\n"
     ]
    },
    {
     "output_type": "error",
     "ename": "TypeError",
     "evalue": "unsupported operand type(s) for +: 'int' and 'str'",
     "traceback": [
      "\u001b[1;31m---------------------------------------------------------------------------\u001b[0m",
      "\u001b[1;31mTypeError\u001b[0m                                 Traceback (most recent call last)",
      "\u001b[1;32m<ipython-input-2-5c3285622dcc>\u001b[0m in \u001b[0;36m<module>\u001b[1;34m\u001b[0m\n\u001b[0;32m      4\u001b[0m \u001b[1;33m\u001b[0m\u001b[0m\n\u001b[0;32m      5\u001b[0m \u001b[0mprint\u001b[0m\u001b[1;33m(\u001b[0m\u001b[0mx\u001b[0m \u001b[1;33m+\u001b[0m \u001b[0my\u001b[0m\u001b[1;33m)\u001b[0m\u001b[1;33m\u001b[0m\u001b[1;33m\u001b[0m\u001b[0m\n\u001b[1;32m----> 6\u001b[1;33m \u001b[0mprint\u001b[0m\u001b[1;33m(\u001b[0m\u001b[0mx\u001b[0m \u001b[1;33m+\u001b[0m \u001b[0mz\u001b[0m\u001b[1;33m)\u001b[0m\u001b[1;33m\u001b[0m\u001b[1;33m\u001b[0m\u001b[0m\n\u001b[0m\u001b[0;32m      7\u001b[0m \u001b[0mprint\u001b[0m\u001b[1;33m(\u001b[0m\u001b[0mx\u001b[0m \u001b[1;33m*\u001b[0m \u001b[0my\u001b[0m\u001b[1;33m)\u001b[0m\u001b[1;33m\u001b[0m\u001b[1;33m\u001b[0m\u001b[0m\n",
      "\u001b[1;31mTypeError\u001b[0m: unsupported operand type(s) for +: 'int' and 'str'"
     ]
    }
   ],
   "metadata": {}
  },
  {
   "cell_type": "markdown",
   "source": [
    "Observe the information provided by Python:\r\n",
    "\r\n",
    "- It gives information about the nature of the error: `TypeError: unsupported operand type(s) for +: 'int' and 'str'`\r\n",
    "- It points to the line causing the error: `----> 6 print(x + z)`\r\n",
    "\r\n",
    "Notice that line 5 was executed (it printed out x + y `15`), but line 7 didn't run (it didn't print x * y `50`). That is because, as soon as Python finds an error, it will stop executing the code."
   ],
   "metadata": {}
  },
  {
   "cell_type": "markdown",
   "source": [
    "In most cases, this information will be enough for debugging your code. In this example, you know the error is in line 6. Go back to that line and correct the issue:"
   ],
   "metadata": {}
  },
  {
   "cell_type": "code",
   "execution_count": 8,
   "source": [
    "x = 5\r\n",
    "y = 10\r\n",
    "z = 'Dog'\r\n",
    "\r\n",
    "print(x + y)\r\n",
    "# print(x + z) # In this case, we can't add an integer and a string, so we can remove the line\r\n",
    "print(x * y)"
   ],
   "outputs": [
    {
     "output_type": "stream",
     "name": "stdout",
     "text": [
      "15\n",
      "50\n"
     ]
    }
   ],
   "metadata": {}
  },
  {
   "cell_type": "markdown",
   "source": [
    "Or we can try to change the value of `z`"
   ],
   "metadata": {}
  },
  {
   "cell_type": "code",
   "execution_count": 10,
   "source": [
    "x = 5\r\n",
    "y = 10\r\n",
    "z = 42\r\n",
    "\r\n",
    "print(x + y)\r\n",
    "print(x + z)\r\n",
    "print(x * y)"
   ],
   "outputs": [
    {
     "output_type": "stream",
     "name": "stdout",
     "text": [
      "15\n",
      "47\n",
      "50\n"
     ]
    }
   ],
   "metadata": {}
  },
  {
   "cell_type": "markdown",
   "source": [
    "If your solution didn't work, just Google it!\r\n",
    "<p align=center><img src=images/Google_TypeError.png width=500></p>\r\n"
   ],
   "metadata": {}
  },
  {
   "cell_type": "markdown",
   "source": [
    "If you have an error in your code, it is very likely someone else already had that problem, so not only you will find the solution, but also you will save a lot of time by not debegging the code by yourself. \r\n",
    "\r\n",
    "You might think programmers know all type of errors and their corresponding solutions, but that is far from reality! Don't feel bad because you don't remember all the methods available in a list, after all, that will take cognitive space that you can use for more important things.\r\n",
    "\r\n",
    "<p align=center><img src=images/Google_10.jpg width=300></p>"
   ],
   "metadata": {}
  },
  {
   "cell_type": "markdown",
   "source": [
    "If your problem is too complex, a simple google search might not be enough. You might need to refine your search with more specific words. This will come naturally the more you practice, but it is important that you have the right mindset from the beginning. Debugging and making the right search in Google require practice, and the sooner you begin, the sooner you will master these skills.\r\n",
    "\r\n",
    "In this notebook, you will see some common errors, and you will see how to apply these steps to solve them."
   ],
   "metadata": {}
  },
  {
   "cell_type": "markdown",
   "source": [
    "# Common Errors"
   ],
   "metadata": {}
  },
  {
   "cell_type": "markdown",
   "source": [
    "## NameError"
   ],
   "metadata": {}
  },
  {
   "cell_type": "markdown",
   "source": [
    "### __Explanation__\r\n",
    "\r\n",
    "NameError occurs when you are trying to use a variable or a function that hasn't been defined"
   ],
   "metadata": {}
  },
  {
   "cell_type": "code",
   "execution_count": 1,
   "source": [
    "x = y + 10"
   ],
   "outputs": [
    {
     "output_type": "error",
     "ename": "NameError",
     "evalue": "name 'y' is not defined",
     "traceback": [
      "\u001b[1;31m---------------------------------------------------------------------------\u001b[0m",
      "\u001b[1;31mNameError\u001b[0m                                 Traceback (most recent call last)",
      "\u001b[1;32m<ipython-input-1-87eafe7181cf>\u001b[0m in \u001b[0;36m<module>\u001b[1;34m\u001b[0m\n\u001b[1;32m----> 1\u001b[1;33m \u001b[0mx\u001b[0m \u001b[1;33m=\u001b[0m \u001b[0my\u001b[0m \u001b[1;33m+\u001b[0m \u001b[1;36m10\u001b[0m\u001b[1;33m\u001b[0m\u001b[1;33m\u001b[0m\u001b[0m\n\u001b[0m",
      "\u001b[1;31mNameError\u001b[0m: name 'y' is not defined"
     ]
    }
   ],
   "metadata": {}
  },
  {
   "cell_type": "markdown",
   "source": [
    "### __Possible Causes__\r\n",
    "\r\n",
    "A common cause of NameError is a a spelling mistake. For example, the next code defines and (tries to) prints a variable named `python`"
   ],
   "metadata": {}
  },
  {
   "cell_type": "code",
   "execution_count": 1,
   "source": [
    "python = \"I'm 30 years old!\"\r\n",
    "print(Python)"
   ],
   "outputs": [
    {
     "output_type": "error",
     "ename": "NameError",
     "evalue": "name 'Python' is not defined",
     "traceback": [
      "\u001b[1;31m---------------------------------------------------------------------------\u001b[0m",
      "\u001b[1;31mNameError\u001b[0m                                 Traceback (most recent call last)",
      "\u001b[1;32m<ipython-input-1-a8f084a3e148>\u001b[0m in \u001b[0;36m<module>\u001b[1;34m\u001b[0m\n\u001b[0;32m      1\u001b[0m \u001b[0mpython\u001b[0m \u001b[1;33m=\u001b[0m \u001b[1;34m\"I'm 30 years old!\"\u001b[0m\u001b[1;33m\u001b[0m\u001b[1;33m\u001b[0m\u001b[0m\n\u001b[1;32m----> 2\u001b[1;33m \u001b[0mprint\u001b[0m\u001b[1;33m(\u001b[0m\u001b[0mPython\u001b[0m\u001b[1;33m)\u001b[0m\u001b[1;33m\u001b[0m\u001b[1;33m\u001b[0m\u001b[0m\n\u001b[0m",
      "\u001b[1;31mNameError\u001b[0m: name 'Python' is not defined"
     ]
    }
   ],
   "metadata": {}
  },
  {
   "cell_type": "markdown",
   "source": [
    "Observe that when we defined `python` it was _lowercase_, but when printing it, it was _Capitalized_. Python is case sensitive, so `python` is different from `Python`\r\n",
    "\r\n",
    "Another common cause for getting a NameError is declaring a variable out of scope. When you define a variable inside a function, it will remain in the scope of the function (unless you declare a global variable, but we will see that later)"
   ],
   "metadata": {}
  },
  {
   "cell_type": "code",
   "execution_count": 8,
   "source": [
    "def dummy_func():\r\n",
    "    x = 'I am inside the function!'\r\n",
    "\r\n",
    "print(x)"
   ],
   "outputs": [
    {
     "output_type": "error",
     "ename": "NameError",
     "evalue": "name 'x' is not defined",
     "traceback": [
      "\u001b[1;31m---------------------------------------------------------------------------\u001b[0m",
      "\u001b[1;31mNameError\u001b[0m                                 Traceback (most recent call last)",
      "\u001b[1;32m<ipython-input-8-66661b3b4301>\u001b[0m in \u001b[0;36m<module>\u001b[1;34m\u001b[0m\n\u001b[0;32m      2\u001b[0m     \u001b[0mx\u001b[0m \u001b[1;33m=\u001b[0m \u001b[1;34m'I am inside the function!'\u001b[0m\u001b[1;33m\u001b[0m\u001b[1;33m\u001b[0m\u001b[0m\n\u001b[0;32m      3\u001b[0m \u001b[1;33m\u001b[0m\u001b[0m\n\u001b[1;32m----> 4\u001b[1;33m \u001b[0mprint\u001b[0m\u001b[1;33m(\u001b[0m\u001b[0mx\u001b[0m\u001b[1;33m)\u001b[0m\u001b[1;33m\u001b[0m\u001b[1;33m\u001b[0m\u001b[0m\n\u001b[0m",
      "\u001b[1;31mNameError\u001b[0m: name 'x' is not defined"
     ]
    }
   ],
   "metadata": {}
  },
  {
   "cell_type": "markdown",
   "source": [
    "### __How I would debug this__\r\n",
    "\r\n",
    "1. Read the final error in the traceback. It's a NameError and it says `name 'x' is not defined` which occurs on line 4 of this file.\r\n",
    "2. Check your spelling and variable name is correct\r\n",
    "3. If you are working with functions, make sure the variable is at the right scope level. For the example above, you could return the value of `x`, so it becomes part of the global scope"
   ],
   "metadata": {}
  },
  {
   "cell_type": "code",
   "execution_count": 3,
   "source": [
    "def dummy_func():\r\n",
    "    return 'I am inside the function!'\r\n",
    "\r\n",
    "x = dummy_func()\r\n",
    "print(x)"
   ],
   "outputs": [
    {
     "output_type": "stream",
     "name": "stdout",
     "text": [
      "I am inside the function!\n"
     ]
    }
   ],
   "metadata": {}
  },
  {
   "cell_type": "markdown",
   "source": [
    "## TypeError"
   ],
   "metadata": {}
  },
  {
   "cell_type": "markdown",
   "source": [
    "### __Explanation__\r\n",
    "\r\n",
    "Python will raise a TypeError when you use the wrong data type in an operation or a function."
   ],
   "metadata": {}
  },
  {
   "cell_type": "markdown",
   "source": [
    "### __Causes__"
   ],
   "metadata": {}
  },
  {
   "cell_type": "markdown",
   "source": [
    "The most common reason for getting a __TypeError__ is using a variable that can't be processed by an operation. For example, the next code will print out the square of the number introduced by the user."
   ],
   "metadata": {}
  },
  {
   "cell_type": "code",
   "execution_count": 2,
   "source": [
    "x = input('Enter your number')\r\n",
    "print(x)\r\n",
    "print(x ** 2)"
   ],
   "outputs": [
    {
     "output_type": "stream",
     "name": "stdout",
     "text": [
      "2\n"
     ]
    },
    {
     "output_type": "error",
     "ename": "TypeError",
     "evalue": "unsupported operand type(s) for ** or pow(): 'str' and 'int'",
     "traceback": [
      "\u001b[1;31m---------------------------------------------------------------------------\u001b[0m",
      "\u001b[1;31mTypeError\u001b[0m                                 Traceback (most recent call last)",
      "\u001b[1;32m<ipython-input-2-014d58182033>\u001b[0m in \u001b[0;36m<module>\u001b[1;34m\u001b[0m\n\u001b[0;32m      1\u001b[0m \u001b[0mx\u001b[0m \u001b[1;33m=\u001b[0m \u001b[0minput\u001b[0m\u001b[1;33m(\u001b[0m\u001b[1;34m'Enter your number'\u001b[0m\u001b[1;33m)\u001b[0m\u001b[1;33m\u001b[0m\u001b[1;33m\u001b[0m\u001b[0m\n\u001b[0;32m      2\u001b[0m \u001b[0mprint\u001b[0m\u001b[1;33m(\u001b[0m\u001b[0mx\u001b[0m\u001b[1;33m)\u001b[0m\u001b[1;33m\u001b[0m\u001b[1;33m\u001b[0m\u001b[0m\n\u001b[1;32m----> 3\u001b[1;33m \u001b[0mprint\u001b[0m\u001b[1;33m(\u001b[0m\u001b[0mx\u001b[0m \u001b[1;33m**\u001b[0m \u001b[1;36m2\u001b[0m\u001b[1;33m)\u001b[0m\u001b[1;33m\u001b[0m\u001b[1;33m\u001b[0m\u001b[0m\n\u001b[0m",
      "\u001b[1;31mTypeError\u001b[0m: unsupported operand type(s) for ** or pow(): 'str' and 'int'"
     ]
    }
   ],
   "metadata": {}
  },
  {
   "cell_type": "markdown",
   "source": [
    "In this case, the problem arises becauses the type of the input function returns a string (characters) by default. So, it would be equivalent to square a word.\r\n",
    "\r\n",
    "Another example is using two different data types within an operation."
   ],
   "metadata": {}
  },
  {
   "cell_type": "code",
   "execution_count": 6,
   "source": [
    "x = 'Hello'\r\n",
    "y = 5\r\n",
    "print(x + y)"
   ],
   "outputs": [
    {
     "output_type": "error",
     "ename": "TypeError",
     "evalue": "can only concatenate str (not \"int\") to str",
     "traceback": [
      "\u001b[1;31m---------------------------------------------------------------------------\u001b[0m",
      "\u001b[1;31mTypeError\u001b[0m                                 Traceback (most recent call last)",
      "\u001b[1;32m<ipython-input-6-d052e9eff03a>\u001b[0m in \u001b[0;36m<module>\u001b[1;34m\u001b[0m\n\u001b[0;32m      1\u001b[0m \u001b[0mx\u001b[0m \u001b[1;33m=\u001b[0m \u001b[1;34m'Hello'\u001b[0m\u001b[1;33m\u001b[0m\u001b[1;33m\u001b[0m\u001b[0m\n\u001b[0;32m      2\u001b[0m \u001b[0my\u001b[0m \u001b[1;33m=\u001b[0m \u001b[1;36m5\u001b[0m\u001b[1;33m\u001b[0m\u001b[1;33m\u001b[0m\u001b[0m\n\u001b[1;32m----> 3\u001b[1;33m \u001b[0mprint\u001b[0m\u001b[1;33m(\u001b[0m\u001b[0mx\u001b[0m \u001b[1;33m+\u001b[0m \u001b[0my\u001b[0m\u001b[1;33m)\u001b[0m\u001b[1;33m\u001b[0m\u001b[1;33m\u001b[0m\u001b[0m\n\u001b[0m",
      "\u001b[1;31mTypeError\u001b[0m: can only concatenate str (not \"int\") to str"
     ]
    }
   ],
   "metadata": {}
  },
  {
   "cell_type": "markdown",
   "source": [
    "Another common reason is accidentally replacing a Python built-in function. `print` is a function built in Python, but after replacing it, `print` will obtain the specified value."
   ],
   "metadata": {}
  },
  {
   "cell_type": "code",
   "execution_count": 3,
   "source": [
    "print = 5\r\n",
    "print('Hello World')"
   ],
   "outputs": [
    {
     "output_type": "error",
     "ename": "TypeError",
     "evalue": "'int' object is not callable",
     "traceback": [
      "\u001b[1;31m---------------------------------------------------------------------------\u001b[0m",
      "\u001b[1;31mTypeError\u001b[0m                                 Traceback (most recent call last)",
      "\u001b[1;32m<ipython-input-3-e7a974980d65>\u001b[0m in \u001b[0;36m<module>\u001b[1;34m\u001b[0m\n\u001b[0;32m      1\u001b[0m \u001b[0mprint\u001b[0m \u001b[1;33m=\u001b[0m \u001b[1;36m5\u001b[0m\u001b[1;33m\u001b[0m\u001b[1;33m\u001b[0m\u001b[0m\n\u001b[1;32m----> 2\u001b[1;33m \u001b[0mprint\u001b[0m\u001b[1;33m(\u001b[0m\u001b[1;34m'Hello World'\u001b[0m\u001b[1;33m)\u001b[0m\u001b[1;33m\u001b[0m\u001b[1;33m\u001b[0m\u001b[0m\n\u001b[0m",
      "\u001b[1;31mTypeError\u001b[0m: 'int' object is not callable"
     ]
    }
   ],
   "metadata": {}
  },
  {
   "cell_type": "markdown",
   "source": [
    "As you can observe, the returned error says that you can't __'call'__ for an integer, meaning that an integer is not a function."
   ],
   "metadata": {}
  },
  {
   "cell_type": "markdown",
   "source": [
    "### How I would debug this\r\n",
    "\r\n",
    "1. Read the final error in the traceback. It's a __TypeError__ and it says `'int' object is not callable` which occurs on line 2 of this file.\r\n",
    "2. Check the data type you are using\r\n",
    "3. Observe which variable is causing the issue. In this case, the problem is `print` that has become an integer\r\n",
    "4. Go back and see where `print` changed its value\r\n",
    "\r\n",
    "As the name suggest, the main problem with __TypeError__ is the type of the used variable. You can check the type of each variable using the `type` function."
   ],
   "metadata": {}
  },
  {
   "cell_type": "code",
   "execution_count": 1,
   "source": [
    "x = input('Enter your number')\r\n",
    "print(f'The type of x is {type(x)}')\r\n",
    "y = int(x)\r\n",
    "print(f'The type of y is {type(y)}')\r\n",
    "print(y ** 2)"
   ],
   "outputs": [
    {
     "output_type": "stream",
     "name": "stdout",
     "text": [
      "The type of x is <class 'str'>\n",
      "The type of y is <class 'int'>\n",
      "4\n"
     ]
    }
   ],
   "metadata": {}
  },
  {
   "cell_type": "markdown",
   "source": [
    "## ValueError"
   ],
   "metadata": {}
  },
  {
   "cell_type": "markdown",
   "source": [
    "\r\n",
    "### __Explanation__\r\n",
    "\r\n",
    "ValueError occurs when you are using the right data type for an operation or function, but an inappropriate value. "
   ],
   "metadata": {}
  },
  {
   "cell_type": "markdown",
   "source": [
    "### __Causes__\r\n",
    "\r\n",
    "One of the most common cases is casting a string to an integer, and passing a string that doesn't represent an integer."
   ],
   "metadata": {}
  },
  {
   "cell_type": "code",
   "execution_count": 2,
   "source": [
    "x = '2'\r\n",
    "print(f'The type of x is {type(x)}')\r\n",
    "y = int(x)\r\n",
    "print(f'The type of y is {type(y)}')"
   ],
   "outputs": [
    {
     "output_type": "stream",
     "name": "stdout",
     "text": [
      "The type of x is <class 'str'>\n",
      "The type of y is <class 'int'>\n"
     ]
    }
   ],
   "metadata": {}
  },
  {
   "cell_type": "markdown",
   "source": [
    "The code above works fine, but let's see the following code:"
   ],
   "metadata": {}
  },
  {
   "cell_type": "code",
   "execution_count": 3,
   "source": [
    "x = 'Dog'\r\n",
    "print(f'The type of x is {type(x)}')\r\n",
    "y = int(x)\r\n",
    "print(f'The type of y is {type(y)}')"
   ],
   "outputs": [
    {
     "output_type": "stream",
     "name": "stdout",
     "text": [
      "The type of x is <class 'str'>\n"
     ]
    },
    {
     "output_type": "error",
     "ename": "ValueError",
     "evalue": "invalid literal for int() with base 10: 'Dog'",
     "traceback": [
      "\u001b[1;31m---------------------------------------------------------------------------\u001b[0m",
      "\u001b[1;31mValueError\u001b[0m                                Traceback (most recent call last)",
      "\u001b[1;32m<ipython-input-3-4d9f42a11682>\u001b[0m in \u001b[0;36m<module>\u001b[1;34m\u001b[0m\n\u001b[0;32m      1\u001b[0m \u001b[0mx\u001b[0m \u001b[1;33m=\u001b[0m \u001b[1;34m'Dog'\u001b[0m\u001b[1;33m\u001b[0m\u001b[1;33m\u001b[0m\u001b[0m\n\u001b[0;32m      2\u001b[0m \u001b[0mprint\u001b[0m\u001b[1;33m(\u001b[0m\u001b[1;34mf'The type of x is {type(x)}'\u001b[0m\u001b[1;33m)\u001b[0m\u001b[1;33m\u001b[0m\u001b[1;33m\u001b[0m\u001b[0m\n\u001b[1;32m----> 3\u001b[1;33m \u001b[0my\u001b[0m \u001b[1;33m=\u001b[0m \u001b[0mint\u001b[0m\u001b[1;33m(\u001b[0m\u001b[0mx\u001b[0m\u001b[1;33m)\u001b[0m\u001b[1;33m\u001b[0m\u001b[1;33m\u001b[0m\u001b[0m\n\u001b[0m\u001b[0;32m      4\u001b[0m \u001b[0mprint\u001b[0m\u001b[1;33m(\u001b[0m\u001b[1;34mf'The type of y is {type(y)}'\u001b[0m\u001b[1;33m)\u001b[0m\u001b[1;33m\u001b[0m\u001b[1;33m\u001b[0m\u001b[0m\n",
      "\u001b[1;31mValueError\u001b[0m: invalid literal for int() with base 10: 'Dog'"
     ]
    }
   ],
   "metadata": {}
  },
  {
   "cell_type": "markdown",
   "source": [
    "As the error explains, the value we pass to the `int` function is not valid, because it doesn't represent a number.\r\n",
    "\r\n",
    "### __How I would debug this__\r\n",
    "\r\n",
    "1. Read the final error in the traceback. It's a __ValueError__ and it says `invalid literal for int() with base 10: 'Dog'` which occurs on line 3 of this cell.\r\n",
    "2. Check the __value__ you are passing to the function, in this case, it is `Dog`\r\n",
    "3. Make sure you are applying the appropriate function or the correct value"
   ],
   "metadata": {}
  },
  {
   "cell_type": "markdown",
   "source": [
    "\r\n",
    "ValueErrors are often defined by the developers when creating their applications. That way, they will prevent you from using values that will not work with their application. "
   ],
   "metadata": {}
  },
  {
   "cell_type": "code",
   "execution_count": 4,
   "source": [
    "import math\r\n",
    "math.sqrt(-1)"
   ],
   "outputs": [
    {
     "output_type": "error",
     "ename": "ValueError",
     "evalue": "math domain error",
     "traceback": [
      "\u001b[1;31m---------------------------------------------------------------------------\u001b[0m",
      "\u001b[1;31mValueError\u001b[0m                                Traceback (most recent call last)",
      "\u001b[1;32m<ipython-input-4-ed311b1c5dd9>\u001b[0m in \u001b[0;36m<module>\u001b[1;34m\u001b[0m\n\u001b[0;32m      1\u001b[0m \u001b[1;32mimport\u001b[0m \u001b[0mmath\u001b[0m\u001b[1;33m\u001b[0m\u001b[1;33m\u001b[0m\u001b[0m\n\u001b[1;32m----> 2\u001b[1;33m \u001b[0mmath\u001b[0m\u001b[1;33m.\u001b[0m\u001b[0msqrt\u001b[0m\u001b[1;33m(\u001b[0m\u001b[1;33m-\u001b[0m\u001b[1;36m1\u001b[0m\u001b[1;33m)\u001b[0m\u001b[1;33m\u001b[0m\u001b[1;33m\u001b[0m\u001b[0m\n\u001b[0m",
      "\u001b[1;31mValueError\u001b[0m: math domain error"
     ]
    }
   ],
   "metadata": {}
  },
  {
   "cell_type": "markdown",
   "source": [
    "### __How I would debug this__\r\n",
    "\r\n",
    "1. Read the final error in the traceback. It's a __ValueError__ and it says `math domain error` which occurs on line 2 of this file.\r\n",
    "2. Check the __value__ you are passing to the function. In this case, we are trying to calculate the square root of `-1`.\r\n",
    "3. You can either:\r\n",
    "    - Change the value of the variable\r\n",
    "    - Find another function that is able to calculate the square root of a negative number\r\n",
    "\r\n",
    "For the latter option, this is how you should proceed:\r\n",
    "1. Google it!\r\n",
    "<p align=center><img src=images/Google_1.png width=500></p>\r\n",
    "2. If that didn't work, try different key words. \r\n",
    "<p align=center><img src=images/Google_2.png width=500></p>"
   ],
   "metadata": {}
  },
  {
   "cell_type": "markdown",
   "source": [
    "3. Try the found solution"
   ],
   "metadata": {}
  },
  {
   "cell_type": "code",
   "execution_count": 4,
   "source": [
    "import cmath\r\n",
    "cmath.sqrt(-1)"
   ],
   "outputs": [
    {
     "output_type": "execute_result",
     "data": {
      "text/plain": [
       "1j"
      ]
     },
     "metadata": {},
     "execution_count": 4
    }
   ],
   "metadata": {}
  },
  {
   "cell_type": "markdown",
   "source": [
    "4. It worked! However, if that didn't work either, you can keep refining your search until you find the right answer"
   ],
   "metadata": {}
  },
  {
   "cell_type": "markdown",
   "source": [
    "## SyntaxError"
   ],
   "metadata": {}
  },
  {
   "cell_type": "markdown",
   "source": [
    "### __Explanation__\r\n",
    "SyntaxError is raised when Python finds a syntax error"
   ],
   "metadata": {}
  },
  {
   "cell_type": "markdown",
   "source": [
    "### __Causes__\r\n",
    "One of the most common reasons is not closing the brackets or the quotes"
   ],
   "metadata": {}
  },
  {
   "cell_type": "code",
   "execution_count": 7,
   "source": [
    "x = 'Hello"
   ],
   "outputs": [
    {
     "output_type": "error",
     "ename": "SyntaxError",
     "evalue": "EOL while scanning string literal (<ipython-input-7-6e6ee195e71c>, line 1)",
     "traceback": [
      "\u001b[1;36m  File \u001b[1;32m\"<ipython-input-7-6e6ee195e71c>\"\u001b[1;36m, line \u001b[1;32m1\u001b[0m\n\u001b[1;33m    x = 'Hello\u001b[0m\n\u001b[1;37m              ^\u001b[0m\n\u001b[1;31mSyntaxError\u001b[0m\u001b[1;31m:\u001b[0m EOL while scanning string literal\n"
     ]
    }
   ],
   "metadata": {}
  },
  {
   "cell_type": "code",
   "execution_count": 8,
   "source": [
    "y = (5 + 3"
   ],
   "outputs": [
    {
     "output_type": "error",
     "ename": "SyntaxError",
     "evalue": "unexpected EOF while parsing (<ipython-input-8-1a1cdaf4f567>, line 1)",
     "traceback": [
      "\u001b[1;36m  File \u001b[1;32m\"<ipython-input-8-1a1cdaf4f567>\"\u001b[1;36m, line \u001b[1;32m1\u001b[0m\n\u001b[1;33m    y = (5 + 3\u001b[0m\n\u001b[1;37m              ^\u001b[0m\n\u001b[1;31mSyntaxError\u001b[0m\u001b[1;31m:\u001b[0m unexpected EOF while parsing\n"
     ]
    }
   ],
   "metadata": {}
  },
  {
   "cell_type": "markdown",
   "source": [
    "### __How I would debug this__"
   ],
   "metadata": {}
  },
  {
   "cell_type": "markdown",
   "source": [
    "1. Read the final error in the traceback. It's a __ValueError__ and it says `unexpected EOF while parsing` which occurs on line 1 of this cell.\r\n",
    "2. If you are unsure about the meaning of the error, there is an easy solution: Google it!\r\n",
    "<p align=center><img src=images/Google_EOF.png width=500></p>\r\n",
    "3. We can see that EOF means End of File, and it is raised when there is a mistake in the syntax. Thus, go to line 1 and correct that mistake\r\n",
    "\r\n",
    "One trick you can use is to check the closing bracket observing the underlined or highlighted bracket."
   ],
   "metadata": {}
  },
  {
   "cell_type": "code",
   "execution_count": 9,
   "source": [
    "y = ((5 + 3) / 2)"
   ],
   "outputs": [],
   "metadata": {}
  },
  {
   "cell_type": "markdown",
   "source": [
    "Observe that, when the cursor is next the right bracket, the corresponding bracket (leftmost) is highlighted. On the other hand, if the cursor is next to one of the inner brackets, the corresponding (inner) bracket is highlighted.\r\n",
    "\r\n",
    "<p align=center><img src=images/outer.png width=200> <img src=images/inner.png width=200></p>"
   ],
   "metadata": {}
  },
  {
   "cell_type": "markdown",
   "source": [
    "## IndexError and KeyError"
   ],
   "metadata": {}
  },
  {
   "cell_type": "markdown",
   "source": [
    "### __Explanation and Cause__"
   ],
   "metadata": {}
  },
  {
   "cell_type": "markdown",
   "source": [
    "These errors happen when you are trying to access an element that is out of range (`IndexError`) or when you are using a non existent key in a dictionary (`KeyError`)"
   ],
   "metadata": {}
  },
  {
   "cell_type": "code",
   "execution_count": 14,
   "source": [
    "ls = [1, 2, 3]\r\n",
    "ls[3]"
   ],
   "outputs": [
    {
     "output_type": "error",
     "ename": "IndexError",
     "evalue": "list index out of range",
     "traceback": [
      "\u001b[1;31m---------------------------------------------------------------------------\u001b[0m",
      "\u001b[1;31mIndexError\u001b[0m                                Traceback (most recent call last)",
      "\u001b[1;32m<ipython-input-14-fb13742f3dd5>\u001b[0m in \u001b[0;36m<module>\u001b[1;34m\u001b[0m\n\u001b[0;32m      1\u001b[0m \u001b[0mls\u001b[0m \u001b[1;33m=\u001b[0m \u001b[1;33m[\u001b[0m\u001b[1;36m1\u001b[0m\u001b[1;33m,\u001b[0m \u001b[1;36m2\u001b[0m\u001b[1;33m,\u001b[0m \u001b[1;36m3\u001b[0m\u001b[1;33m]\u001b[0m\u001b[1;33m\u001b[0m\u001b[1;33m\u001b[0m\u001b[0m\n\u001b[1;32m----> 2\u001b[1;33m \u001b[0mls\u001b[0m\u001b[1;33m[\u001b[0m\u001b[1;36m3\u001b[0m\u001b[1;33m]\u001b[0m\u001b[1;33m\u001b[0m\u001b[1;33m\u001b[0m\u001b[0m\n\u001b[0m",
      "\u001b[1;31mIndexError\u001b[0m: list index out of range"
     ]
    }
   ],
   "metadata": {}
  },
  {
   "cell_type": "markdown",
   "source": [
    "Remember that Python is zero-indexed, so this error is thrown because index 3 will point to the fourth element, but we don't have four elements in `ls`"
   ],
   "metadata": {}
  },
  {
   "cell_type": "code",
   "execution_count": 15,
   "source": [
    "my_dict = {'Name': 'Walter White', 'Occupation': 'Cook'}\r\n",
    "my_dict['Age']"
   ],
   "outputs": [
    {
     "output_type": "error",
     "ename": "KeyError",
     "evalue": "'Age'",
     "traceback": [
      "\u001b[1;31m---------------------------------------------------------------------------\u001b[0m",
      "\u001b[1;31mKeyError\u001b[0m                                  Traceback (most recent call last)",
      "\u001b[1;32m<ipython-input-15-f7fae62e8e3d>\u001b[0m in \u001b[0;36m<module>\u001b[1;34m\u001b[0m\n\u001b[0;32m      1\u001b[0m \u001b[0mmy_dict\u001b[0m \u001b[1;33m=\u001b[0m \u001b[1;33m{\u001b[0m\u001b[1;34m'Name'\u001b[0m\u001b[1;33m:\u001b[0m \u001b[1;34m'Walter White'\u001b[0m\u001b[1;33m,\u001b[0m \u001b[1;34m'Occupation'\u001b[0m\u001b[1;33m:\u001b[0m \u001b[1;34m'Cook'\u001b[0m\u001b[1;33m}\u001b[0m\u001b[1;33m\u001b[0m\u001b[1;33m\u001b[0m\u001b[0m\n\u001b[1;32m----> 2\u001b[1;33m \u001b[0mmy_dict\u001b[0m\u001b[1;33m[\u001b[0m\u001b[1;34m'Age'\u001b[0m\u001b[1;33m]\u001b[0m\u001b[1;33m\u001b[0m\u001b[1;33m\u001b[0m\u001b[0m\n\u001b[0m",
      "\u001b[1;31mKeyError\u001b[0m: 'Age'"
     ]
    }
   ],
   "metadata": {}
  },
  {
   "cell_type": "markdown",
   "source": [
    "We see that `my_dict` doesn't have a key named `Age`, so it will throw an error. Don't confuse it when you want to assign a value to a non-existent key. In that case, a new key will be added to the dictionary:"
   ],
   "metadata": {}
  },
  {
   "cell_type": "code",
   "execution_count": 16,
   "source": [
    "my_dict = {'Name': 'Walter White', 'Occupation': 'Cook'}\r\n",
    "my_dict['Age'] = 52\r\n",
    "print(my_dict)"
   ],
   "outputs": [
    {
     "output_type": "stream",
     "name": "stdout",
     "text": [
      "{'Name': 'Walter White', 'Occupation': 'Cook', 'Age': 52}\n"
     ]
    }
   ],
   "metadata": {}
  },
  {
   "cell_type": "markdown",
   "source": [
    "### __How I would debug this__"
   ],
   "metadata": {}
  },
  {
   "cell_type": "markdown",
   "source": [
    "IndexErrors and KeyErrors are quite common when you start your Python journey, but they are simple to solve. Let's observe the IndexError first"
   ],
   "metadata": {}
  },
  {
   "cell_type": "code",
   "execution_count": 5,
   "source": [
    "ls = [1, 2, 3]\r\n",
    "ls[3]"
   ],
   "outputs": [
    {
     "output_type": "error",
     "ename": "IndexError",
     "evalue": "list index out of range",
     "traceback": [
      "\u001b[1;31m---------------------------------------------------------------------------\u001b[0m",
      "\u001b[1;31mIndexError\u001b[0m                                Traceback (most recent call last)",
      "\u001b[1;32m<ipython-input-5-fb13742f3dd5>\u001b[0m in \u001b[0;36m<module>\u001b[1;34m\u001b[0m\n\u001b[0;32m      1\u001b[0m \u001b[0mls\u001b[0m \u001b[1;33m=\u001b[0m \u001b[1;33m[\u001b[0m\u001b[1;36m1\u001b[0m\u001b[1;33m,\u001b[0m \u001b[1;36m2\u001b[0m\u001b[1;33m,\u001b[0m \u001b[1;36m3\u001b[0m\u001b[1;33m]\u001b[0m\u001b[1;33m\u001b[0m\u001b[1;33m\u001b[0m\u001b[0m\n\u001b[1;32m----> 2\u001b[1;33m \u001b[0mls\u001b[0m\u001b[1;33m[\u001b[0m\u001b[1;36m3\u001b[0m\u001b[1;33m]\u001b[0m\u001b[1;33m\u001b[0m\u001b[1;33m\u001b[0m\u001b[0m\n\u001b[0m",
      "\u001b[1;31mIndexError\u001b[0m: list index out of range"
     ]
    }
   ],
   "metadata": {}
  },
  {
   "cell_type": "markdown",
   "source": [
    "1. Read the final error in the traceback. It's an __IndexError__ and it says `list index out of range` which occurs on line 2 of this cell.\r\n",
    "2. Make sure that your list (or other sequential data structure) has the number of elements you are trying to access. You can see the number of elements in your list using the `len` function"
   ],
   "metadata": {}
  },
  {
   "cell_type": "code",
   "execution_count": 17,
   "source": [
    "ls = [1, 2, 3]\r\n",
    "print(len(ls))"
   ],
   "outputs": [
    {
     "output_type": "stream",
     "name": "stdout",
     "text": [
      "3\n"
     ]
    }
   ],
   "metadata": {}
  },
  {
   "cell_type": "markdown",
   "source": [
    "So the last __index__ we can get access to is __2__ `(length of list - 1)`\r\n",
    "\r\n",
    "Let's observe the dictionary example:"
   ],
   "metadata": {}
  },
  {
   "cell_type": "code",
   "execution_count": 6,
   "source": [
    "my_dict = {'Name': 'Walter White', 'Occupation': 'Cook'}\r\n",
    "my_dict['Age']"
   ],
   "outputs": [
    {
     "output_type": "error",
     "ename": "KeyError",
     "evalue": "'Age'",
     "traceback": [
      "\u001b[1;31m---------------------------------------------------------------------------\u001b[0m",
      "\u001b[1;31mKeyError\u001b[0m                                  Traceback (most recent call last)",
      "\u001b[1;32m<ipython-input-6-f7fae62e8e3d>\u001b[0m in \u001b[0;36m<module>\u001b[1;34m\u001b[0m\n\u001b[0;32m      1\u001b[0m \u001b[0mmy_dict\u001b[0m \u001b[1;33m=\u001b[0m \u001b[1;33m{\u001b[0m\u001b[1;34m'Name'\u001b[0m\u001b[1;33m:\u001b[0m \u001b[1;34m'Walter White'\u001b[0m\u001b[1;33m,\u001b[0m \u001b[1;34m'Occupation'\u001b[0m\u001b[1;33m:\u001b[0m \u001b[1;34m'Cook'\u001b[0m\u001b[1;33m}\u001b[0m\u001b[1;33m\u001b[0m\u001b[1;33m\u001b[0m\u001b[0m\n\u001b[1;32m----> 2\u001b[1;33m \u001b[0mmy_dict\u001b[0m\u001b[1;33m[\u001b[0m\u001b[1;34m'Age'\u001b[0m\u001b[1;33m]\u001b[0m\u001b[1;33m\u001b[0m\u001b[1;33m\u001b[0m\u001b[0m\n\u001b[0m",
      "\u001b[1;31mKeyError\u001b[0m: 'Age'"
     ]
    }
   ],
   "metadata": {}
  },
  {
   "cell_type": "markdown",
   "source": [
    "1. Read the final error in the traceback. It's a __KeyError__ and it says `'Age'` which occurs on line 2 of this cell.\r\n",
    "2. That is the name of the non-existent key.\r\n",
    "3. For the dictionary, you can check the keys in the dictionary using the `keys()` method."
   ],
   "metadata": {}
  },
  {
   "cell_type": "code",
   "execution_count": 18,
   "source": [
    "my_dict = {'Name': 'Walter White', 'Occupation': 'Cook'}\r\n",
    "print(my_dict.keys())"
   ],
   "outputs": [
    {
     "output_type": "stream",
     "name": "stdout",
     "text": [
      "dict_keys(['Name', 'Occupation'])\n"
     ]
    }
   ],
   "metadata": {}
  },
  {
   "cell_type": "markdown",
   "source": [
    "4. Go back to your dictionary, and make sure you add that key, or that you are using the right key."
   ],
   "metadata": {}
  },
  {
   "cell_type": "markdown",
   "source": [
    "## AttributeError"
   ],
   "metadata": {}
  },
  {
   "cell_type": "markdown",
   "source": [
    "### __Explanation__\r\n",
    "\r\n",
    "This error is thrown when you are trying to access an attribute or a method in an object with no such attribute or method"
   ],
   "metadata": {}
  },
  {
   "cell_type": "markdown",
   "source": [
    "### __Causes__\r\n",
    "\r\n",
    "The most common cause of this error is confusing the type of data we are handling. For example, dictionaries have the method `keys()`, but lists don't have it. "
   ],
   "metadata": {}
  },
  {
   "cell_type": "code",
   "execution_count": 21,
   "source": [
    "ls = [1, 2, 3]\r\n",
    "ls.keys()"
   ],
   "outputs": [
    {
     "output_type": "error",
     "ename": "AttributeError",
     "evalue": "'list' object has no attribute 'keys'",
     "traceback": [
      "\u001b[1;31m---------------------------------------------------------------------------\u001b[0m",
      "\u001b[1;31mAttributeError\u001b[0m                            Traceback (most recent call last)",
      "\u001b[1;32m<ipython-input-21-cf39c5813e09>\u001b[0m in \u001b[0;36m<module>\u001b[1;34m\u001b[0m\n\u001b[0;32m      1\u001b[0m \u001b[0mls\u001b[0m \u001b[1;33m=\u001b[0m \u001b[1;33m[\u001b[0m\u001b[1;36m1\u001b[0m\u001b[1;33m,\u001b[0m \u001b[1;36m2\u001b[0m\u001b[1;33m,\u001b[0m \u001b[1;36m3\u001b[0m\u001b[1;33m]\u001b[0m\u001b[1;33m\u001b[0m\u001b[1;33m\u001b[0m\u001b[0m\n\u001b[1;32m----> 2\u001b[1;33m \u001b[0mls\u001b[0m\u001b[1;33m.\u001b[0m\u001b[0mkeys\u001b[0m\u001b[1;33m(\u001b[0m\u001b[1;33m)\u001b[0m\u001b[1;33m\u001b[0m\u001b[1;33m\u001b[0m\u001b[0m\n\u001b[0m",
      "\u001b[1;31mAttributeError\u001b[0m: 'list' object has no attribute 'keys'"
     ]
    }
   ],
   "metadata": {}
  },
  {
   "cell_type": "markdown",
   "source": [
    "### __How I would debug this__"
   ],
   "metadata": {}
  },
  {
   "cell_type": "markdown",
   "source": [
    "1. Read the final error in the traceback. It's a __AttributeError__ and it says `'list' object has no attribute 'keys'` which occurs on line 2 of this cell.\r\n",
    "2. Check the methods a data type has. If you are working in a modern IDE, such as VSCode, you can press Ctrl + Space, to see the available methods and attributes. For this to work, you might need to have internet connection.\r\n",
    "<p align=center><img src=images/attributeerror.png width=400></p>\r\n",
    "\r\n",
    "3. If you are unsure about the methods that a specific data type has, you know the drill: Google it!\r\n",
    "<p align=center><img src=images/Google_dict_methods.png width=400></p>"
   ],
   "metadata": {}
  },
  {
   "cell_type": "markdown",
   "source": [
    "This way, you can make sure you will use a method that the variable does have. You can also check the Python documentation to check the methods these data structures have. Check out this [page](https://docs.python.org/3/tutorial/datastructures.html) for more information"
   ],
   "metadata": {}
  },
  {
   "cell_type": "markdown",
   "source": [
    "# Hidden Bugs"
   ],
   "metadata": {}
  },
  {
   "cell_type": "markdown",
   "source": [
    "Sometimes your code will not generate the output you expect, despite it doesn't throw an error. For example, observe the following code, where our __initial__ intention is to multiply each number by 2."
   ],
   "metadata": {}
  },
  {
   "cell_type": "code",
   "execution_count": 1,
   "source": [
    "x = [1, 2, 3]\r\n",
    "print(x * 2)"
   ],
   "outputs": [
    {
     "output_type": "stream",
     "name": "stdout",
     "text": [
      "[1, 2, 3, 1, 2, 3]\n"
     ]
    }
   ],
   "metadata": {}
  },
  {
   "cell_type": "markdown",
   "source": [
    "We didn't get any error, but we didn't get the expected output either! You will eventually know how to multiply each element in a list, but you can also use the same steps you learnt during this notebook\r\n",
    "\r\n",
    "<p align=center><img src=images/Google_list.png width=400></p>"
   ],
   "metadata": {}
  },
  {
   "cell_type": "code",
   "execution_count": 2,
   "source": [
    "x = [1, 2, 3]\r\n",
    "multiplied_list = [element * 2 for element in x]\r\n",
    "print(multiplied_list)"
   ],
   "outputs": [
    {
     "output_type": "stream",
     "name": "stdout",
     "text": [
      "[2, 4, 6]\n"
     ]
    }
   ],
   "metadata": {}
  },
  {
   "cell_type": "markdown",
   "source": [
    "# Final Notes"
   ],
   "metadata": {}
  },
  {
   "cell_type": "markdown",
   "source": [
    "In this notebook we showed you the most common errors you will find when you start using Python. Eventually, you will see more errors, you can check them in the following [link](https://docs.python.org/3/library/exceptions.html). \r\n",
    "\r\n",
    "As a rule of thumb, if you find a bug or an error, you should follow the next steps:\r\n",
    "1. Read the error, and try to solve it based on the output of the error\r\n",
    "2. If you weren't able to solve it, Google the problem. \r\n",
    "3. If that didn't work, refine your search.\r\n",
    "4. Use the solutions you find in your searches and keep refining your key words. \r\n",
    "5. If you get really stuck, ask your instructor to help you figure out what is wrong.\r\n",
    "\r\n",
    "By repeating this process you will slowly get the habit of writing better code with fewer and fewer errors.\r\n",
    "\r\n",
    "## It's all about having the correct mindset\r\n",
    "\r\n",
    "Throughout this notebook, you saw the steps to take when an error appears. However, don't think as a precedural algorithm that will always work, think about it as an way of working. \r\n",
    "\r\n",
    "When you have a problem in real life, you don't sit there waiting for someone to solve it, you take the necessary actions to solve it. In programming it shouldn't be any different, look for the solution, and eventually you won't commit the same mistakes. Coding, as other disciplines, is based on practicing. \r\n",
    "\r\n",
    "> <font size=+1> Starting with the right mindset will save you vast amounts of time eventually!</font>"
   ],
   "metadata": {}
  },
  {
   "cell_type": "markdown",
   "source": [
    "# Extra: For really complex debugging use the Debugger"
   ],
   "metadata": {}
  },
  {
   "cell_type": "markdown",
   "source": [
    "If you are working with an IDE, you can debug your code using the debugger it has integrated. The debugger can be used in both notebooks and scripts. In this lesson you have a script called `example.py` where you can run the debugger. If you are using VSCode, you can go to `Run` and press `Start Debugging`. For other IDEs, check the corresponding documentation."
   ],
   "metadata": {}
  },
  {
   "cell_type": "markdown",
   "source": [
    "Most of the time you can solve issues without using a debugger. You can usually get to the root cause of the problem pretty quickly by simply adding print statements and working your way back. However, it's useful to know that it exists if you ever get really stuck."
   ],
   "metadata": {}
  },
  {
   "cell_type": "markdown",
   "source": [
    "In the debugger mode, you can tell where to stop and check the status of your code at that point. Each of these 'stops' is called Break Point. They are especially useful when your the flow of your code is not linear, and you want to check at what point your code is behaving unexpectedly. "
   ],
   "metadata": {}
  },
  {
   "cell_type": "markdown",
   "source": [
    "<p align=center><img src=images/debugger.png width=500></p>"
   ],
   "metadata": {}
  },
  {
   "cell_type": "markdown",
   "source": [
    "At the bottom, you can see the Debug Console. In it, you can check the values of your variables and also perform operations with the variables corresponding to the Break Point the debugger is at that moment. "
   ],
   "metadata": {}
  },
  {
   "cell_type": "markdown",
   "source": [
    "# Summary"
   ],
   "metadata": {}
  },
  {
   "cell_type": "markdown",
   "source": [
    "- You saw how to read errors in the console\r\n",
    "- You learnt the first steps to take when finding an error\r\n",
    "- You have seen the most common errors you will find during your first steps in Python.\r\n",
    "- You learnt the solutions for these common errors\r\n",
    "- You learnt how to use the debugger"
   ],
   "metadata": {}
  }
 ],
 "metadata": {
  "orig_nbformat": 4,
  "language_info": {
   "name": "python",
   "version": "3.9.1",
   "mimetype": "text/x-python",
   "codemirror_mode": {
    "name": "ipython",
    "version": 3
   },
   "pygments_lexer": "ipython3",
   "nbconvert_exporter": "python",
   "file_extension": ".py"
  },
  "kernelspec": {
   "name": "python3",
   "display_name": "Python 3.9.1 64-bit ('base': conda)"
  },
  "interpreter": {
   "hash": "ad8bebc098a042dc0df4e42fc2ecc8fff0bd7b8741641ce29007c29766dadbe0"
  }
 },
 "nbformat": 4,
 "nbformat_minor": 2
}