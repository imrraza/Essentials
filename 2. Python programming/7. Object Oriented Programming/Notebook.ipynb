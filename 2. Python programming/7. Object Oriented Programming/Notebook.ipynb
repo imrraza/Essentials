{
 "cells": [
  {
   "cell_type": "markdown",
   "source": [
    "# 7: Object-Oriented Programming"
   ],
   "metadata": {}
  },
  {
   "cell_type": "markdown",
   "source": [
    "## Objects in Python"
   ],
   "metadata": {}
  },
  {
   "cell_type": "markdown",
   "source": [
    "Object-oriented programming OOP is a programming paradigm where everything revolves around objects. But, what is an object?\n",
    "\n",
    "Almost everything in Python is an object. When we declare a variable and assign an object to it, that variable becomes an instance (of that object)"
   ],
   "metadata": {}
  },
  {
   "cell_type": "code",
   "execution_count": 230,
   "source": [
    "# integers are objects\r\n",
    "x = 6\r\n",
    "# floats are objects\r\n",
    "y = 4.2\r\n",
    "# complex numbers are objects\r\n",
    "z = 4 + 5j\r\n",
    "# Strings are objects\r\n",
    "sentence = 'I am a string object, but \"sentence\" is an instance of a string object'"
   ],
   "outputs": [],
   "metadata": {}
  },
  {
   "cell_type": "code",
   "execution_count": 231,
   "source": [
    "print(z)"
   ],
   "outputs": [
    {
     "output_type": "stream",
     "name": "stdout",
     "text": [
      "(4+5j)\n"
     ]
    }
   ],
   "metadata": {}
  },
  {
   "cell_type": "markdown",
   "source": [
    "Objects have attributes and methods that we can access using '.'"
   ],
   "metadata": {}
  },
  {
   "cell_type": "code",
   "execution_count": 232,
   "source": [
    "print(z.real) # real is an attribute that corresponds to the real part of a complex number\r\n",
    "print(z.imag) # imag is an attribute that corresponds to the imaginary part of a complex number\r\n",
    "print(z.conjugate()) # conjugate is a method that returns the conjugate of the complex number"
   ],
   "outputs": [
    {
     "output_type": "stream",
     "name": "stdout",
     "text": [
      "4.0\n",
      "5.0\n",
      "(4-5j)\n"
     ]
    }
   ],
   "metadata": {}
  },
  {
   "cell_type": "markdown",
   "source": [
    "Python internally has the code to create all these objects. The code acts as a blueprint, so every new instance that we create is consistent with each other. The blueprint is called class"
   ],
   "metadata": {}
  },
  {
   "cell_type": "code",
   "execution_count": 233,
   "source": [
    "help(str) # You can check the help function to see this 'blueprint' "
   ],
   "outputs": [
    {
     "output_type": "stream",
     "name": "stdout",
     "text": [
      "Help on class str in module builtins:\n",
      "\n",
      "class str(object)\n",
      " |  str(object='') -> str\n",
      " |  str(bytes_or_buffer[, encoding[, errors]]) -> str\n",
      " |  \n",
      " |  Create a new string object from the given object. If encoding or\n",
      " |  errors is specified, then the object must expose a data buffer\n",
      " |  that will be decoded using the given encoding and error handler.\n",
      " |  Otherwise, returns the result of object.__str__() (if defined)\n",
      " |  or repr(object).\n",
      " |  encoding defaults to sys.getdefaultencoding().\n",
      " |  errors defaults to 'strict'.\n",
      " |  \n",
      " |  Methods defined here:\n",
      " |  \n",
      " |  __add__(self, value, /)\n",
      " |      Return self+value.\n",
      " |  \n",
      " |  __contains__(self, key, /)\n",
      " |      Return key in self.\n",
      " |  \n",
      " |  __eq__(self, value, /)\n",
      " |      Return self==value.\n",
      " |  \n",
      " |  __format__(self, format_spec, /)\n",
      " |      Return a formatted version of the string as described by format_spec.\n",
      " |  \n",
      " |  __ge__(self, value, /)\n",
      " |      Return self>=value.\n",
      " |  \n",
      " |  __getattribute__(self, name, /)\n",
      " |      Return getattr(self, name).\n",
      " |  \n",
      " |  __getitem__(self, key, /)\n",
      " |      Return self[key].\n",
      " |  \n",
      " |  __getnewargs__(...)\n",
      " |  \n",
      " |  __gt__(self, value, /)\n",
      " |      Return self>value.\n",
      " |  \n",
      " |  __hash__(self, /)\n",
      " |      Return hash(self).\n",
      " |  \n",
      " |  __iter__(self, /)\n",
      " |      Implement iter(self).\n",
      " |  \n",
      " |  __le__(self, value, /)\n",
      " |      Return self<=value.\n",
      " |  \n",
      " |  __len__(self, /)\n",
      " |      Return len(self).\n",
      " |  \n",
      " |  __lt__(self, value, /)\n",
      " |      Return self<value.\n",
      " |  \n",
      " |  __mod__(self, value, /)\n",
      " |      Return self%value.\n",
      " |  \n",
      " |  __mul__(self, value, /)\n",
      " |      Return self*value.\n",
      " |  \n",
      " |  __ne__(self, value, /)\n",
      " |      Return self!=value.\n",
      " |  \n",
      " |  __repr__(self, /)\n",
      " |      Return repr(self).\n",
      " |  \n",
      " |  __rmod__(self, value, /)\n",
      " |      Return value%self.\n",
      " |  \n",
      " |  __rmul__(self, value, /)\n",
      " |      Return value*self.\n",
      " |  \n",
      " |  __sizeof__(self, /)\n",
      " |      Return the size of the string in memory, in bytes.\n",
      " |  \n",
      " |  __str__(self, /)\n",
      " |      Return str(self).\n",
      " |  \n",
      " |  capitalize(self, /)\n",
      " |      Return a capitalized version of the string.\n",
      " |      \n",
      " |      More specifically, make the first character have upper case and the rest lower\n",
      " |      case.\n",
      " |  \n",
      " |  casefold(self, /)\n",
      " |      Return a version of the string suitable for caseless comparisons.\n",
      " |  \n",
      " |  center(self, width, fillchar=' ', /)\n",
      " |      Return a centered string of length width.\n",
      " |      \n",
      " |      Padding is done using the specified fill character (default is a space).\n",
      " |  \n",
      " |  count(...)\n",
      " |      S.count(sub[, start[, end]]) -> int\n",
      " |      \n",
      " |      Return the number of non-overlapping occurrences of substring sub in\n",
      " |      string S[start:end].  Optional arguments start and end are\n",
      " |      interpreted as in slice notation.\n",
      " |  \n",
      " |  encode(self, /, encoding='utf-8', errors='strict')\n",
      " |      Encode the string using the codec registered for encoding.\n",
      " |      \n",
      " |      encoding\n",
      " |        The encoding in which to encode the string.\n",
      " |      errors\n",
      " |        The error handling scheme to use for encoding errors.\n",
      " |        The default is 'strict' meaning that encoding errors raise a\n",
      " |        UnicodeEncodeError.  Other possible values are 'ignore', 'replace' and\n",
      " |        'xmlcharrefreplace' as well as any other name registered with\n",
      " |        codecs.register_error that can handle UnicodeEncodeErrors.\n",
      " |  \n",
      " |  endswith(...)\n",
      " |      S.endswith(suffix[, start[, end]]) -> bool\n",
      " |      \n",
      " |      Return True if S ends with the specified suffix, False otherwise.\n",
      " |      With optional start, test S beginning at that position.\n",
      " |      With optional end, stop comparing S at that position.\n",
      " |      suffix can also be a tuple of strings to try.\n",
      " |  \n",
      " |  expandtabs(self, /, tabsize=8)\n",
      " |      Return a copy where all tab characters are expanded using spaces.\n",
      " |      \n",
      " |      If tabsize is not given, a tab size of 8 characters is assumed.\n",
      " |  \n",
      " |  find(...)\n",
      " |      S.find(sub[, start[, end]]) -> int\n",
      " |      \n",
      " |      Return the lowest index in S where substring sub is found,\n",
      " |      such that sub is contained within S[start:end].  Optional\n",
      " |      arguments start and end are interpreted as in slice notation.\n",
      " |      \n",
      " |      Return -1 on failure.\n",
      " |  \n",
      " |  format(...)\n",
      " |      S.format(*args, **kwargs) -> str\n",
      " |      \n",
      " |      Return a formatted version of S, using substitutions from args and kwargs.\n",
      " |      The substitutions are identified by braces ('{' and '}').\n",
      " |  \n",
      " |  format_map(...)\n",
      " |      S.format_map(mapping) -> str\n",
      " |      \n",
      " |      Return a formatted version of S, using substitutions from mapping.\n",
      " |      The substitutions are identified by braces ('{' and '}').\n",
      " |  \n",
      " |  index(...)\n",
      " |      S.index(sub[, start[, end]]) -> int\n",
      " |      \n",
      " |      Return the lowest index in S where substring sub is found,\n",
      " |      such that sub is contained within S[start:end].  Optional\n",
      " |      arguments start and end are interpreted as in slice notation.\n",
      " |      \n",
      " |      Raises ValueError when the substring is not found.\n",
      " |  \n",
      " |  isalnum(self, /)\n",
      " |      Return True if the string is an alpha-numeric string, False otherwise.\n",
      " |      \n",
      " |      A string is alpha-numeric if all characters in the string are alpha-numeric and\n",
      " |      there is at least one character in the string.\n",
      " |  \n",
      " |  isalpha(self, /)\n",
      " |      Return True if the string is an alphabetic string, False otherwise.\n",
      " |      \n",
      " |      A string is alphabetic if all characters in the string are alphabetic and there\n",
      " |      is at least one character in the string.\n",
      " |  \n",
      " |  isascii(self, /)\n",
      " |      Return True if all characters in the string are ASCII, False otherwise.\n",
      " |      \n",
      " |      ASCII characters have code points in the range U+0000-U+007F.\n",
      " |      Empty string is ASCII too.\n",
      " |  \n",
      " |  isdecimal(self, /)\n",
      " |      Return True if the string is a decimal string, False otherwise.\n",
      " |      \n",
      " |      A string is a decimal string if all characters in the string are decimal and\n",
      " |      there is at least one character in the string.\n",
      " |  \n",
      " |  isdigit(self, /)\n",
      " |      Return True if the string is a digit string, False otherwise.\n",
      " |      \n",
      " |      A string is a digit string if all characters in the string are digits and there\n",
      " |      is at least one character in the string.\n",
      " |  \n",
      " |  isidentifier(self, /)\n",
      " |      Return True if the string is a valid Python identifier, False otherwise.\n",
      " |      \n",
      " |      Call keyword.iskeyword(s) to test whether string s is a reserved identifier,\n",
      " |      such as \"def\" or \"class\".\n",
      " |  \n",
      " |  islower(self, /)\n",
      " |      Return True if the string is a lowercase string, False otherwise.\n",
      " |      \n",
      " |      A string is lowercase if all cased characters in the string are lowercase and\n",
      " |      there is at least one cased character in the string.\n",
      " |  \n",
      " |  isnumeric(self, /)\n",
      " |      Return True if the string is a numeric string, False otherwise.\n",
      " |      \n",
      " |      A string is numeric if all characters in the string are numeric and there is at\n",
      " |      least one character in the string.\n",
      " |  \n",
      " |  isprintable(self, /)\n",
      " |      Return True if the string is printable, False otherwise.\n",
      " |      \n",
      " |      A string is printable if all of its characters are considered printable in\n",
      " |      repr() or if it is empty.\n",
      " |  \n",
      " |  isspace(self, /)\n",
      " |      Return True if the string is a whitespace string, False otherwise.\n",
      " |      \n",
      " |      A string is whitespace if all characters in the string are whitespace and there\n",
      " |      is at least one character in the string.\n",
      " |  \n",
      " |  istitle(self, /)\n",
      " |      Return True if the string is a title-cased string, False otherwise.\n",
      " |      \n",
      " |      In a title-cased string, upper- and title-case characters may only\n",
      " |      follow uncased characters and lowercase characters only cased ones.\n",
      " |  \n",
      " |  isupper(self, /)\n",
      " |      Return True if the string is an uppercase string, False otherwise.\n",
      " |      \n",
      " |      A string is uppercase if all cased characters in the string are uppercase and\n",
      " |      there is at least one cased character in the string.\n",
      " |  \n",
      " |  join(self, iterable, /)\n",
      " |      Concatenate any number of strings.\n",
      " |      \n",
      " |      The string whose method is called is inserted in between each given string.\n",
      " |      The result is returned as a new string.\n",
      " |      \n",
      " |      Example: '.'.join(['ab', 'pq', 'rs']) -> 'ab.pq.rs'\n",
      " |  \n",
      " |  ljust(self, width, fillchar=' ', /)\n",
      " |      Return a left-justified string of length width.\n",
      " |      \n",
      " |      Padding is done using the specified fill character (default is a space).\n",
      " |  \n",
      " |  lower(self, /)\n",
      " |      Return a copy of the string converted to lowercase.\n",
      " |  \n",
      " |  lstrip(self, chars=None, /)\n",
      " |      Return a copy of the string with leading whitespace removed.\n",
      " |      \n",
      " |      If chars is given and not None, remove characters in chars instead.\n",
      " |  \n",
      " |  partition(self, sep, /)\n",
      " |      Partition the string into three parts using the given separator.\n",
      " |      \n",
      " |      This will search for the separator in the string.  If the separator is found,\n",
      " |      returns a 3-tuple containing the part before the separator, the separator\n",
      " |      itself, and the part after it.\n",
      " |      \n",
      " |      If the separator is not found, returns a 3-tuple containing the original string\n",
      " |      and two empty strings.\n",
      " |  \n",
      " |  replace(self, old, new, count=-1, /)\n",
      " |      Return a copy with all occurrences of substring old replaced by new.\n",
      " |      \n",
      " |        count\n",
      " |          Maximum number of occurrences to replace.\n",
      " |          -1 (the default value) means replace all occurrences.\n",
      " |      \n",
      " |      If the optional argument count is given, only the first count occurrences are\n",
      " |      replaced.\n",
      " |  \n",
      " |  rfind(...)\n",
      " |      S.rfind(sub[, start[, end]]) -> int\n",
      " |      \n",
      " |      Return the highest index in S where substring sub is found,\n",
      " |      such that sub is contained within S[start:end].  Optional\n",
      " |      arguments start and end are interpreted as in slice notation.\n",
      " |      \n",
      " |      Return -1 on failure.\n",
      " |  \n",
      " |  rindex(...)\n",
      " |      S.rindex(sub[, start[, end]]) -> int\n",
      " |      \n",
      " |      Return the highest index in S where substring sub is found,\n",
      " |      such that sub is contained within S[start:end].  Optional\n",
      " |      arguments start and end are interpreted as in slice notation.\n",
      " |      \n",
      " |      Raises ValueError when the substring is not found.\n",
      " |  \n",
      " |  rjust(self, width, fillchar=' ', /)\n",
      " |      Return a right-justified string of length width.\n",
      " |      \n",
      " |      Padding is done using the specified fill character (default is a space).\n",
      " |  \n",
      " |  rpartition(self, sep, /)\n",
      " |      Partition the string into three parts using the given separator.\n",
      " |      \n",
      " |      This will search for the separator in the string, starting at the end. If\n",
      " |      the separator is found, returns a 3-tuple containing the part before the\n",
      " |      separator, the separator itself, and the part after it.\n",
      " |      \n",
      " |      If the separator is not found, returns a 3-tuple containing two empty strings\n",
      " |      and the original string.\n",
      " |  \n",
      " |  rsplit(self, /, sep=None, maxsplit=-1)\n",
      " |      Return a list of the words in the string, using sep as the delimiter string.\n",
      " |      \n",
      " |        sep\n",
      " |          The delimiter according which to split the string.\n",
      " |          None (the default value) means split according to any whitespace,\n",
      " |          and discard empty strings from the result.\n",
      " |        maxsplit\n",
      " |          Maximum number of splits to do.\n",
      " |          -1 (the default value) means no limit.\n",
      " |      \n",
      " |      Splits are done starting at the end of the string and working to the front.\n",
      " |  \n",
      " |  rstrip(self, chars=None, /)\n",
      " |      Return a copy of the string with trailing whitespace removed.\n",
      " |      \n",
      " |      If chars is given and not None, remove characters in chars instead.\n",
      " |  \n",
      " |  split(self, /, sep=None, maxsplit=-1)\n",
      " |      Return a list of the words in the string, using sep as the delimiter string.\n",
      " |      \n",
      " |      sep\n",
      " |        The delimiter according which to split the string.\n",
      " |        None (the default value) means split according to any whitespace,\n",
      " |        and discard empty strings from the result.\n",
      " |      maxsplit\n",
      " |        Maximum number of splits to do.\n",
      " |        -1 (the default value) means no limit.\n",
      " |  \n",
      " |  splitlines(self, /, keepends=False)\n",
      " |      Return a list of the lines in the string, breaking at line boundaries.\n",
      " |      \n",
      " |      Line breaks are not included in the resulting list unless keepends is given and\n",
      " |      true.\n",
      " |  \n",
      " |  startswith(...)\n",
      " |      S.startswith(prefix[, start[, end]]) -> bool\n",
      " |      \n",
      " |      Return True if S starts with the specified prefix, False otherwise.\n",
      " |      With optional start, test S beginning at that position.\n",
      " |      With optional end, stop comparing S at that position.\n",
      " |      prefix can also be a tuple of strings to try.\n",
      " |  \n",
      " |  strip(self, chars=None, /)\n",
      " |      Return a copy of the string with leading and trailing whitespace removed.\n",
      " |      \n",
      " |      If chars is given and not None, remove characters in chars instead.\n",
      " |  \n",
      " |  swapcase(self, /)\n",
      " |      Convert uppercase characters to lowercase and lowercase characters to uppercase.\n",
      " |  \n",
      " |  title(self, /)\n",
      " |      Return a version of the string where each word is titlecased.\n",
      " |      \n",
      " |      More specifically, words start with uppercased characters and all remaining\n",
      " |      cased characters have lower case.\n",
      " |  \n",
      " |  translate(self, table, /)\n",
      " |      Replace each character in the string using the given translation table.\n",
      " |      \n",
      " |        table\n",
      " |          Translation table, which must be a mapping of Unicode ordinals to\n",
      " |          Unicode ordinals, strings, or None.\n",
      " |      \n",
      " |      The table must implement lookup/indexing via __getitem__, for instance a\n",
      " |      dictionary or list.  If this operation raises LookupError, the character is\n",
      " |      left untouched.  Characters mapped to None are deleted.\n",
      " |  \n",
      " |  upper(self, /)\n",
      " |      Return a copy of the string converted to uppercase.\n",
      " |  \n",
      " |  zfill(self, width, /)\n",
      " |      Pad a numeric string with zeros on the left, to fill a field of the given width.\n",
      " |      \n",
      " |      The string is never truncated.\n",
      " |  \n",
      " |  ----------------------------------------------------------------------\n",
      " |  Static methods defined here:\n",
      " |  \n",
      " |  __new__(*args, **kwargs) from builtins.type\n",
      " |      Create and return a new object.  See help(type) for accurate signature.\n",
      " |  \n",
      " |  maketrans(...)\n",
      " |      Return a translation table usable for str.translate().\n",
      " |      \n",
      " |      If there is only one argument, it must be a dictionary mapping Unicode\n",
      " |      ordinals (integers) or characters to Unicode ordinals, strings or None.\n",
      " |      Character keys will be then converted to ordinals.\n",
      " |      If there are two arguments, they must be strings of equal length, and\n",
      " |      in the resulting dictionary, each character in x will be mapped to the\n",
      " |      character at the same position in y. If there is a third argument, it\n",
      " |      must be a string, whose characters will be mapped to None in the result.\n",
      "\n"
     ]
    }
   ],
   "metadata": {}
  },
  {
   "cell_type": "markdown",
   "source": [
    "## Why Object-Oriented Programming? \n"
   ],
   "metadata": {}
  },
  {
   "cell_type": "markdown",
   "source": [
    "- In many cases our code can be more neatly organised on a conceptual level by grouping related functions together into a class.\n",
    "\n",
    "- This means we can much more easily handle doing tasks repeatedly for similar types of data, in the same way that we use loops/functions etc."
   ],
   "metadata": {}
  },
  {
   "cell_type": "code",
   "execution_count": 234,
   "source": [
    "# Example of not neatly organized code\r\n",
    "# let’s say you want to track employees in an organization\r\n",
    "\r\n",
    "spongebob = ['SpongeBob SquarePants', 'Fry Cook', 'Sea Sponge', 1500]\r\n",
    "squidward = ['Squidward Tentacles', 'Cashier', 'Octopus', 700]\r\n",
    "krabs = ['Eugene Krabs', 'Owner', 'Crab', 200000]\r\n",
    "patrick = ['Patrick Star', 'Starfish', 0]"
   ],
   "outputs": [],
   "metadata": {}
  },
  {
   "cell_type": "markdown",
   "source": [
    "If you have a large piece of code and have to retrieve krabs[0] several lines away, how do you know that 0 index corresponds to the name? Observe that patrick has no position, so while for the rest of instances, index 1 corresponds to the position, for patrick, it will return the species.\n",
    "\n",
    "We can use function to deal with these issues.\n"
   ],
   "metadata": {}
  },
  {
   "cell_type": "code",
   "execution_count": 235,
   "source": [
    "def employee(name, position, species, salary):\r\n",
    "    return {'Name' : name, position, species, salary}\r\n",
    "\r\n",
    "spongebob = employee('SpongeBob SquarePants', 'Fry Cook', 'Sea Sponge', 1500)\r\n",
    "squidward = employee('Squidward Tentacles', 'Cashier', 'Octopus', 700)\r\n",
    "krabs = employee('Eugene Krabs', 'Owner', 'Crab', 200000)\r\n",
    "patrick = employee('Patrick Star', None, 'Starfish', 0)"
   ],
   "outputs": [
    {
     "output_type": "error",
     "ename": "SyntaxError",
     "evalue": "invalid syntax (<ipython-input-235-10ffdba17e5a>, line 2)",
     "traceback": [
      "\u001b[1;36m  File \u001b[1;32m\"<ipython-input-235-10ffdba17e5a>\"\u001b[1;36m, line \u001b[1;32m2\u001b[0m\n\u001b[1;33m    return {'Name' : name, position, species, salary}\u001b[0m\n\u001b[1;37m                                   ^\u001b[0m\n\u001b[1;31mSyntaxError\u001b[0m\u001b[1;31m:\u001b[0m invalid syntax\n"
     ]
    }
   ],
   "metadata": {}
  },
  {
   "cell_type": "markdown",
   "source": [
    "Awesome! Let's add some actions to each employee"
   ],
   "metadata": {}
  },
  {
   "cell_type": "code",
   "execution_count": null,
   "source": [
    "def increase_salary(employee, amount):\r\n",
    "    employee[3] += amount"
   ],
   "outputs": [],
   "metadata": {}
  },
  {
   "cell_type": "code",
   "execution_count": null,
   "source": [
    "increase_salary(patrick, 100)\r\n",
    "print(patrick[3])"
   ],
   "outputs": [
    {
     "output_type": "stream",
     "name": "stdout",
     "text": [
      "100\n"
     ]
    }
   ],
   "metadata": {}
  },
  {
   "cell_type": "markdown",
   "source": [
    "This looks tidy and neat. But, there is still one more problem. If you are dealing with a large code, you might not remember the structure of each employee. We have a list here, and we might forget about the structure of the list (indices).\n",
    "\n",
    "One solution would be using dictionaries, so we don't forget the position of each value. But that might leave room to errors due to coding adding new keys to the employees.\n",
    "\n",
    "That's why we need an object where:\n",
    " - Attributes are predefined and limited to some boundaries.\n",
    " - We can define specific behaviours. When using solely functions, we will be limited to the methods characteristics of the objects that already exists in Python.\n",
    "\n",
    " - Classes act as blueprints that are used for these purposes."
   ],
   "metadata": {}
  },
  {
   "cell_type": "markdown",
   "source": [
    "\n",
    "## ***Classes*** are 'blueprints' for creating objects\n",
    "\n",
    "- The blueprints contains a user-defined structure, so every object created with this class will be consistent with each other.\n",
    "- It doesn’t actually contain any data \n",
    "- Classes usually contains the attributes and methods that are common to the objects builts with these classes\n",
    "- When we assign an object to a variable, that variable becomes an instance of the object.\n"
   ],
   "metadata": {}
  },
  {
   "cell_type": "markdown",
   "source": [
    "### Basic Syntax\n",
    "The basic syntax for creating a class is shown below: "
   ],
   "metadata": {}
  },
  {
   "cell_type": "code",
   "execution_count": null,
   "source": [
    "# class definition\r\n",
    "class ClassName:\r\n",
    "\r\n",
    "    # class constructor\r\n",
    "    def __init__(self, param1, param2=1):\r\n",
    "\r\n",
    "        # attributes\r\n",
    "        self.param1 = param1\r\n",
    "        self.param2 = param2\r\n",
    "\r\n",
    "        # attribute defined using other attributes\r\n",
    "        self.param3 = param2 * 2\r\n",
    "\r\n",
    "        # attribute defined without parameter\r\n",
    "        self.param4 = 0\r\n",
    "\r\n",
    "    # methods\r\n",
    "    def some_method(self, ext_input):  # can add external arguments\r\n",
    "        return self.param1 + ext_input + ClassName.att\r\n",
    "\r\n",
    "    def some_other_method(self, ext_input1, ext_input2):  # method to modify attribute\r\n",
    "        self.param4 = ext_input1 + ext_input2\r\n"
   ],
   "outputs": [],
   "metadata": {}
  },
  {
   "cell_type": "markdown",
   "source": [
    "So, for our example, we can define the class following that syntax"
   ],
   "metadata": {}
  },
  {
   "cell_type": "code",
   "execution_count": null,
   "source": [
    "class Employee:  # Name of the class has to be UpperCamelCase or PascalCase\r\n",
    "    # __init__ is the constructor, .__init__() sets the initial state of the object\r\n",
    "    def __init__(self, name, position, species, total_hours, salary):\r\n",
    "        self.name = name  # We will get back to self shortly, but basically is a way to set an attribute to the instance\r\n",
    "        self.position = position\r\n",
    "        self.species = species\r\n",
    "        self.total_hours = total_hours\r\n",
    "        self.salary = salary\r\n",
    "\r\n",
    "    def increase_salary(self, amount):\r\n",
    "        self.salary = self.salary + amount\r\n",
    "        self.promotion()\r\n",
    "\r\n",
    "    def work(self):\r\n",
    "        '''\r\n",
    "        Everytime we call for the work function, the total amount of hours increases by one\r\n",
    "        If the total amount of hours reaches 40, 80, 120... we will increase the employee salary\r\n",
    "        '''\r\n",
    "        self.total_hours += 1\r\n",
    "        if self.total_hours % 40 == 0:\r\n",
    "            self.increase_salary(50)\r\n",
    "\r\n",
    "    def promotion(self):\r\n",
    "        if self.salary > 200000:\r\n",
    "            self.position = 'Co-owner'\r\n"
   ],
   "outputs": [],
   "metadata": {}
  },
  {
   "cell_type": "markdown",
   "source": [
    "Employee is now the blueprint. It is telling us how to construct an Employee object"
   ],
   "metadata": {}
  },
  {
   "cell_type": "markdown",
   "source": [
    "Let's see this in action with the Employee class"
   ],
   "metadata": {}
  },
  {
   "cell_type": "code",
   "execution_count": null,
   "source": [
    "spongebob = Employee(name='SpongeBob SquarePants', position='Fry Cook', species='Sea Sponge', total_hours=0, salary=1500)\r\n",
    "\r\n",
    "# spongebob is the instance where the Employee object is built. Thus, when instantiating spongebob, self refers to spongebob"
   ],
   "outputs": [],
   "metadata": {}
  },
  {
   "cell_type": "markdown",
   "source": [
    "Now spongebob is an instance of an Employee object. It has attributes (name, position, species, salary) and methods (increase_salary, and work)\n",
    "\n",
    "### Classes are not just an exercise to do during a lesson\n",
    "\n",
    "Let's use the methods we created to do some actual stuff"
   ],
   "metadata": {}
  },
  {
   "cell_type": "code",
   "execution_count": null,
   "source": [
    "# If spongebob works 8 hours a day, 5 days a week, and 40 weeks a year.\r\n",
    "# What would his salary be at the end of the year?\r\n",
    "\r\n",
    "# How many hours does SpongeBob need to work in order to be promoted to Co-Owner?\r\n"
   ],
   "outputs": [],
   "metadata": {}
  },
  {
   "cell_type": "code",
   "execution_count": null,
   "source": [
    "for _ in range(8 * 5 * 40):\r\n",
    "    spongebob.work() # Increase .total_hours by 1 hour\r\n",
    "\r\n",
    "print(spongebob.salary)"
   ],
   "outputs": [
    {
     "output_type": "stream",
     "name": "stdout",
     "text": [
      "5500\n"
     ]
    }
   ],
   "metadata": {}
  },
  {
   "cell_type": "code",
   "execution_count": null,
   "source": [
    "spongebob = Employee(name='SpongeBob SquarePants', position='Fry Cook', species='Sea Sponge', total_hours=0, salary=1500)\r\n",
    "\r\n",
    "# spongebob is the instance where the Employee object is built. Thus, when instantiating spongebob, self refers to spongebob\r\n",
    "while spongebob.position != 'Co-owner':\r\n",
    "    spongebob.work()\r\n",
    "\r\n",
    "print(spongebob.total_hours)"
   ],
   "outputs": [
    {
     "output_type": "stream",
     "name": "stdout",
     "text": [
      "158840\n"
     ]
    }
   ],
   "metadata": {}
  },
  {
   "cell_type": "markdown",
   "source": [
    "# Class Inheritance\n",
    "- We can use classes as a base to create other classes, this is called __INHERITANCE__.\n",
    "- The class we use as a base is called the __BASE CLASS__ or __Parent__.\n",
    "- The new class is called the __DERIVED CLASS(ES)__ or __Child(ren)__.\n",
    "- The derived classes 'inherit' features from the base class.\n",
    "- The same way we used self, we can use super() as a way to access the elements (attributes and methods) from the parent.\n",
    "- We can overwrite inherited methods by using the same method name.\n",
    "- We can define new methods using novel method names."
   ],
   "metadata": {}
  },
  {
   "cell_type": "code",
   "execution_count": null,
   "source": [
    "class Rectangle:\r\n",
    "    def __init__(self, length, width):\r\n",
    "        self.length = length\r\n",
    "        self.width = width\r\n",
    "\r\n",
    "    def area(self):\r\n",
    "        return self.length * self.width\r\n",
    "\r\n",
    "    def perimeter(self):\r\n",
    "        return 2 * self.length + 2 * self.width\r\n"
   ],
   "outputs": [],
   "metadata": {}
  },
  {
   "cell_type": "code",
   "execution_count": null,
   "source": [
    "rec_1 = Rectangle(2, 5)\r\n",
    "print(rec_1.area())\r\n",
    "print(rec_1.perimeter())\r\n"
   ],
   "outputs": [
    {
     "output_type": "stream",
     "name": "stdout",
     "text": [
      "10\n",
      "14\n"
     ]
    }
   ],
   "metadata": {}
  },
  {
   "cell_type": "code",
   "execution_count": null,
   "source": [
    "# Observe the Square class\r\n",
    "\r\n",
    "class Square:\r\n",
    "    def __init__(self, length):\r\n",
    "        self.length = length\r\n",
    "\r\n",
    "    def area(self):\r\n",
    "        return self.length * self.length\r\n",
    "\r\n",
    "    def perimeter(self):\r\n",
    "        return 4 * self.length\r\n"
   ],
   "outputs": [],
   "metadata": {}
  },
  {
   "cell_type": "markdown",
   "source": [
    "Basically, the Square class is the same as the Rectangle class, but length and width are the same. In other (more technical words), we don't need both attributes to create a Square object.\n",
    "\n",
    "To inherit a __base class__ we _can_ use the super() function, which, in short, is like using self but with the base class"
   ],
   "metadata": {}
  },
  {
   "cell_type": "code",
   "execution_count": null,
   "source": [
    "square = Square(4)\r\n",
    "square.area()\r\n"
   ],
   "outputs": [
    {
     "output_type": "execute_result",
     "data": {
      "text/plain": [
       "16"
      ]
     },
     "metadata": {},
     "execution_count": 52
    }
   ],
   "metadata": {}
  },
  {
   "cell_type": "code",
   "execution_count": null,
   "source": [
    "class Rectangle:\r\n",
    "    def __init__(self, length, width):\r\n",
    "        self.length = length\r\n",
    "        self.width = width\r\n",
    "\r\n",
    "    def area(self):\r\n",
    "        return self.length * self.width\r\n",
    "\r\n",
    "    def perimeter(self):\r\n",
    "        return 2 * self.length + 2 * self.width\r\n",
    "\r\n",
    "\r\n",
    "class Square(Rectangle):\r\n",
    "    def __init__(self, length):\r\n",
    "        super().__init__(length, length)\r\n",
    "        self.width\r\n",
    "        # super is calling the __init__ in Rectangle, so it would be like\r\n",
    "        # instantiate a Rectangle object with length=length and width=length\r\n",
    "        # The new class will also obtain (inherit) rectangle's methods\r\n"
   ],
   "outputs": [],
   "metadata": {}
  },
  {
   "cell_type": "code",
   "execution_count": null,
   "source": [
    "rectangle = Rectangle(4, 4)\r\n",
    "square = Square(4)\r\n",
    "print(f'rectangle area is {rectangle.area()}')\r\n",
    "print(f'square area is {square.area()}')\r\n",
    "print(f'rectangle type is {type(rectangle)}')\r\n",
    "print(f'square type is {type(square)}')\r\n"
   ],
   "outputs": [
    {
     "output_type": "stream",
     "name": "stdout",
     "text": [
      "rectangle area is 16\n",
      "square area is 16\n",
      "rectangle type is <class '__main__.Rectangle'>\n",
      "square type is <class '__main__.Square'>\n"
     ]
    }
   ],
   "metadata": {}
  },
  {
   "cell_type": "markdown",
   "source": [
    "We can also check their relation using the function issubclass and isinstance"
   ],
   "metadata": {}
  },
  {
   "cell_type": "code",
   "execution_count": null,
   "source": [
    "print(f'Is the Square Class a subclass of the Rectangle Class?: {issubclass(Square, Rectangle)}')\r\n",
    "print(f'Is the Rectagle Class a subclass of the Square Class?: {issubclass(Rectangle, Square)}')\r\n",
    "print(f'Is square an instance of a Square object?: {isinstance(square, Square)}') \r\n",
    "print(f'Is \"Hello\" an instance of a String Object?: {isinstance(\"Hello\", str)}')\r\n",
    "print(f'Is \"Hello\" an instance of a Integer Object?: {isinstance(\"Hello\", int)}')\r\n",
    "print(f'Is square an instance of a Rectangle object?: {isinstance(square, Rectangle)}')\r\n",
    "print(f'Is rectangle an instance of a Square object?: {isinstance(rectangle, Square)}')\r\n"
   ],
   "outputs": [
    {
     "output_type": "stream",
     "name": "stdout",
     "text": [
      "Is the Square Class a subclass of the Rectangle Class?: True\n",
      "Is the Rectagle Class a subclass of the Square Class?: False\n",
      "Is square an instance of a Square object?: True\n",
      "Is \"Hello\" an instance of a String Object?: True\n",
      "Is \"Hello\" an instance of a Integer Object?: False\n",
      "Is square an instance of a Rectangle object?: True\n",
      "Is rectangle an instance of a Square object?: False\n"
     ]
    }
   ],
   "metadata": {}
  },
  {
   "cell_type": "markdown",
   "source": [
    "Even though we just gave the value of length to Square, this implicetly inherits all attributes from Rectangle"
   ],
   "metadata": {}
  },
  {
   "cell_type": "code",
   "execution_count": null,
   "source": [
    "print(square.__dict__)\r\n",
    "# __dict__ is a method that returns a dictionary with the \r\n",
    "# attributes and values of an instance\r\n",
    "print(dir(square))"
   ],
   "outputs": [
    {
     "output_type": "stream",
     "name": "stdout",
     "text": [
      "{'length': 4, 'width': 4}\n",
      "['__class__', '__delattr__', '__dict__', '__dir__', '__doc__', '__eq__', '__format__', '__ge__', '__getattribute__', '__gt__', '__hash__', '__init__', '__init_subclass__', '__le__', '__lt__', '__module__', '__ne__', '__new__', '__reduce__', '__reduce_ex__', '__repr__', '__setattr__', '__sizeof__', '__str__', '__subclasshook__', '__weakref__', 'area', 'length', 'perimeter', 'width']\n"
     ]
    }
   ],
   "metadata": {}
  },
  {
   "cell_type": "markdown",
   "source": [
    "Take into account that we don't have to call super().\\_\\_init__() every time we inherit a parent (or base class). We will call it if we want to make change on the number of attributes attributes to be called by the child(ren). \n",
    "\n",
    "In the following example, we are creating a Cube class, and calculate the volumen and surface area. Thus, we just need one length to calculate everything.\n",
    "\n",
    "Additionally, we can also call for methods that were defined by the parent. In an example above, if we wanted to call a method in the same class we were defining (work method was calling to increase_salary method), we had to use self. If we want to use a method from the parent (or the grandparent in this case) we have to use super()"
   ],
   "metadata": {}
  },
  {
   "cell_type": "code",
   "execution_count": null,
   "source": [
    "class Square(Rectangle):\r\n",
    "    def __init__(self, length):\r\n",
    "        super().__init__(length, length)\r\n",
    "\r\n",
    "class Cube(Square):\r\n",
    "    # No __init__ is needed, it has the same __init__ function\r\n",
    "    # as Square (parent)\r\n",
    "    \r\n",
    "    def surface_area(self):\r\n",
    "        face_area = super().area()\r\n",
    "        return face_area * 6\r\n",
    "\r\n",
    "    def volume(self):\r\n",
    "        face_area = super().area()\r\n",
    "        return face_area * self.length\r\n",
    "    \r\n",
    "    def perimeter(self):\r\n",
    "        return 12 * self.length"
   ],
   "outputs": [],
   "metadata": {}
  },
  {
   "cell_type": "markdown",
   "source": [
    "Some things to notice:\n",
    "- We didn't use super() or __init__ in Cube: When inheriting, the __init__ from the base class is already called\n",
    "- We add methods to the Cube class, but these methods are not passed to Square or Rectangle\n",
    "- Cube is implicetly inheriting from Rectangle (Granparent)"
   ],
   "metadata": {}
  },
  {
   "cell_type": "code",
   "execution_count": null,
   "source": [
    "cube = Cube(4)"
   ],
   "outputs": [],
   "metadata": {}
  },
  {
   "cell_type": "code",
   "execution_count": null,
   "source": [
    "print(cube.volume())\r\n",
    "print(cube.surface_area())\r\n",
    "print(cube.perimeter())"
   ],
   "outputs": [
    {
     "output_type": "stream",
     "name": "stdout",
     "text": [
      "64\n",
      "96\n",
      "48\n"
     ]
    }
   ],
   "metadata": {}
  },
  {
   "cell_type": "code",
   "execution_count": null,
   "source": [
    "class Cube(Square):\r\n",
    "    def __init__(self, length):\r\n",
    "        print('I am a cube! Nice to meet you')\r\n",
    "        super().__init__(length)\r\n",
    "    # No __init__ is needed, it has the same __init__ function\r\n",
    "    # as Square (parent)\r\n",
    "\r\n",
    "    def surface_area(self):\r\n",
    "        face_area = super().area()\r\n",
    "        return face_area * 6\r\n",
    "\r\n",
    "    def volume(self):\r\n",
    "        face_area = super().area()\r\n",
    "        return face_area * self.length\r\n"
   ],
   "outputs": [],
   "metadata": {}
  },
  {
   "cell_type": "markdown",
   "source": [
    "Note that we call super().init when we want to change the behaviour of the constructor. By inheriting a class, it will also inherit the class init method!"
   ],
   "metadata": {}
  },
  {
   "cell_type": "code",
   "execution_count": null,
   "source": [
    "cube = Cube(4)\r\n",
    "cube2 = Cube(5)\r\n",
    "cube.length"
   ],
   "outputs": [
    {
     "output_type": "stream",
     "name": "stdout",
     "text": [
      "I am a cube! Nice to meet you\n",
      "I am a cube! Nice to meet you\n"
     ]
    },
    {
     "output_type": "execute_result",
     "data": {
      "text/plain": [
       "4"
      ]
     },
     "metadata": {},
     "execution_count": 87
    }
   ],
   "metadata": {}
  },
  {
   "cell_type": "markdown",
   "source": [
    "Check that cube is still a subclass of rectangle, and similar to square, cube is considered as an instance of its grandpa"
   ],
   "metadata": {}
  },
  {
   "cell_type": "code",
   "execution_count": null,
   "source": [
    "print(f'Is the Cube Class a subclass of the Square Class?: {issubclass(Cube, Square)}')\r\n",
    "print(f'Is the Cube Class a subclass of the Rectangle Class?: {issubclass(Cube, Rectangle)}')\r\n",
    "print(f'Is cube an instance of a Square object?: {isinstance(cube, Square)}') \r\n",
    "print(f'Is cube an instance of a Rectangle object?: {isinstance(cube, Rectangle)}') "
   ],
   "outputs": [
    {
     "output_type": "stream",
     "name": "stdout",
     "text": [
      "Is the Cube Class a subclass of the Square Class?: True\n",
      "Is the Cube Class a subclass of the Rectangle Class?: True\n",
      "Is cube an instance of a Square object?: True\n",
      "Is cube an instance of a Rectangle object?: True\n"
     ]
    }
   ],
   "metadata": {}
  },
  {
   "cell_type": "markdown",
   "source": [
    "Children can override their parent's methods. Imagine that we want to define a right triangle class. The area an perimeter are different from a rectangle, so we can override the rectangle methods by rewriting the methods egain in the child class"
   ],
   "metadata": {}
  },
  {
   "cell_type": "code",
   "execution_count": null,
   "source": [
    "class RightTriangle(Rectangle):\r\n",
    "    def area(self):\r\n",
    "        return self.length * self.width / 2\r\n",
    "    def perimeter(self):\r\n",
    "        hypotenuse = (self.width ** 2 + self.length ** 2) ** 0.5\r\n",
    "        return hypotenuse + self.width + self.length"
   ],
   "outputs": [],
   "metadata": {}
  },
  {
   "cell_type": "code",
   "execution_count": 236,
   "source": [
    "right_triangle = RightTriangle(3, 4)\r\n",
    "print(dir(right_triangle))\r\n",
    "print(right_triangle.area())\r\n",
    "print(right_triangle.perimeter())"
   ],
   "outputs": [
    {
     "output_type": "stream",
     "name": "stdout",
     "text": [
      "['__class__', '__delattr__', '__dict__', '__dir__', '__doc__', '__eq__', '__format__', '__ge__', '__getattribute__', '__gt__', '__hash__', '__init__', '__init_subclass__', '__le__', '__lt__', '__module__', '__ne__', '__new__', '__reduce__', '__reduce_ex__', '__repr__', '__setattr__', '__sizeof__', '__str__', '__subclasshook__', '__weakref__', 'area', 'length', 'perimeter', 'width']\n",
      "6.0\n",
      "12.0\n"
     ]
    }
   ],
   "metadata": {}
  },
  {
   "cell_type": "markdown",
   "source": [
    "# Multiple Inheritance\n",
    "\n"
   ],
   "metadata": {}
  },
  {
   "cell_type": "markdown",
   "source": [
    "So far, we have seen Multilevel Inheritance (something similar to Grandparent, Parent, Child). We can also encounter Multiple Inheritance, which would correspond to a Father - Mother - Child relationship"
   ],
   "metadata": {}
  },
  {
   "cell_type": "markdown",
   "source": [
    "![Multilevel vs Multiple](images/Multiple_OOP.png)"
   ],
   "metadata": {}
  },
  {
   "cell_type": "markdown",
   "source": [
    "Let's see this with a Right Pyramid example, whose faces are one square, and four triangles\n",
    "\n",
    "![](images/right_pyramid.png)"
   ],
   "metadata": {}
  },
  {
   "cell_type": "code",
   "execution_count": 237,
   "source": [
    "class Triangle:\r\n",
    "    def __init__(self, base, height):\r\n",
    "        self.base = base\r\n",
    "        self.height = height\r\n",
    "\r\n",
    "    def area(self):\r\n",
    "        return 0.5 * self.base * self.height\r\n",
    "\r\n",
    "class RightPyramid(Triangle, Square):\r\n",
    "    def __init__(self, base, slant_height):\r\n",
    "        self.base = base\r\n",
    "        self.slant_height = slant_height\r\n",
    "\r\n",
    "    def area(self):\r\n",
    "        base_area = super().area()\r\n",
    "        perimeter = super().perimeter()\r\n",
    "        return 0.5 * perimeter * self.slant_height + base_area\r\n"
   ],
   "outputs": [],
   "metadata": {}
  },
  {
   "cell_type": "markdown",
   "source": [
    "This example declares a Triangle class and a RightPyramid class that inherits from both Square and Triangle.\r\n",
    "\r\n",
    "You’ll see another .area() method that uses super() just like in single inheritance, with the aim of it reaching the .perimeter() and .area() methods defined all the way up in the Rectangle class. "
   ],
   "metadata": {}
  },
  {
   "cell_type": "code",
   "execution_count": 241,
   "source": [
    "print(RightPyramid.mro())\r\n",
    "pyramid = RightPyramid(2, 4)\r\n",
    "pyramid.area()"
   ],
   "outputs": [
    {
     "output_type": "stream",
     "name": "stdout",
     "text": [
      "[<class '__main__.RightPyramid'>, <class '__main__.Square'>, <class '__main__.Rectangle'>, <class '__main__.Triangle'>, <class 'object'>]\n"
     ]
    },
    {
     "output_type": "error",
     "ename": "TypeError",
     "evalue": "__init__() missing 2 required positional arguments: 'base' and 'height'",
     "traceback": [
      "\u001b[1;31m---------------------------------------------------------------------------\u001b[0m",
      "\u001b[1;31mTypeError\u001b[0m                                 Traceback (most recent call last)",
      "\u001b[1;32m<ipython-input-241-971d75a7f9ff>\u001b[0m in \u001b[0;36m<module>\u001b[1;34m\u001b[0m\n\u001b[0;32m      1\u001b[0m \u001b[0mprint\u001b[0m\u001b[1;33m(\u001b[0m\u001b[0mRightPyramid\u001b[0m\u001b[1;33m.\u001b[0m\u001b[0mmro\u001b[0m\u001b[1;33m(\u001b[0m\u001b[1;33m)\u001b[0m\u001b[1;33m)\u001b[0m\u001b[1;33m\u001b[0m\u001b[1;33m\u001b[0m\u001b[0m\n\u001b[1;32m----> 2\u001b[1;33m \u001b[0mpyramid\u001b[0m \u001b[1;33m=\u001b[0m \u001b[0mRightPyramid\u001b[0m\u001b[1;33m(\u001b[0m\u001b[1;36m2\u001b[0m\u001b[1;33m,\u001b[0m \u001b[1;36m4\u001b[0m\u001b[1;33m)\u001b[0m\u001b[1;33m\u001b[0m\u001b[1;33m\u001b[0m\u001b[0m\n\u001b[0m\u001b[0;32m      3\u001b[0m \u001b[0mpyramid\u001b[0m\u001b[1;33m.\u001b[0m\u001b[0marea\u001b[0m\u001b[1;33m(\u001b[0m\u001b[1;33m)\u001b[0m\u001b[1;33m\u001b[0m\u001b[1;33m\u001b[0m\u001b[0m\n",
      "\u001b[1;32m<ipython-input-240-3ea1fe0b6f41>\u001b[0m in \u001b[0;36m__init__\u001b[1;34m(self, base, slant_height)\u001b[0m\n\u001b[0;32m     14\u001b[0m \u001b[1;32mclass\u001b[0m \u001b[0mRightPyramid\u001b[0m\u001b[1;33m(\u001b[0m\u001b[0mSquare\u001b[0m\u001b[1;33m,\u001b[0m \u001b[0mTriangle\u001b[0m\u001b[1;33m)\u001b[0m\u001b[1;33m:\u001b[0m\u001b[1;33m\u001b[0m\u001b[1;33m\u001b[0m\u001b[0m\n\u001b[0;32m     15\u001b[0m     \u001b[1;32mdef\u001b[0m \u001b[0m__init__\u001b[0m\u001b[1;33m(\u001b[0m\u001b[0mself\u001b[0m\u001b[1;33m,\u001b[0m \u001b[0mbase\u001b[0m\u001b[1;33m,\u001b[0m \u001b[0mslant_height\u001b[0m\u001b[1;33m)\u001b[0m\u001b[1;33m:\u001b[0m\u001b[1;33m\u001b[0m\u001b[1;33m\u001b[0m\u001b[0m\n\u001b[1;32m---> 16\u001b[1;33m         \u001b[0mSquare\u001b[0m\u001b[1;33m.\u001b[0m\u001b[0m__init__\u001b[0m\u001b[1;33m(\u001b[0m\u001b[0mself\u001b[0m\u001b[1;33m,\u001b[0m \u001b[0mbase\u001b[0m\u001b[1;33m)\u001b[0m\u001b[1;33m\u001b[0m\u001b[1;33m\u001b[0m\u001b[0m\n\u001b[0m\u001b[0;32m     17\u001b[0m         \u001b[0mTriangle\u001b[0m\u001b[1;33m.\u001b[0m\u001b[0m__init__\u001b[0m\u001b[1;33m(\u001b[0m\u001b[0mself\u001b[0m\u001b[1;33m,\u001b[0m \u001b[0mbase\u001b[0m\u001b[1;33m,\u001b[0m \u001b[0mslant_height\u001b[0m\u001b[1;33m)\u001b[0m\u001b[1;33m\u001b[0m\u001b[1;33m\u001b[0m\u001b[0m\n\u001b[0;32m     18\u001b[0m         \u001b[0mself\u001b[0m\u001b[1;33m.\u001b[0m\u001b[0mslant_height\u001b[0m \u001b[1;33m=\u001b[0m \u001b[0mslant_height\u001b[0m\u001b[1;33m\u001b[0m\u001b[1;33m\u001b[0m\u001b[0m\n",
      "\u001b[1;32m<ipython-input-240-3ea1fe0b6f41>\u001b[0m in \u001b[0;36m__init__\u001b[1;34m(self, length)\u001b[0m\n\u001b[0;32m      1\u001b[0m \u001b[1;32mclass\u001b[0m \u001b[0mSquare\u001b[0m\u001b[1;33m(\u001b[0m\u001b[0mRectangle\u001b[0m\u001b[1;33m)\u001b[0m\u001b[1;33m:\u001b[0m\u001b[1;33m\u001b[0m\u001b[1;33m\u001b[0m\u001b[0m\n\u001b[0;32m      2\u001b[0m     \u001b[1;32mdef\u001b[0m \u001b[0m__init__\u001b[0m\u001b[1;33m(\u001b[0m\u001b[0mself\u001b[0m\u001b[1;33m,\u001b[0m \u001b[0mlength\u001b[0m\u001b[1;33m)\u001b[0m\u001b[1;33m:\u001b[0m\u001b[1;33m\u001b[0m\u001b[1;33m\u001b[0m\u001b[0m\n\u001b[1;32m----> 3\u001b[1;33m         \u001b[0msuper\u001b[0m\u001b[1;33m(\u001b[0m\u001b[1;33m)\u001b[0m\u001b[1;33m.\u001b[0m\u001b[0m__init__\u001b[0m\u001b[1;33m(\u001b[0m\u001b[0mlength\u001b[0m\u001b[1;33m,\u001b[0m \u001b[0mlength\u001b[0m\u001b[1;33m)\u001b[0m\u001b[1;33m\u001b[0m\u001b[1;33m\u001b[0m\u001b[0m\n\u001b[0m\u001b[0;32m      4\u001b[0m \u001b[1;33m\u001b[0m\u001b[0m\n\u001b[0;32m      5\u001b[0m \u001b[1;32mclass\u001b[0m \u001b[0mTriangle\u001b[0m\u001b[1;33m:\u001b[0m\u001b[1;33m\u001b[0m\u001b[1;33m\u001b[0m\u001b[0m\n",
      "\u001b[1;32m<ipython-input-178-d8bef7624f8d>\u001b[0m in \u001b[0;36m__init__\u001b[1;34m(self, length, width, **kwargs)\u001b[0m\n\u001b[0;32m      3\u001b[0m         \u001b[0mself\u001b[0m\u001b[1;33m.\u001b[0m\u001b[0mlength\u001b[0m \u001b[1;33m=\u001b[0m \u001b[0mlength\u001b[0m\u001b[1;33m\u001b[0m\u001b[1;33m\u001b[0m\u001b[0m\n\u001b[0;32m      4\u001b[0m         \u001b[0mself\u001b[0m\u001b[1;33m.\u001b[0m\u001b[0mwidth\u001b[0m \u001b[1;33m=\u001b[0m \u001b[0mwidth\u001b[0m\u001b[1;33m\u001b[0m\u001b[1;33m\u001b[0m\u001b[0m\n\u001b[1;32m----> 5\u001b[1;33m         \u001b[0msuper\u001b[0m\u001b[1;33m(\u001b[0m\u001b[1;33m)\u001b[0m\u001b[1;33m.\u001b[0m\u001b[0m__init__\u001b[0m\u001b[1;33m(\u001b[0m\u001b[1;33m**\u001b[0m\u001b[0mkwargs\u001b[0m\u001b[1;33m)\u001b[0m\u001b[1;33m\u001b[0m\u001b[1;33m\u001b[0m\u001b[0m\n\u001b[0m\u001b[0;32m      6\u001b[0m \u001b[1;33m\u001b[0m\u001b[0m\n\u001b[0;32m      7\u001b[0m     \u001b[1;32mdef\u001b[0m \u001b[0marea\u001b[0m\u001b[1;33m(\u001b[0m\u001b[0mself\u001b[0m\u001b[1;33m)\u001b[0m\u001b[1;33m:\u001b[0m\u001b[1;33m\u001b[0m\u001b[1;33m\u001b[0m\u001b[0m\n",
      "\u001b[1;31mTypeError\u001b[0m: __init__() missing 2 required positional arguments: 'base' and 'height'"
     ]
    }
   ],
   "metadata": {}
  },
  {
   "cell_type": "markdown",
   "source": [
    "What happened here? Why do we need height here? Observe the error, where is it looking for height? We need to obtain the area from the square base, so getting the height here is useless\n",
    "\n",
    "RightPyramid.\\_\\_mro__ Method Resolution Order will give us the order in which the child will search the parent's methods.\n",
    "\n",
    "This tells us that methods will be searched first in Rightpyramid, then in Triangle, then in Square, then Rectangle. Triangle.area() expects there to be a .height and a .base attribute, Python throws an AttributeError."
   ],
   "metadata": {}
  },
  {
   "cell_type": "code",
   "execution_count": null,
   "source": [
    "class RightPyramid(Square, Triangle): # Change the order of the parents\r\n",
    "    def __init__(self, base, slant_height):\r\n",
    "        self.base = base\r\n",
    "        self.slant_height = slant_height\r\n",
    "        super().__init__(self.base) # Modify the Square class substituting length by base\r\n",
    "\r\n",
    "    def area(self):\r\n",
    "        base_area = super().area()\r\n",
    "        perimeter = super().perimeter()\r\n",
    "        return 0.5 * perimeter * self.slant_height + base_area\r\n"
   ],
   "outputs": [],
   "metadata": {}
  },
  {
   "cell_type": "code",
   "execution_count": null,
   "source": [
    "pyramid = RightPyramid(2, 4)\r\n",
    "print(RightPyramid.__mro__)\r\n",
    "pyramid.__dict__"
   ],
   "outputs": [
    {
     "output_type": "error",
     "ename": "TypeError",
     "evalue": "__init__() missing 2 required positional arguments: 'base' and 'height'",
     "traceback": [
      "\u001b[1;31m---------------------------------------------------------------------------\u001b[0m",
      "\u001b[1;31mTypeError\u001b[0m                                 Traceback (most recent call last)",
      "\u001b[1;32m<ipython-input-229-a70fed418ac5>\u001b[0m in \u001b[0;36m<module>\u001b[1;34m\u001b[0m\n\u001b[1;32m----> 1\u001b[1;33m \u001b[0mpyramid\u001b[0m \u001b[1;33m=\u001b[0m \u001b[0mRightPyramid\u001b[0m\u001b[1;33m(\u001b[0m\u001b[1;36m2\u001b[0m\u001b[1;33m,\u001b[0m \u001b[1;36m4\u001b[0m\u001b[1;33m)\u001b[0m\u001b[1;33m\u001b[0m\u001b[1;33m\u001b[0m\u001b[0m\n\u001b[0m\u001b[0;32m      2\u001b[0m \u001b[0mprint\u001b[0m\u001b[1;33m(\u001b[0m\u001b[0mRightPyramid\u001b[0m\u001b[1;33m.\u001b[0m\u001b[0m__mro__\u001b[0m\u001b[1;33m)\u001b[0m\u001b[1;33m\u001b[0m\u001b[1;33m\u001b[0m\u001b[0m\n\u001b[0;32m      3\u001b[0m \u001b[0mpyramid\u001b[0m\u001b[1;33m.\u001b[0m\u001b[0m__dict__\u001b[0m\u001b[1;33m\u001b[0m\u001b[1;33m\u001b[0m\u001b[0m\n",
      "\u001b[1;32m<ipython-input-228-54f504193b85>\u001b[0m in \u001b[0;36m__init__\u001b[1;34m(self, base, slant_height)\u001b[0m\n\u001b[0;32m      3\u001b[0m         \u001b[0mself\u001b[0m\u001b[1;33m.\u001b[0m\u001b[0mbase\u001b[0m \u001b[1;33m=\u001b[0m \u001b[0mbase\u001b[0m\u001b[1;33m\u001b[0m\u001b[1;33m\u001b[0m\u001b[0m\n\u001b[0;32m      4\u001b[0m         \u001b[0mself\u001b[0m\u001b[1;33m.\u001b[0m\u001b[0mslant_height\u001b[0m \u001b[1;33m=\u001b[0m \u001b[0mslant_height\u001b[0m\u001b[1;33m\u001b[0m\u001b[1;33m\u001b[0m\u001b[0m\n\u001b[1;32m----> 5\u001b[1;33m         \u001b[0msuper\u001b[0m\u001b[1;33m(\u001b[0m\u001b[1;33m)\u001b[0m\u001b[1;33m.\u001b[0m\u001b[0m__init__\u001b[0m\u001b[1;33m(\u001b[0m\u001b[0mself\u001b[0m\u001b[1;33m.\u001b[0m\u001b[0mbase\u001b[0m\u001b[1;33m)\u001b[0m \u001b[1;31m# Modify the Square class substituting length by base\u001b[0m\u001b[1;33m\u001b[0m\u001b[1;33m\u001b[0m\u001b[0m\n\u001b[0m\u001b[0;32m      6\u001b[0m \u001b[1;33m\u001b[0m\u001b[0m\n\u001b[0;32m      7\u001b[0m     \u001b[1;32mdef\u001b[0m \u001b[0marea\u001b[0m\u001b[1;33m(\u001b[0m\u001b[0mself\u001b[0m\u001b[1;33m)\u001b[0m\u001b[1;33m:\u001b[0m\u001b[1;33m\u001b[0m\u001b[1;33m\u001b[0m\u001b[0m\n",
      "\u001b[1;32m<ipython-input-224-76ade7e78b9a>\u001b[0m in \u001b[0;36m__init__\u001b[1;34m(self, length)\u001b[0m\n\u001b[0;32m      1\u001b[0m \u001b[1;32mclass\u001b[0m \u001b[0mSquare\u001b[0m\u001b[1;33m(\u001b[0m\u001b[0mRectangle\u001b[0m\u001b[1;33m)\u001b[0m\u001b[1;33m:\u001b[0m\u001b[1;33m\u001b[0m\u001b[1;33m\u001b[0m\u001b[0m\n\u001b[0;32m      2\u001b[0m     \u001b[1;32mdef\u001b[0m \u001b[0m__init__\u001b[0m\u001b[1;33m(\u001b[0m\u001b[0mself\u001b[0m\u001b[1;33m,\u001b[0m \u001b[0mlength\u001b[0m\u001b[1;33m)\u001b[0m\u001b[1;33m:\u001b[0m\u001b[1;33m\u001b[0m\u001b[1;33m\u001b[0m\u001b[0m\n\u001b[1;32m----> 3\u001b[1;33m         \u001b[0msuper\u001b[0m\u001b[1;33m(\u001b[0m\u001b[1;33m)\u001b[0m\u001b[1;33m.\u001b[0m\u001b[0m__init__\u001b[0m\u001b[1;33m(\u001b[0m\u001b[0mlength\u001b[0m\u001b[1;33m,\u001b[0m \u001b[0mlength\u001b[0m\u001b[1;33m)\u001b[0m\u001b[1;33m\u001b[0m\u001b[1;33m\u001b[0m\u001b[0m\n\u001b[0m\u001b[0;32m      4\u001b[0m \u001b[1;33m\u001b[0m\u001b[0m\n\u001b[0;32m      5\u001b[0m \u001b[1;32mclass\u001b[0m \u001b[0mCube\u001b[0m\u001b[1;33m(\u001b[0m\u001b[0mSquare\u001b[0m\u001b[1;33m)\u001b[0m\u001b[1;33m:\u001b[0m\u001b[1;33m\u001b[0m\u001b[1;33m\u001b[0m\u001b[0m\n",
      "\u001b[1;32m<ipython-input-178-d8bef7624f8d>\u001b[0m in \u001b[0;36m__init__\u001b[1;34m(self, length, width, **kwargs)\u001b[0m\n\u001b[0;32m      3\u001b[0m         \u001b[0mself\u001b[0m\u001b[1;33m.\u001b[0m\u001b[0mlength\u001b[0m \u001b[1;33m=\u001b[0m \u001b[0mlength\u001b[0m\u001b[1;33m\u001b[0m\u001b[1;33m\u001b[0m\u001b[0m\n\u001b[0;32m      4\u001b[0m         \u001b[0mself\u001b[0m\u001b[1;33m.\u001b[0m\u001b[0mwidth\u001b[0m \u001b[1;33m=\u001b[0m \u001b[0mwidth\u001b[0m\u001b[1;33m\u001b[0m\u001b[1;33m\u001b[0m\u001b[0m\n\u001b[1;32m----> 5\u001b[1;33m         \u001b[0msuper\u001b[0m\u001b[1;33m(\u001b[0m\u001b[1;33m)\u001b[0m\u001b[1;33m.\u001b[0m\u001b[0m__init__\u001b[0m\u001b[1;33m(\u001b[0m\u001b[1;33m**\u001b[0m\u001b[0mkwargs\u001b[0m\u001b[1;33m)\u001b[0m\u001b[1;33m\u001b[0m\u001b[1;33m\u001b[0m\u001b[0m\n\u001b[0m\u001b[0;32m      6\u001b[0m \u001b[1;33m\u001b[0m\u001b[0m\n\u001b[0;32m      7\u001b[0m     \u001b[1;32mdef\u001b[0m \u001b[0marea\u001b[0m\u001b[1;33m(\u001b[0m\u001b[0mself\u001b[0m\u001b[1;33m)\u001b[0m\u001b[1;33m:\u001b[0m\u001b[1;33m\u001b[0m\u001b[1;33m\u001b[0m\u001b[0m\n",
      "\u001b[1;31mTypeError\u001b[0m: __init__() missing 2 required positional arguments: 'base' and 'height'"
     ]
    }
   ],
   "metadata": {}
  },
  {
   "cell_type": "markdown",
   "source": [
    "In multiple inheritance, you should design the classes so they are synced, for example, do NOT use the same name for methods, and if you have to, add more information to the name of said methods. For instance, you can rename the Triangle class’s .area() method .tri_area()."
   ],
   "metadata": {}
  },
  {
   "cell_type": "code",
   "execution_count": 239,
   "source": [
    "class Triangle:\r\n",
    "    def __init__(self, base, height):\r\n",
    "        self.base = base\r\n",
    "        self.height = height\r\n",
    "        super().__init__()\r\n",
    "\r\n",
    "    def tri_area(self):\r\n",
    "        return 0.5 * self.base * self.height\r\n"
   ],
   "outputs": [],
   "metadata": {}
  },
  {
   "cell_type": "code",
   "execution_count": 240,
   "source": [
    "class Square(Rectangle):\r\n",
    "    def __init__(self, length):\r\n",
    "        super().__init__(length, length)\r\n",
    "\r\n",
    "class Triangle:\r\n",
    "    def __init__(self, base, height):\r\n",
    "        self.base = base\r\n",
    "        self.height = height\r\n",
    "        super().__init__()\r\n",
    "\r\n",
    "    def tri_area(self):\r\n",
    "        return 0.5 * self.base * self.height\r\n",
    "\r\n",
    "class RightPyramid(Square, Triangle):\r\n",
    "    def __init__(self, base, slant_height):\r\n",
    "        Square.__init__(self, base)\r\n",
    "        Triangle.__init__(self, base, slant_height)\r\n",
    "        self.slant_height = slant_height\r\n",
    "        self.base_area = super().area()\r\n",
    "        self.perimeter = super().perimeter()\r\n",
    "\r\n",
    "    def area(self):\r\n",
    "        return 0.5 * self.perimeter * self.slant_height + self.base_area\r\n",
    "\r\n",
    "    def area_2(self):\r\n",
    "        triangle_area = super().tri_area()\r\n",
    "        return triangle_area * 4 + self.base_area\r\n"
   ],
   "outputs": [],
   "metadata": {}
  },
  {
   "cell_type": "code",
   "execution_count": null,
   "source": [
    "right_pyramid = RightPyramid(3, 4)\r\n",
    "print(right_pyramid.area())\r\n",
    "print(right_pyramid.area_2())\r\n"
   ],
   "outputs": [
    {
     "output_type": "error",
     "ename": "TypeError",
     "evalue": "__init__() missing 2 required positional arguments: 'base' and 'height'",
     "traceback": [
      "\u001b[1;31m---------------------------------------------------------------------------\u001b[0m",
      "\u001b[1;31mTypeError\u001b[0m                                 Traceback (most recent call last)",
      "\u001b[1;32m<ipython-input-177-04945e8e9dff>\u001b[0m in \u001b[0;36m<module>\u001b[1;34m\u001b[0m\n\u001b[1;32m----> 1\u001b[1;33m \u001b[0mright_pyramid\u001b[0m \u001b[1;33m=\u001b[0m \u001b[0mRightPyramid\u001b[0m\u001b[1;33m(\u001b[0m\u001b[1;36m3\u001b[0m\u001b[1;33m,\u001b[0m \u001b[1;36m4\u001b[0m\u001b[1;33m)\u001b[0m\u001b[1;33m\u001b[0m\u001b[1;33m\u001b[0m\u001b[0m\n\u001b[0m\u001b[0;32m      2\u001b[0m \u001b[0mprint\u001b[0m\u001b[1;33m(\u001b[0m\u001b[0mright_pyramid\u001b[0m\u001b[1;33m.\u001b[0m\u001b[0marea\u001b[0m\u001b[1;33m(\u001b[0m\u001b[1;33m)\u001b[0m\u001b[1;33m)\u001b[0m\u001b[1;33m\u001b[0m\u001b[1;33m\u001b[0m\u001b[0m\n\u001b[0;32m      3\u001b[0m \u001b[0mprint\u001b[0m\u001b[1;33m(\u001b[0m\u001b[0mright_pyramid\u001b[0m\u001b[1;33m.\u001b[0m\u001b[0marea_2\u001b[0m\u001b[1;33m(\u001b[0m\u001b[1;33m)\u001b[0m\u001b[1;33m)\u001b[0m\u001b[1;33m\u001b[0m\u001b[1;33m\u001b[0m\u001b[0m\n",
      "\u001b[1;32m<ipython-input-176-3ea1fe0b6f41>\u001b[0m in \u001b[0;36m__init__\u001b[1;34m(self, base, slant_height)\u001b[0m\n\u001b[0;32m     14\u001b[0m \u001b[1;32mclass\u001b[0m \u001b[0mRightPyramid\u001b[0m\u001b[1;33m(\u001b[0m\u001b[0mSquare\u001b[0m\u001b[1;33m,\u001b[0m \u001b[0mTriangle\u001b[0m\u001b[1;33m)\u001b[0m\u001b[1;33m:\u001b[0m\u001b[1;33m\u001b[0m\u001b[1;33m\u001b[0m\u001b[0m\n\u001b[0;32m     15\u001b[0m     \u001b[1;32mdef\u001b[0m \u001b[0m__init__\u001b[0m\u001b[1;33m(\u001b[0m\u001b[0mself\u001b[0m\u001b[1;33m,\u001b[0m \u001b[0mbase\u001b[0m\u001b[1;33m,\u001b[0m \u001b[0mslant_height\u001b[0m\u001b[1;33m)\u001b[0m\u001b[1;33m:\u001b[0m\u001b[1;33m\u001b[0m\u001b[1;33m\u001b[0m\u001b[0m\n\u001b[1;32m---> 16\u001b[1;33m         \u001b[0mSquare\u001b[0m\u001b[1;33m.\u001b[0m\u001b[0m__init__\u001b[0m\u001b[1;33m(\u001b[0m\u001b[0mself\u001b[0m\u001b[1;33m,\u001b[0m \u001b[0mbase\u001b[0m\u001b[1;33m)\u001b[0m\u001b[1;33m\u001b[0m\u001b[1;33m\u001b[0m\u001b[0m\n\u001b[0m\u001b[0;32m     17\u001b[0m         \u001b[0mTriangle\u001b[0m\u001b[1;33m.\u001b[0m\u001b[0m__init__\u001b[0m\u001b[1;33m(\u001b[0m\u001b[0mself\u001b[0m\u001b[1;33m,\u001b[0m \u001b[0mbase\u001b[0m\u001b[1;33m,\u001b[0m \u001b[0mslant_height\u001b[0m\u001b[1;33m)\u001b[0m\u001b[1;33m\u001b[0m\u001b[1;33m\u001b[0m\u001b[0m\n\u001b[0;32m     18\u001b[0m         \u001b[0mself\u001b[0m\u001b[1;33m.\u001b[0m\u001b[0mslant_height\u001b[0m \u001b[1;33m=\u001b[0m \u001b[0mslant_height\u001b[0m\u001b[1;33m\u001b[0m\u001b[1;33m\u001b[0m\u001b[0m\n",
      "\u001b[1;32m<ipython-input-176-3ea1fe0b6f41>\u001b[0m in \u001b[0;36m__init__\u001b[1;34m(self, length)\u001b[0m\n\u001b[0;32m      1\u001b[0m \u001b[1;32mclass\u001b[0m \u001b[0mSquare\u001b[0m\u001b[1;33m(\u001b[0m\u001b[0mRectangle\u001b[0m\u001b[1;33m)\u001b[0m\u001b[1;33m:\u001b[0m\u001b[1;33m\u001b[0m\u001b[1;33m\u001b[0m\u001b[0m\n\u001b[0;32m      2\u001b[0m     \u001b[1;32mdef\u001b[0m \u001b[0m__init__\u001b[0m\u001b[1;33m(\u001b[0m\u001b[0mself\u001b[0m\u001b[1;33m,\u001b[0m \u001b[0mlength\u001b[0m\u001b[1;33m)\u001b[0m\u001b[1;33m:\u001b[0m\u001b[1;33m\u001b[0m\u001b[1;33m\u001b[0m\u001b[0m\n\u001b[1;32m----> 3\u001b[1;33m         \u001b[0msuper\u001b[0m\u001b[1;33m(\u001b[0m\u001b[1;33m)\u001b[0m\u001b[1;33m.\u001b[0m\u001b[0m__init__\u001b[0m\u001b[1;33m(\u001b[0m\u001b[0mlength\u001b[0m\u001b[1;33m,\u001b[0m \u001b[0mlength\u001b[0m\u001b[1;33m)\u001b[0m\u001b[1;33m\u001b[0m\u001b[1;33m\u001b[0m\u001b[0m\n\u001b[0m\u001b[0;32m      4\u001b[0m \u001b[1;33m\u001b[0m\u001b[0m\n\u001b[0;32m      5\u001b[0m \u001b[1;32mclass\u001b[0m \u001b[0mTriangle\u001b[0m\u001b[1;33m:\u001b[0m\u001b[1;33m\u001b[0m\u001b[1;33m\u001b[0m\u001b[0m\n",
      "\u001b[1;32m<ipython-input-156-d8bef7624f8d>\u001b[0m in \u001b[0;36m__init__\u001b[1;34m(self, length, width, **kwargs)\u001b[0m\n\u001b[0;32m      3\u001b[0m         \u001b[0mself\u001b[0m\u001b[1;33m.\u001b[0m\u001b[0mlength\u001b[0m \u001b[1;33m=\u001b[0m \u001b[0mlength\u001b[0m\u001b[1;33m\u001b[0m\u001b[1;33m\u001b[0m\u001b[0m\n\u001b[0;32m      4\u001b[0m         \u001b[0mself\u001b[0m\u001b[1;33m.\u001b[0m\u001b[0mwidth\u001b[0m \u001b[1;33m=\u001b[0m \u001b[0mwidth\u001b[0m\u001b[1;33m\u001b[0m\u001b[1;33m\u001b[0m\u001b[0m\n\u001b[1;32m----> 5\u001b[1;33m         \u001b[0msuper\u001b[0m\u001b[1;33m(\u001b[0m\u001b[1;33m)\u001b[0m\u001b[1;33m.\u001b[0m\u001b[0m__init__\u001b[0m\u001b[1;33m(\u001b[0m\u001b[1;33m**\u001b[0m\u001b[0mkwargs\u001b[0m\u001b[1;33m)\u001b[0m\u001b[1;33m\u001b[0m\u001b[1;33m\u001b[0m\u001b[0m\n\u001b[0m\u001b[0;32m      6\u001b[0m \u001b[1;33m\u001b[0m\u001b[0m\n\u001b[0;32m      7\u001b[0m     \u001b[1;32mdef\u001b[0m \u001b[0marea\u001b[0m\u001b[1;33m(\u001b[0m\u001b[0mself\u001b[0m\u001b[1;33m)\u001b[0m\u001b[1;33m:\u001b[0m\u001b[1;33m\u001b[0m\u001b[1;33m\u001b[0m\u001b[0m\n",
      "\u001b[1;31mTypeError\u001b[0m: __init__() missing 2 required positional arguments: 'base' and 'height'"
     ]
    }
   ],
   "metadata": {}
  },
  {
   "cell_type": "code",
   "execution_count": null,
   "source": [
    "class Rectangle:\r\n",
    "    def __init__(self, length, width, **kwargs):\r\n",
    "        self.length = length\r\n",
    "        self.width = width\r\n",
    "        super().__init__(**kwargs)\r\n",
    "\r\n",
    "    def area(self):\r\n",
    "        return self.length * self.width\r\n",
    "\r\n",
    "    def perimeter(self):\r\n",
    "        return 2 * self.length + 2 * self.width\r\n",
    "\r\n",
    "# Here we declare that the Square class inherits from \r\n",
    "# the Rectangle class\r\n",
    "class Square(Rectangle):\r\n",
    "    def __init__(self, length, **kwargs):\r\n",
    "        super().__init__(length=length, width=length, **kwargs)\r\n",
    "\r\n",
    "class Cube(Square):\r\n",
    "    def surface_area(self):\r\n",
    "        face_area = super().area()\r\n",
    "        return face_area * 6\r\n",
    "\r\n",
    "    def volume(self):\r\n",
    "        face_area = super().area()\r\n",
    "        return face_area * self.length\r\n",
    "\r\n",
    "class Triangle:\r\n",
    "    def __init__(self, base, height, **kwargs):\r\n",
    "        self.base = base\r\n",
    "        self.height = height\r\n",
    "        super().__init__(**kwargs)\r\n",
    "\r\n",
    "    def tri_area(self):\r\n",
    "        return 0.5 * self.base * self.height\r\n",
    "\r\n",
    "class RightPyramid(Square, Triangle):\r\n",
    "    def __init__(self, base, slant_height, **kwargs):\r\n",
    "        self.base = base\r\n",
    "        self.slant_height = slant_height\r\n",
    "        kwargs[\"height\"] = slant_height\r\n",
    "        kwargs[\"length\"] = base\r\n",
    "        super().__init__(base=base, **kwargs)\r\n",
    "\r\n",
    "    def area(self):\r\n",
    "        base_area = super().area()\r\n",
    "        perimeter = super().perimeter()\r\n",
    "        return 0.5 * perimeter * self.slant_height + base_area\r\n",
    "\r\n",
    "    def area_2(self):\r\n",
    "        base_area = super().area()\r\n",
    "        triangle_area = super().tri_area()\r\n",
    "        return triangle_area * 4 + base_area\r\n"
   ],
   "outputs": [],
   "metadata": {}
  },
  {
   "cell_type": "markdown",
   "source": [
    "# Abstract Base Classes (ABCs)\n",
    "\n",
    "![](images/ABC.jpg)\n",
    "\n",
    "ABCs are classes with abstract methods. To make an ABC an ABC, you have to inherit from ABC and implement a abstract method"
   ],
   "metadata": {}
  },
  {
   "cell_type": "code",
   "execution_count": null,
   "source": [
    "from abc import ABC, abstractmethod\r\n",
    "\r\n",
    "class Animal():\r\n",
    "\r\n",
    "    def __init__(self, name):\r\n",
    "            self.name = name\r\n",
    "\r\n",
    "    def say_hello(self):\r\n",
    "        pass\r\n",
    "\r\n",
    "cuddles = Animal('Cuddles')\r\n",
    "# No errors, still not an ABC"
   ],
   "outputs": [],
   "metadata": {}
  },
  {
   "cell_type": "code",
   "execution_count": null,
   "source": [
    "from abc import ABC, abstractmethod\r\n",
    "\r\n",
    "class Animal(ABC):\r\n",
    "\r\n",
    "    def __init__(self, name):\r\n",
    "            self.name = name\r\n",
    "\r\n",
    "    def say_hello(self):\r\n",
    "        pass\r\n",
    "\r\n",
    "cuddles = Animal('Cuddles')\r\n",
    "# No errors, still not an ABC"
   ],
   "outputs": [],
   "metadata": {}
  },
  {
   "cell_type": "code",
   "execution_count": null,
   "source": [
    "from abc import ABC, abstractmethod\r\n",
    "\r\n",
    "class Animal(ABC):\r\n",
    "\r\n",
    "    def __init__(self, name, characteristic):\r\n",
    "            self.name = name\r\n",
    "            self.characteristic = characteristic\r\n",
    "\r\n",
    "    @abstractmethod\r\n",
    "    def say_hello(self):\r\n",
    "        pass\r\n",
    "\r\n",
    "cuddles = Animal('Cuddles')\r\n",
    "# No errors, still not an ABC :O"
   ],
   "outputs": [
    {
     "output_type": "error",
     "ename": "TypeError",
     "evalue": "Can't instantiate abstract class Animal with abstract methods say_hello",
     "traceback": [
      "\u001b[1;31m---------------------------------------------------------------------------\u001b[0m",
      "\u001b[1;31mTypeError\u001b[0m                                 Traceback (most recent call last)",
      "\u001b[1;32m<ipython-input-164-43ac6033b9d8>\u001b[0m in \u001b[0;36m<module>\u001b[1;34m\u001b[0m\n\u001b[0;32m     11\u001b[0m         \u001b[1;32mpass\u001b[0m\u001b[1;33m\u001b[0m\u001b[1;33m\u001b[0m\u001b[0m\n\u001b[0;32m     12\u001b[0m \u001b[1;33m\u001b[0m\u001b[0m\n\u001b[1;32m---> 13\u001b[1;33m \u001b[0mcuddles\u001b[0m \u001b[1;33m=\u001b[0m \u001b[0mAnimal\u001b[0m\u001b[1;33m(\u001b[0m\u001b[1;34m'Cuddles'\u001b[0m\u001b[1;33m)\u001b[0m\u001b[1;33m\u001b[0m\u001b[1;33m\u001b[0m\u001b[0m\n\u001b[0m\u001b[0;32m     14\u001b[0m \u001b[1;31m# No errors, still not an ABC :O\u001b[0m\u001b[1;33m\u001b[0m\u001b[1;33m\u001b[0m\u001b[1;33m\u001b[0m\u001b[0m\n",
      "\u001b[1;31mTypeError\u001b[0m: Can't instantiate abstract class Animal with abstract methods say_hello"
     ]
    }
   ],
   "metadata": {}
  },
  {
   "cell_type": "markdown",
   "source": [
    "Now Animal class is a blueprint for blueprints... Thus, we can create classes that are consistent with each other.\n",
    "\n",
    "Let's say that we want our animals to say hello and say a characteristic with a method."
   ],
   "metadata": {}
  },
  {
   "cell_type": "code",
   "execution_count": null,
   "source": [
    "class Lion:\r\n",
    "    def __init__(self, name, characteristic):\r\n",
    "        self.name = name\r\n",
    "        self.characteristic = characteristic\r\n",
    "\r\n",
    "    def roar_hello(self):\r\n",
    "        print(f'Hi, my name is {self.name} and I have {self.characteristic}')\r\n",
    "\r\n",
    "class Mouse:\r\n",
    "    def __init__(self, name, characteristic):\r\n",
    "        self.name = name\r\n",
    "        self.characteristic = characteristic\r\n",
    "\r\n",
    "    def squeak_hello(self):\r\n",
    "        print(f'Hi, my name is {self.name} and I have {self.characteristic}')\r\n",
    "\r\n",
    "class Koala:\r\n",
    "    def __init__(self, name, characteristic):\r\n",
    "        self.name = name\r\n",
    "        self.characteristic = characteristic\r\n",
    "\r\n",
    "    def growl_hello(self):\r\n",
    "        print(f'Hi, my name is {self.name} and I have {self.characteristic}')\r\n"
   ],
   "outputs": [],
   "metadata": {}
  },
  {
   "cell_type": "markdown",
   "source": [
    "Observe that each animal has a different method for saying hello. This is very tedious, and it's not OOP at all. However, the user don't usually know that the parent method has already a method that is saying hello"
   ],
   "metadata": {}
  },
  {
   "cell_type": "code",
   "execution_count": null,
   "source": [
    "animals = [Lion('Alex', 'a long mane'), Mouse('Mickey', 'a long tail'), Koala('Cuddles', 'chlamydia')]\r\n",
    "for animal in animals:\r\n",
    "    if 'roar_hello' in dir(animal):\r\n",
    "        animal.roar_hello()\r\n",
    "    elif 'squeak_hello' in dir(animal):\r\n",
    "        animal.squeak_hello()\r\n",
    "    elif 'growl_hello' in dir(animal):\r\n",
    "        animal.growl_hello()\r\n",
    "    "
   ],
   "outputs": [
    {
     "output_type": "stream",
     "name": "stdout",
     "text": [
      "Hi, my name is Alex and I have a long mane\n",
      "Hi, my name is Mickey and I have a long tail\n",
      "Hi, my name is Cuddles and I have chlamydia\n"
     ]
    }
   ],
   "metadata": {}
  },
  {
   "cell_type": "markdown",
   "source": [
    "Remember that Animal has an abstractmethod. This will force the children to have that method. Let's try instantiate Lion, which inherits from Animal, without a say_hello method"
   ],
   "metadata": {}
  },
  {
   "cell_type": "code",
   "execution_count": null,
   "source": [
    "class Lion(Animal):\r\n",
    "\r\n",
    "    def roar_hello(self):\r\n",
    "        print(f'Hi, my name is {self.name} and I have {self.characteristic}')\r\n",
    "\r\n",
    "alex = Lion('Alex', 'a long mane')"
   ],
   "outputs": [
    {
     "output_type": "error",
     "ename": "TypeError",
     "evalue": "Can't instantiate abstract class Lion with abstract methods say_hello",
     "traceback": [
      "\u001b[1;31m---------------------------------------------------------------------------\u001b[0m",
      "\u001b[1;31mTypeError\u001b[0m                                 Traceback (most recent call last)",
      "\u001b[1;32m<ipython-input-179-34409db96fac>\u001b[0m in \u001b[0;36m<module>\u001b[1;34m\u001b[0m\n\u001b[0;32m      4\u001b[0m         \u001b[0mprint\u001b[0m\u001b[1;33m(\u001b[0m\u001b[1;34mf'Hi, my name is {self.name} and I have {self.characteristic}'\u001b[0m\u001b[1;33m)\u001b[0m\u001b[1;33m\u001b[0m\u001b[1;33m\u001b[0m\u001b[0m\n\u001b[0;32m      5\u001b[0m \u001b[1;33m\u001b[0m\u001b[0m\n\u001b[1;32m----> 6\u001b[1;33m \u001b[0malex\u001b[0m \u001b[1;33m=\u001b[0m \u001b[0mLion\u001b[0m\u001b[1;33m(\u001b[0m\u001b[1;34m'Alex'\u001b[0m\u001b[1;33m,\u001b[0m \u001b[1;34m'a long mane'\u001b[0m\u001b[1;33m)\u001b[0m\u001b[1;33m\u001b[0m\u001b[1;33m\u001b[0m\u001b[0m\n\u001b[0m",
      "\u001b[1;31mTypeError\u001b[0m: Can't instantiate abstract class Lion with abstract methods say_hello"
     ]
    }
   ],
   "metadata": {}
  },
  {
   "cell_type": "markdown",
   "source": [
    "As expected, we can't do that because we are forcing Animal's children to have a method named say_hello. Two general rules, if you define a Abstract Base Class, the abstract method is there for a reason, not just because you are being whimsical, and the other rule, when defining an abstract method, give it a descriptive name, all children need to have this method, so better make it easy for the user to know what to code. "
   ],
   "metadata": {}
  },
  {
   "cell_type": "markdown",
   "source": [
    "Let's create the classes with the say_hello method"
   ],
   "metadata": {}
  },
  {
   "cell_type": "code",
   "execution_count": null,
   "source": [
    "class Lion(Animal):\r\n",
    "    def say_hello(self):\r\n",
    "        print(f'Hi, my name is {self.name} and I have {self.characteristic}')\r\n",
    "\r\n",
    "class Mouse(Animal):\r\n",
    "   def say_hello(self):\r\n",
    "        print(f'Hi, my name is {self.name} and I have {self.characteristic}')\r\n",
    "\r\n",
    "class Koala(Animal):\r\n",
    "    def say_hello(self):\r\n",
    "        print(f'Hi, my name is {self.name} and I have {self.characteristic}')\r\n",
    "        \r\n",
    "animals = [Lion('Alex', 'a long mane'), Mouse('Mickey', 'a long tail'), Koala('Cuddles', 'chlamydia')]\r\n",
    "for animal in animals:\r\n",
    "    animal.say_hello()\r\n"
   ],
   "outputs": [
    {
     "output_type": "stream",
     "name": "stdout",
     "text": [
      "Hi, my name is Alex and I have a long mane\n",
      "Hi, my name is Mickey and I have a long tail\n",
      "Hi, my name is Cuddles and I have chlamydia\n"
     ]
    }
   ],
   "metadata": {}
  },
  {
   "cell_type": "markdown",
   "source": [
    "# Magic Methods"
   ],
   "metadata": {}
  },
  {
   "cell_type": "markdown",
   "source": [
    "Magic methods allow us to use Python built-in functions and operators with our classes. For example, let's try using the len() function in the Building class:"
   ],
   "metadata": {}
  },
  {
   "cell_type": "code",
   "execution_count": null,
   "source": [
    "class Building:\r\n",
    "    def __init__(self, floor_area, n_floors):\r\n",
    "        self.floor_area = floor_area\r\n",
    "        self.n_floors = n_floors\r\n",
    "\r\n",
    "library = Building(200, 5)\r\n",
    "print(len(library))\r\n",
    "\r\n"
   ],
   "outputs": [
    {
     "output_type": "error",
     "ename": "TypeError",
     "evalue": "object of type 'Building' has no len()",
     "traceback": [
      "\u001b[1;31m---------------------------------------------------------------------------\u001b[0m",
      "\u001b[1;31mTypeError\u001b[0m                                 Traceback (most recent call last)",
      "\u001b[1;32m<ipython-input-181-6d8d798feb97>\u001b[0m in \u001b[0;36m<module>\u001b[1;34m\u001b[0m\n\u001b[0;32m      5\u001b[0m \u001b[1;33m\u001b[0m\u001b[0m\n\u001b[0;32m      6\u001b[0m \u001b[0mlibrary\u001b[0m \u001b[1;33m=\u001b[0m \u001b[0mBuilding\u001b[0m\u001b[1;33m(\u001b[0m\u001b[1;36m200\u001b[0m\u001b[1;33m,\u001b[0m \u001b[1;36m5\u001b[0m\u001b[1;33m)\u001b[0m\u001b[1;33m\u001b[0m\u001b[1;33m\u001b[0m\u001b[0m\n\u001b[1;32m----> 7\u001b[1;33m \u001b[0mprint\u001b[0m\u001b[1;33m(\u001b[0m\u001b[0mlen\u001b[0m\u001b[1;33m(\u001b[0m\u001b[0mlibrary\u001b[0m\u001b[1;33m)\u001b[0m\u001b[1;33m)\u001b[0m\u001b[1;33m\u001b[0m\u001b[1;33m\u001b[0m\u001b[0m\n\u001b[0m\u001b[0;32m      8\u001b[0m \u001b[1;33m\u001b[0m\u001b[0m\n",
      "\u001b[1;31mTypeError\u001b[0m: object of type 'Building' has no len()"
     ]
    }
   ],
   "metadata": {}
  },
  {
   "cell_type": "markdown",
   "source": [
    "Python doesn't know how to use the len() function because we haven't told it how to do it. Thus, we can tell Python what to do in those cases. One important thing is that this is our code, we can tell Python what to do, not what we should do. Thus, what goes inside the magic method depends on us, and what we think it will be more useful for the user. Let's say that we want the length of the Building class to be the number of floors:"
   ],
   "metadata": {}
  },
  {
   "cell_type": "code",
   "execution_count": null,
   "source": [
    "class Building:\r\n",
    "    def __init__(self, floor_area, n_floors):\r\n",
    "        self.floor_area = floor_area\r\n",
    "        self.n_floors = n_floors\r\n",
    "    \r\n",
    "    def __len__(self): # Magic methods are also called dunder methods because they have Double UNDERscore\r\n",
    "        return self.n_floors # The __len__ Magic Method must return an integer\r\n",
    "    \r\n",
    "    def __add__(self, other):\r\n",
    "        return self.n_floors + other.n_floors"
   ],
   "outputs": [],
   "metadata": {}
  },
  {
   "cell_type": "code",
   "execution_count": null,
   "source": [
    "library = Building(200, 5)\r\n",
    "library2 = Building(300,5)\r\n",
    "print(len(library))\r\n"
   ],
   "outputs": [
    {
     "output_type": "stream",
     "name": "stdout",
     "text": [
      "5\n"
     ]
    }
   ],
   "metadata": {}
  },
  {
   "cell_type": "markdown",
   "source": [
    "There are many magic methods that you can use. For example, let's say that you want to compare two buildings. You can use the \\_\\_gt__ method (greater than):"
   ],
   "metadata": {}
  },
  {
   "cell_type": "code",
   "execution_count": null,
   "source": [
    "class Building:\r\n",
    "    def __init__(self, floor_area, n_floors):\r\n",
    "        self.floor_area = floor_area\r\n",
    "        self.n_floors = n_floors\r\n",
    "    \r\n",
    "    def __len__(self): # Magic methods are also called dunder methods because they have Double UNDERscore\r\n",
    "        return self.n_floors # The __len__ Magic Method must return an integer\r\n",
    "    \r\n",
    "    def __gt__(self, other): # You usually use 'other' to refer to other instance of the same class\r\n",
    "        return self.floor_area > other.floor_area # We compare which one has a larger floor area. We can do it like this because Python\r\n",
    "                                                  # knows how to compare floats and integers\r\n",
    "    def __eq__(self, other): # You usually use 'other' to refer to other instance of the same class\r\n",
    "        return self.floor_area == other.floor_area \r\n",
    "    \r\n",
    "    def __lt__(self, other):\r\n",
    "        return other > self\r\n",
    "\r\n",
    "library = Building(10000, 5)\r\n",
    "hotel = Building(15000, 20)\r\n",
    "hospital = Building(15000, 10)\r\n",
    "gherkin = Building(48000, 41)\r\n",
    "\r\n",
    "print(library < hospital)\r\n",
    "print(library > gherkin)\r\n",
    "print(hotel == hospital)\r\n",
    "print(hotel > hospital)\r\n",
    "print(library < hospital < gherkin)\r\n",
    "\r\n"
   ],
   "outputs": [
    {
     "output_type": "stream",
     "name": "stdout",
     "text": [
      "True\n",
      "False\n",
      "True\n",
      "False\n",
      "True\n"
     ]
    }
   ],
   "metadata": {}
  },
  {
   "cell_type": "code",
   "execution_count": null,
   "source": [
    "library <= hospital"
   ],
   "outputs": [
    {
     "output_type": "error",
     "ename": "TypeError",
     "evalue": "'<=' not supported between instances of 'Building' and 'Building'",
     "traceback": [
      "\u001b[1;31m---------------------------------------------------------------------------\u001b[0m",
      "\u001b[1;31mTypeError\u001b[0m                                 Traceback (most recent call last)",
      "\u001b[1;32m<ipython-input-194-2cd877cda4d6>\u001b[0m in \u001b[0;36m<module>\u001b[1;34m\u001b[0m\n\u001b[1;32m----> 1\u001b[1;33m \u001b[0mlibrary\u001b[0m \u001b[1;33m<=\u001b[0m \u001b[0mhospital\u001b[0m\u001b[1;33m\u001b[0m\u001b[1;33m\u001b[0m\u001b[0m\n\u001b[0m",
      "\u001b[1;31mTypeError\u001b[0m: '<=' not supported between instances of 'Building' and 'Building'"
     ]
    }
   ],
   "metadata": {}
  },
  {
   "cell_type": "markdown",
   "source": [
    "It's your turn to implement some of these magic methods"
   ],
   "metadata": {}
  },
  {
   "cell_type": "markdown",
   "source": [
    "There are more magic methods for adding up two objects of the same class \\_\\_add__. Let's go to Potion class:"
   ],
   "metadata": {}
  },
  {
   "cell_type": "code",
   "execution_count": null,
   "source": [
    "class Potion:\r\n",
    "    def __init__(self, volume):\r\n",
    "        self.volume = volume\r\n",
    "    \r\n",
    "    def __add__(self, other):\r\n",
    "        new_volume = self.volume + other.volume\r\n",
    "        return new_volume\r\n",
    "\r\n",
    "felix_felicis = Potion(250)\r\n",
    "veritaserum = Potion(100)\r\n",
    "\r\n",
    "new_potion = felix_felicis + veritaserum"
   ],
   "outputs": [],
   "metadata": {}
  },
  {
   "cell_type": "code",
   "execution_count": null,
   "source": [
    "print(new_potion.volume)\r\n",
    "print(new_potion)"
   ],
   "outputs": [
    {
     "output_type": "stream",
     "name": "stdout",
     "text": [
      "350\n",
      "<__main__.Potion object at 0x1065970d0>\n"
     ]
    }
   ],
   "metadata": {}
  },
  {
   "cell_type": "code",
   "execution_count": null,
   "source": [
    "class Potion:\r\n",
    "    def __init__(self, volume):\r\n",
    "        self.volume = volume\r\n",
    "    \r\n",
    "    def __add__(self, other):\r\n",
    "        new_volume = self.volume + other.volume\r\n",
    "        return Potion(new_volume)\r\n",
    "\r\n",
    "    def __repr__(self): # The represenation magic method can only return a string\r\n",
    "        return f'A potion with {self.volume}mL left'\r\n",
    "\r\n",
    "felix_felicis = Potion(250)\r\n",
    "veritaserum = Potion(100)\r\n",
    "\r\n",
    "new_potion = felix_felicis + veritaserum\r\n",
    "print(new_potion)"
   ],
   "outputs": [
    {
     "output_type": "stream",
     "name": "stdout",
     "text": [
      "A potion with 350mL left\n"
     ]
    }
   ],
   "metadata": {}
  }
 ],
 "metadata": {
  "interpreter": {
   "hash": "66a4c1a82e4b740877da9482796a67c3d19e50649dddfb2985c1182127ae3fd0"
  },
  "kernelspec": {
   "name": "python3",
   "display_name": "Python 3.8.11 64-bit ('base': conda)"
  },
  "language_info": {
   "name": "python",
   "version": "3.8.11",
   "mimetype": "text/x-python",
   "codemirror_mode": {
    "name": "ipython",
    "version": 3
   },
   "pygments_lexer": "ipython3",
   "nbconvert_exporter": "python",
   "file_extension": ".py"
  }
 },
 "nbformat": 4,
 "nbformat_minor": 4
}