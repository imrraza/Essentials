{
 "cells": [
  {
   "cell_type": "markdown",
   "metadata": {},
   "source": [
    "# 5: Object-Oriented Programming"
   ]
  },
  {
   "cell_type": "markdown",
   "metadata": {},
   "source": [
    "## Objects in Python"
   ]
  },
  {
   "cell_type": "markdown",
   "metadata": {},
   "source": [
    "Object-oriented programming OOP is a programming paradigm where everything revolves around objects. But, what is an object?\n",
    "\n",
    "Almost everything in Python is an object. When we declare a variable and assign an object to it, that variable becomes an instance (of that object)"
   ]
  },
  {
   "cell_type": "code",
   "execution_count": null,
   "metadata": {},
   "outputs": [],
   "source": [
    "# integers are objects\n",
    "x = 6\n",
    "# floats are objects\n",
    "y = 4.2\n",
    "# complex numbers are objects\n",
    "z = 4 + 5j\n",
    "# Strings are objects\n",
    "sentence = 'I am a string object, but \"sentence\" is an instance of a string object'"
   ]
  },
  {
   "cell_type": "code",
   "execution_count": null,
   "metadata": {},
   "outputs": [],
   "source": [
    "print(z)"
   ]
  },
  {
   "cell_type": "markdown",
   "metadata": {},
   "source": [
    "Objects have attributes and methods that we can access using '.'"
   ]
  },
  {
   "cell_type": "code",
   "execution_count": null,
   "metadata": {},
   "outputs": [],
   "source": [
    "print(z.real) # real is an attribute that corresponds to the real part of a complex number\n",
    "print(z.imag) # imag is an attribute that corresponds to the imaginary part of a complex number\n",
    "print(z.conjugate()) # conjugate is a method that returns the conjugate of the complex number"
   ]
  },
  {
   "cell_type": "markdown",
   "metadata": {},
   "source": [
    "Python internally has the code to create all these objects. The code acts as a blueprint, so every new instance that we create is consistent with each other. The blueprint is called class"
   ]
  },
  {
   "cell_type": "code",
   "execution_count": null,
   "metadata": {},
   "outputs": [],
   "source": [
    "help(str) # You can check the help function to see this 'blueprint' "
   ]
  },
  {
   "cell_type": "code",
   "execution_count": null,
   "metadata": {},
   "outputs": [],
   "source": []
  },
  {
   "cell_type": "markdown",
   "metadata": {},
   "source": [
    "## Why Object-Oriented Programming? \n"
   ]
  },
  {
   "cell_type": "markdown",
   "metadata": {},
   "source": [
    "- In many cases our code can be more neatly organised on a conceptual level by grouping related functions together into a class.\n",
    "\n",
    "- This means we can much more easily handle doing tasks repeatedly for similar types of data, in the same way that we use loops/functions etc."
   ]
  },
  {
   "cell_type": "code",
   "execution_count": null,
   "metadata": {},
   "outputs": [],
   "source": [
    "# Example of not neatly organized code\n",
    "# let’s say you want to track employees in an organization\n",
    "\n",
    "spongebob = ['SpongeBob SquarePants', 'Fry Cook', 'Sea Sponge', 1500]\n",
    "squidward = ['Squidward Tentacles', 'Cashier', 'Octopus', 700]\n",
    "krabs = ['Eugene Krabs', 'Owner', 'Crab', 200000]\n",
    "patrick = ['Patrick Star', 'Starfish', 0]"
   ]
  },
  {
   "cell_type": "markdown",
   "metadata": {},
   "source": [
    "If you have a large piece of code and have to retrieve krabs[0] several lines away, how do you know that 0 index corresponds to the name? Observe that patrick has no position, so while for the rest of instances, index 1 corresponds to the position, for patrick, it will return the species.\n",
    "\n",
    "We can use function to deal with these issues.\n"
   ]
  },
  {
   "cell_type": "code",
   "execution_count": null,
   "metadata": {},
   "outputs": [],
   "source": [
    "def employee(name, position, species, salary):\n",
    "    return {'Name' : name, 'poistion' : position,'species' : species,'salary' : salary}\n",
    "\n",
    "spongebob = employee('SpongeBob SquarePants', 'Fry Cook', 'Sea Sponge', 1500)\n",
    "squidward = employee('Squidward Tentacles', 'Cashier', 'Octopus', 700)\n",
    "krabs = employee('Eugene Krabs', 'Owner', 'Crab', 200000)\n",
    "patrick = employee('Patrick Star', 'test', 'Starfish', 0)"
   ]
  },
  {
   "cell_type": "code",
   "execution_count": null,
   "metadata": {},
   "outputs": [],
   "source": [
    "patrick.position"
   ]
  },
  {
   "cell_type": "markdown",
   "metadata": {},
   "source": [
    "Awesome! Let's add some actions to each employee"
   ]
  },
  {
   "cell_type": "code",
   "execution_count": null,
   "metadata": {},
   "outputs": [],
   "source": [
    "def increase_salary(employee, amount):\n",
    "    employee[salary] += amount"
   ]
  },
  {
   "cell_type": "code",
   "execution_count": null,
   "metadata": {},
   "outputs": [],
   "source": [
    "increase_salary(patrick, 100)\n",
    "print(patrick)"
   ]
  },
  {
   "cell_type": "markdown",
   "metadata": {},
   "source": [
    "This looks tidy and neat. But, there is still one more problem. If you are dealing with a large code, you might not remember the structure of each employee. We have a list here, and we might forget about the structure of the list (indices).\n",
    "\n",
    "One solution would be using dictionaries, so we don't forget the position of each value. But that might leave room to errors due to coding adding new keys to the employees.\n",
    "\n",
    "That's why we need an object where:\n",
    " - Attributes are predefined and limited to some boundaries.\n",
    " - We can define specific behaviours. When using solely functions, we will be limited to the methods characteristics of the objects that already exists in Python.\n",
    "\n",
    " - Classes act as blueprints that are used for these purposes."
   ]
  },
  {
   "cell_type": "markdown",
   "metadata": {},
   "source": [
    "\n",
    "## ***Classes*** are 'blueprints' for creating objects\n",
    "\n",
    "- The blueprints contains a user-defined structure, so every object created with this class will be consistent with each other.\n",
    "- It doesn’t actually contain any data \n",
    "- Classes usually contains the attributes and methods that are common to the objects builts with these classes\n",
    "- When we assign an object to a variable, that variable becomes an instance of the object.\n"
   ]
  },
  {
   "cell_type": "markdown",
   "metadata": {},
   "source": [
    "### Basic Syntax\n",
    "The basic syntax for creating a class is shown below: "
   ]
  },
  {
   "cell_type": "code",
   "execution_count": null,
   "metadata": {},
   "outputs": [],
   "source": [
    "# class definition\n",
    "class ClassName:\n",
    "\n",
    "    # class constructor\n",
    "    def __init__(self, param1, param2=1):\n",
    "\n",
    "        # attributes\n",
    "        self.param1 = param1\n",
    "        self.param2 = param2\n",
    "\n",
    "        # attribute defined using other attributes\n",
    "        self.param3 = param2 * 2\n",
    "\n",
    "        # attribute defined without parameter\n",
    "        self.param4 = 0\n",
    "\n",
    "    # methods\n",
    "    def some_method(self, ext_input):  # can add external arguments\n",
    "        return self.param1 + ext_input + ClassName.att\n",
    "\n",
    "    def some_other_method(self, ext_input1, ext_input2):  # method to modify attribute\n",
    "        self.param4 = ext_input1 + ext_input2\n"
   ]
  },
  {
   "cell_type": "markdown",
   "metadata": {},
   "source": [
    "So, for our example, we can define the class following that syntax"
   ]
  },
  {
   "cell_type": "code",
   "execution_count": null,
   "metadata": {},
   "outputs": [],
   "source": [
    "class Employee:  # Name of the class has to be UpperCamelCase or PascalCase\n",
    "    # __init__ is the constructor, .__init__() sets the initial state of the object\n",
    "    def __init__(self, name, position, species, total_hours, salary):\n",
    "        self.name = name  # We will get back to self shortly, but basically is a way to set an attribute to the instance\n",
    "        self.position = position\n",
    "        self.species = species\n",
    "        self.total_hours = total_hours\n",
    "        self.salary = salary\n",
    "\n",
    "    def increase_salary(self, amount):\n",
    "        self.salary = self.salary + amount\n",
    "        self.promotion()\n",
    "\n",
    "    def work(self):\n",
    "        '''\n",
    "        Everytime we call for the work function, the total amount of hours increases by one\n",
    "        If the total amount of hours reaches 40, 80, 120... we will increase the employee salary\n",
    "        '''\n",
    "        self.total_hours += 1\n",
    "        if self.total_hours % 40 == 0:\n",
    "            self.increase_salary(50)\n",
    "\n",
    "    def promotion(self):\n",
    "        if self.salary > 200000:\n",
    "            self.position = 'Co-owner'\n"
   ]
  },
  {
   "cell_type": "markdown",
   "metadata": {},
   "source": [
    "Employee is now the blueprint. It is telling us how to construct an Employee object"
   ]
  },
  {
   "cell_type": "markdown",
   "metadata": {},
   "source": [
    "Let's see this in action with the Employee class"
   ]
  },
  {
   "cell_type": "code",
   "execution_count": null,
   "metadata": {},
   "outputs": [],
   "source": [
    "spongebob = Employee(name='SpongeBob SquarePants', position='Fry Cook', species='Sea Sponge', total_hours=0, salary=1500)\n",
    "\n",
    "# spongebob is the instance where the Employee object is built. Thus, when instantiating spongebob, self refers to spongebob"
   ]
  },
  {
   "cell_type": "markdown",
   "metadata": {},
   "source": [
    "Now spongebob is an instance of an Employee object. It has attributes (name, position, species, salary) and methods (increase_salary, and work)\n",
    "\n",
    "### Classes are not just an exercise to do during a lesson\n",
    "\n",
    "Let's use the methods we created to do some actual stuff"
   ]
  },
  {
   "cell_type": "code",
   "execution_count": null,
   "metadata": {},
   "outputs": [],
   "source": [
    "# If spongebob works 8 hours a day, 5 days a week, and 40 weeks a year.\n",
    "# What would his salary be at the end of the year?\n",
    "\n",
    "# How many hours does SpongeBob need to work in order to be promoted to Co-Owner?\n"
   ]
  },
  {
   "cell_type": "code",
   "execution_count": null,
   "metadata": {},
   "outputs": [],
   "source": [
    "for _ in range(8 * 5 * 40):\n",
    "   \n",
    "    spongebob.work() # Increase .total_hours by 1 hour\n",
    "\n",
    "print(spongebob.salary)"
   ]
  },
  {
   "cell_type": "code",
   "execution_count": null,
   "metadata": {},
   "outputs": [],
   "source": [
    "spongebob = Employee(name='SpongeBob SquarePants', position='Fry Cook', species='Sea Sponge', total_hours=0, salary=1500)\n",
    "\n",
    "# spongebob is the instance where the Employee object is built. Thus, when instantiating spongebob, self refers to spongebob\n",
    "while spongebob.position != 'Co-owner':\n",
    "    spongebob.work()\n",
    "\n",
    "print(spongebob.total_hours)"
   ]
  },
  {
   "cell_type": "markdown",
   "metadata": {},
   "source": [
    "# Class Inheritance\n",
    "- We can use classes as a base to create other classes, this is called __INHERITANCE__.\n",
    "- The class we use as a base is called the __BASE CLASS__ or __Parent__.\n",
    "- The new class is called the __DERIVED CLASS(ES)__ or __Child(ren)__.\n",
    "- The derived classes 'inherit' features from the base class.\n",
    "- The same way we used self, we can use super() as a way to access the elements (attributes and methods) from the parent.\n",
    "- We can overwrite inherited methods by using the same method name.\n",
    "- We can define new methods using novel method names."
   ]
  },
  {
   "cell_type": "code",
   "execution_count": null,
   "metadata": {},
   "outputs": [],
   "source": [
    "class Rectangle:\n",
    "    def __init__(self, length, width):\n",
    "        self.length = length\n",
    "        self.width = width\n",
    "\n",
    "    def area(self):\n",
    "        return self.length * self.width\n",
    "\n",
    "    def perimeter(self):\n",
    "        return 2 * self.length + 2 * self.width\n"
   ]
  },
  {
   "cell_type": "code",
   "execution_count": null,
   "metadata": {},
   "outputs": [],
   "source": [
    "rec_1 = Rectangle(2, 5)\n",
    "print(rec_1.area())\n",
    "print(rec_1.perimeter())\n"
   ]
  },
  {
   "cell_type": "code",
   "execution_count": null,
   "metadata": {},
   "outputs": [],
   "source": [
    "# Observe the Square class\n",
    "\n",
    "class Square:\n",
    "    def __init__(self, length):\n",
    "        self.length = length\n",
    "\n",
    "    def area(self):\n",
    "        return self.length * self.length\n",
    "\n",
    "    def perimeter(self):\n",
    "        return 4 * self.length\n"
   ]
  },
  {
   "cell_type": "markdown",
   "metadata": {},
   "source": [
    "Basically, the Square class is the same as the Rectangle class, but length and width are the same. In other (more technical words), we don't need both attributes to create a Square object.\n",
    "\n",
    "To inherit a __base class__ we _can_ use the super() function, which, in short, is like using self but with the base class"
   ]
  },
  {
   "cell_type": "code",
   "execution_count": null,
   "metadata": {},
   "outputs": [],
   "source": [
    "square = Square(4)\n",
    "square.area()\n"
   ]
  },
  {
   "cell_type": "code",
   "execution_count": null,
   "metadata": {},
   "outputs": [],
   "source": [
    "class Rectangle:\n",
    "    def __init__(self, length, width):\n",
    "        self.length = length\n",
    "        self.width = width\n",
    "\n",
    "    def area(self):\n",
    "        return self.length * self.width\n",
    "\n",
    "    def perimeter(self):\n",
    "        return 2 * self.length + 2 * self.width\n",
    "\n",
    "\n",
    "class Square(Rectangle):\n",
    "    def __init__(self, length):\n",
    "        super().__init__(length, length)\n",
    "        self.width\n",
    "        # super is calling the __init__ in Rectangle, so it would be like\n",
    "        # instantiate a Rectangle object with length=length and width=length\n",
    "        # The new class will also obtain (inherit) rectangle's methods\n"
   ]
  },
  {
   "cell_type": "code",
   "execution_count": null,
   "metadata": {},
   "outputs": [],
   "source": [
    "rectangle = Rectangle(4, 4)\n",
    "square = Square(4)\n",
    "print(f'rectangle area is {rectangle.area()}')\n",
    "print(f'square area is {square.area()}')\n",
    "print(f'rectangle type is {type(rectangle)}')\n",
    "print(f'square type is {type(square)}')\n"
   ]
  },
  {
   "cell_type": "markdown",
   "metadata": {},
   "source": [
    "We can also check their relation using the function issubclass and isinstance"
   ]
  },
  {
   "cell_type": "code",
   "execution_count": null,
   "metadata": {},
   "outputs": [],
   "source": [
    "print(f'Is the Square Class a subclass of the Rectangle Class?: {issubclass(Square, Rectangle)}')\n",
    "print(f'Is the Rectagle Class a subclass of the Square Class?: {issubclass(Rectangle, Square)}')\n",
    "print(f'Is square an instance of a Square object?: {isinstance(square, Square)}') \n",
    "print(f'Is \"Hello\" an instance of a String Object?: {isinstance(\"Hello\", str)}')\n",
    "print(f'Is \"Hello\" an instance of a Integer Object?: {isinstance(\"Hello\", int)}')\n",
    "print(f'Is square an instance of a Rectangle object?: {isinstance(square, Rectangle)}')\n",
    "print(f'Is rectangle an instance of a Square object?: {isinstance(rectangle, Square)}')\n"
   ]
  },
  {
   "cell_type": "markdown",
   "metadata": {},
   "source": [
    "Even though we just gave the value of length to Square, this implicetly inherits all attributes from Rectangle"
   ]
  },
  {
   "cell_type": "code",
   "execution_count": null,
   "metadata": {},
   "outputs": [],
   "source": [
    "print(square.__dict__)\n",
    "# __dict__ is a method that returns a dictionary with the \n",
    "# attributes and values of an instance\n",
    "print(dir(square))"
   ]
  },
  {
   "cell_type": "markdown",
   "metadata": {},
   "source": [
    "Take into account that we don't have to call super().\\_\\_init__() every time we inherit a parent (or base class). We will call it if we want to make change on the number of attributes attributes to be called by the child(ren). \n",
    "\n",
    "In the following example, we are creating a Cube class, and calculate the volumen and surface area. Thus, we just need one length to calculate everything.\n",
    "\n",
    "Additionally, we can also call for methods that were defined by the parent. In an example above, if we wanted to call a method in the same class we were defining (work method was calling to increase_salary method), we had to use self. If we want to use a method from the parent (or the grandparent in this case) we have to use super()"
   ]
  },
  {
   "cell_type": "code",
   "execution_count": null,
   "metadata": {},
   "outputs": [],
   "source": [
    "class Square(Rectangle):\n",
    "    def __init__(self, length):\n",
    "        super().__init__(length, length)\n",
    "\n",
    "class Cube(Square):\n",
    "    # No __init__ is needed, it has the same __init__ function\n",
    "    # as Square (parent)\n",
    "    \n",
    "    def surface_area(self):\n",
    "        face_area = super().area()\n",
    "        return face_area * 6\n",
    "\n",
    "    def volume(self):\n",
    "        face_area = super().area()\n",
    "        return face_area * self.length\n",
    "    \n",
    "    def perimeter(self):\n",
    "        return 12 * self.length"
   ]
  },
  {
   "cell_type": "markdown",
   "metadata": {},
   "source": [
    "Some things to notice:\n",
    "- We didn't use super() or __init__ in Cube: When inheriting, the __init__ from the base class is already called\n",
    "- We add methods to the Cube class, but these methods are not passed to Square or Rectangle\n",
    "- Cube is implicetly inheriting from Rectangle (Granparent)"
   ]
  },
  {
   "cell_type": "code",
   "execution_count": null,
   "metadata": {},
   "outputs": [],
   "source": [
    "cube = Cube(4)"
   ]
  },
  {
   "cell_type": "code",
   "execution_count": null,
   "metadata": {},
   "outputs": [],
   "source": [
    "print(cube.volume())\n",
    "print(cube.surface_area())\n",
    "print(cube.perimeter())"
   ]
  },
  {
   "cell_type": "code",
   "execution_count": null,
   "metadata": {},
   "outputs": [],
   "source": [
    "class Cube(Square):\n",
    "    def __init__(self, length):\n",
    "        print('I am a cube! Nice to meet you')\n",
    "        super().__init__(length)\n",
    "    # No __init__ is needed, it has the same __init__ function\n",
    "    # as Square (parent)\n",
    "\n",
    "    def surface_area(self):\n",
    "        face_area = super().area()\n",
    "        return face_area * 6\n",
    "\n",
    "    def volume(self):\n",
    "        face_area = super().area()\n",
    "        return face_area * self.length"
   ]
  },
  {
   "cell_type": "markdown",
   "metadata": {},
   "source": [
    "Note that we call super().init when we want to change the behaviour of the constructor. By inheriting a class, it will also inherit the class init method!"
   ]
  },
  {
   "cell_type": "code",
   "execution_count": null,
   "metadata": {},
   "outputs": [],
   "source": [
    "cube = Cube(4)\n",
    "cube.length"
   ]
  },
  {
   "cell_type": "markdown",
   "metadata": {},
   "source": [
    "Check that cube is still a subclass of rectangle, and similar to square, cube is considered as an instance of its grandpa"
   ]
  },
  {
   "cell_type": "code",
   "execution_count": null,
   "metadata": {},
   "outputs": [],
   "source": [
    "print(f'Is the Cube Class a subclass of the Square Class?: {issubclass(Cube, Square)}')\n",
    "print(f'Is the Cube Class a subclass of the Rectangle Class?: {issubclass(Cube, Rectangle)}')\n",
    "print(f'Is cube an instance of a Square object?: {isinstance(cube, Square)}') \n",
    "print(f'Is cube an instance of a Rectangle object?: {isinstance(cube, Rectangle)}') "
   ]
  },
  {
   "cell_type": "markdown",
   "metadata": {},
   "source": [
    "Children can override their parent's methods. Imagine that we want to define a right triangle class. The area an perimeter are different from a rectangle, so we can override the rectangle methods by rewriting the methods egain in the child class"
   ]
  },
  {
   "cell_type": "code",
   "execution_count": null,
   "metadata": {},
   "outputs": [],
   "source": [
    "class RightTriangle(Rectangle):\n",
    "    def area(self):\n",
    "        return self.length * self.width / 2\n",
    "    def perimeter(self):\n",
    "        hypotenuse = (self.width ** 2 + self.length ** 2) ** 0.5\n",
    "        return hypotenuse + self.width + self.length"
   ]
  },
  {
   "cell_type": "code",
   "execution_count": null,
   "metadata": {},
   "outputs": [],
   "source": [
    "right_triangle = RightTriangle(3, 4)\n",
    "print(dir(right_triangle))\n",
    "print(right_triangle.area())\n",
    "print(right_triangle.perimeter())"
   ]
  },
  {
   "cell_type": "markdown",
   "metadata": {},
   "source": [
    "# Multiple Inheritance\n",
    "\n"
   ]
  },
  {
   "cell_type": "markdown",
   "metadata": {},
   "source": [
    "So far, we have seen Multilevel Inheritance (something similar to Grandparent, Parent, Child). We can also encounter Multiple Inheritance, which would correspond to a Father - Mother - Child relationship"
   ]
  },
  {
   "cell_type": "markdown",
   "metadata": {},
   "source": [
    "![Multilevel vs Multiple](images/Multiple_OOP.png)"
   ]
  },
  {
   "cell_type": "markdown",
   "metadata": {},
   "source": [
    "Let's see this with a Right Pyramid example, whose faces are one square, and four triangles\n",
    "\n",
    "![](images/right_pyramid.png)"
   ]
  },
  {
   "cell_type": "code",
   "execution_count": null,
   "metadata": {},
   "outputs": [],
   "source": [
    "class Triangle:\n",
    "    def __init__(self, base, height):\n",
    "        self.base = base\n",
    "        self.height = height\n",
    "\n",
    "    def area(self):\n",
    "        return 0.5 * self.base * self.height\n",
    "\n",
    "class RightPyramid(Triangle, Square):\n",
    "    def __init__(self, base, slant_height):\n",
    "        self.base = base\n",
    "        self.slant_height = slant_height\n",
    "\n",
    "    def area(self):\n",
    "        base_area = super().area()\n",
    "        perimeter = super().perimeter()\n",
    "        return 0.5 * perimeter * self.slant_height + base_area\n"
   ]
  },
  {
   "cell_type": "markdown",
   "metadata": {},
   "source": [
    "This example declares a Triangle class and a RightPyramid class that inherits from both Square and Triangle.\n",
    "\n",
    "You’ll see another .area() method that uses super() just like in single inheritance, with the aim of it reaching the .perimeter() and .area() methods defined all the way up in the Rectangle class. "
   ]
  },
  {
   "cell_type": "code",
   "execution_count": null,
   "metadata": {},
   "outputs": [],
   "source": [
    "pyramid = RightPyramid(2, 4)\n",
    "pyramid.area()\n"
   ]
  },
  {
   "cell_type": "markdown",
   "metadata": {},
   "source": [
    "What happened here? Why do we need height here? Observe the error, where is it looking for height? We need to obtain the area from the square base, so getting the height here is useless\n",
    "\n",
    "RightPyramid.\\_\\_mro__ Method Resolution Order will give us the order in which the child will search the parent's methods.\n",
    "\n",
    "This tells us that methods will be searched first in Rightpyramid, then in Triangle, then in Square, then Rectangle. Triangle.area() expects there to be a .height and a .base attribute, Python throws an AttributeError."
   ]
  },
  {
   "cell_type": "code",
   "execution_count": null,
   "metadata": {},
   "outputs": [],
   "source": [
    "class RightPyramid(Square, Triangle): # Change the order of the parents\n",
    "    def __init__(self, base, slant_height):\n",
    "        self.base = base\n",
    "        self.slant_height = slant_height\n",
    "        super().__init__(self.base) # Modify the Square class substituting length by base\n",
    "\n",
    "    def area(self):\n",
    "        base_area = super().area()\n",
    "        perimeter = super().perimeter()\n",
    "        return 0.5 * perimeter * self.slant_height + base_area\n"
   ]
  },
  {
   "cell_type": "code",
   "execution_count": null,
   "metadata": {},
   "outputs": [],
   "source": [
    "pyramid = RightPyramid(2, 4)\n",
    "print(RightPyramid.__mro__)\n",
    "pyramid.__dict__\n"
   ]
  },
  {
   "cell_type": "markdown",
   "metadata": {},
   "source": [
    "In multiple inheritance, you should design the classes so they are synced, for example, do NOT use the same name for methods, and if you have to, add more information to the name of said methods. For instance, you can rename the Triangle class’s .area() method .tri_area()."
   ]
  },
  {
   "cell_type": "code",
   "execution_count": null,
   "metadata": {},
   "outputs": [],
   "source": [
    "class Triangle:\n",
    "    def __init__(self, base, height):\n",
    "        self.base = base\n",
    "        self.height = height\n",
    "        super().__init__()\n",
    "\n",
    "    def tri_area(self):\n",
    "        return 0.5 * self.base * self.height\n"
   ]
  },
  {
   "cell_type": "code",
   "execution_count": null,
   "metadata": {},
   "outputs": [],
   "source": [
    "class Square(Rectangle):\n",
    "    def __init__(self, length):\n",
    "        super().__init__(length, length)\n",
    "\n",
    "class Triangle:\n",
    "    def __init__(self, base, height):\n",
    "        self.base = base\n",
    "        self.height = height\n",
    "        super().__init__()\n",
    "\n",
    "    def tri_area(self):\n",
    "        return 0.5 * self.base * self.height\n",
    "\n",
    "class RightPyramid(Square, Triangle):\n",
    "    def __init__(self, base, slant_height):\n",
    "        Square.__init__(self, base)\n",
    "        Triangle.__init__(self, base, slant_height)\n",
    "        self.slant_height = slant_height\n",
    "        self.base_area = super().area()\n",
    "        self.perimeter = super().perimeter()\n",
    "\n",
    "    def area(self):\n",
    "        return 0.5 * self.perimeter * self.slant_height + self.base_area\n",
    "\n",
    "    def area_2(self):\n",
    "        triangle_area = super().tri_area()\n",
    "        return triangle_area * 4 + self.base_area\n"
   ]
  },
  {
   "cell_type": "code",
   "execution_count": null,
   "metadata": {},
   "outputs": [],
   "source": [
    "right_pyramid = RightPyramid(3, 4)\n",
    "print(right_pyramid.area())\n",
    "print(right_pyramid.area_2())\n"
   ]
  },
  {
   "cell_type": "code",
   "execution_count": null,
   "metadata": {},
   "outputs": [],
   "source": [
    "class Rectangle:\n",
    "    def __init__(self, length, width, **kwargs):\n",
    "        self.length = length\n",
    "        self.width = width\n",
    "        super().__init__(**kwargs)\n",
    "\n",
    "    def area(self):\n",
    "        return self.length * self.width\n",
    "\n",
    "    def perimeter(self):\n",
    "        return 2 * self.length + 2 * self.width\n",
    "\n",
    "# Here we declare that the Square class inherits from \n",
    "# the Rectangle class\n",
    "class Square(Rectangle):\n",
    "    def __init__(self, length, **kwargs):\n",
    "        super().__init__(length=length, width=length, **kwargs)\n",
    "\n",
    "class Cube(Square):\n",
    "    def surface_area(self):\n",
    "        face_area = super().area()\n",
    "        return face_area * 6\n",
    "\n",
    "    def volume(self):\n",
    "        face_area = super().area()\n",
    "        return face_area * self.length\n",
    "\n",
    "class Triangle:\n",
    "    def __init__(self, base, height, **kwargs):\n",
    "        self.base = base\n",
    "        self.height = height\n",
    "        super().__init__(**kwargs)\n",
    "\n",
    "    def tri_area(self):\n",
    "        return 0.5 * self.base * self.height\n",
    "\n",
    "class RightPyramid(Square, Triangle):\n",
    "    def __init__(self, base, slant_height, **kwargs):\n",
    "        self.base = base\n",
    "        self.slant_height = slant_height\n",
    "        kwargs[\"height\"] = slant_height\n",
    "        kwargs[\"length\"] = base\n",
    "        super().__init__(base=base, **kwargs)\n",
    "\n",
    "    def area(self):\n",
    "        base_area = super().area()\n",
    "        perimeter = super().perimeter()\n",
    "        return 0.5 * perimeter * self.slant_height + base_area\n",
    "\n",
    "    def area_2(self):\n",
    "        base_area = super().area()\n",
    "        triangle_area = super().tri_area()\n",
    "        return triangle_area * 4 + base_area\n"
   ]
  },
  {
   "cell_type": "markdown",
   "metadata": {},
   "source": [
    "# Abstract Base Classes (ABCs)\n",
    "\n",
    "![](images/ABC.jpg)\n",
    "\n",
    "ABCs are classes with abstract methods. To make an ABC an ABC, you have to inherit from ABC and implement a abstract method"
   ]
  },
  {
   "cell_type": "code",
   "execution_count": null,
   "metadata": {},
   "outputs": [],
   "source": [
    "from abc import ABC, abstractmethod\n",
    "\n",
    "class Animal():\n",
    "\n",
    "    def __init__(self, name):\n",
    "            self.name = name\n",
    "\n",
    "    def say_hello(self):\n",
    "        pass\n",
    "\n",
    "cuddles = Animal('Cuddles')\n",
    "# No errors, still not an ABC"
   ]
  },
  {
   "cell_type": "code",
   "execution_count": null,
   "metadata": {},
   "outputs": [],
   "source": [
    "from abc import ABC, abstractmethod\n",
    "\n",
    "class Animal(ABC):\n",
    "\n",
    "    def __init__(self, name):\n",
    "            self.name = name\n",
    "\n",
    "    def say_hello(self):\n",
    "        pass\n",
    "\n",
    "cuddles = Animal('Cuddles')\n",
    "# No errors, still not an ABC"
   ]
  },
  {
   "cell_type": "code",
   "execution_count": null,
   "metadata": {},
   "outputs": [],
   "source": [
    "from abc import ABC, abstractmethod\n",
    "\n",
    "class Animal(ABC):\n",
    "\n",
    "    def __init__(self, name, characteristic):\n",
    "            self.name = name\n",
    "            self.characteristic = characteristic\n",
    "\n",
    "    @abstractmethod\n",
    "    def say_hello(self):\n",
    "        pass\n",
    "\n",
    "cuddles = Animal('Cuddles')\n",
    "# No errors, still not an ABC :O"
   ]
  },
  {
   "cell_type": "markdown",
   "metadata": {},
   "source": [
    "Now Animal class is a blueprint for blueprints... Thus, we can create classes that are consistent with each other.\n",
    "\n",
    "Let's say that we want our animals to say hello and say a characteristic with a method."
   ]
  },
  {
   "cell_type": "code",
   "execution_count": null,
   "metadata": {},
   "outputs": [],
   "source": [
    "class Lion:\n",
    "    def __init__(self, name, characteristic):\n",
    "        self.name = name\n",
    "        self.characteristic = characteristic\n",
    "\n",
    "    def roar_hello(self):\n",
    "        print(f'Hi, my name is {self.name} and I have {self.characteristic}')\n",
    "\n",
    "class Mouse:\n",
    "    def __init__(self, name, characteristic):\n",
    "        self.name = name\n",
    "        self.characteristic = characteristic\n",
    "\n",
    "    def squeak_hello(self):\n",
    "        print(f'Hi, my name is {self.name} and I have {self.characteristic}')\n",
    "\n",
    "class Koala:\n",
    "    def __init__(self, name, characteristic):\n",
    "        self.name = name\n",
    "        self.characteristic = characteristic\n",
    "\n",
    "    def growl_hello(self):\n",
    "        print(f'Hi, my name is {self.name} and I have {self.characteristic}')\n"
   ]
  },
  {
   "cell_type": "markdown",
   "metadata": {},
   "source": [
    "Observe that each animal has a different method for saying hello. This is very tedious, and it's not OOP at all. However, the user don't usually know that the parent method has already a method that is saying hello"
   ]
  },
  {
   "cell_type": "code",
   "execution_count": null,
   "metadata": {},
   "outputs": [],
   "source": [
    "animals = [Lion('Alex', 'a long mane'), Mouse('Mickey', 'a long tail'), Koala('Cuddles', 'chlamydia')]\n",
    "for animal in animals:\n",
    "    if 'roar_hello' in dir(animal):\n",
    "        animal.roar_hello()\n",
    "    elif 'squeak_hello' in dir(animal):\n",
    "        animal.squeak_hello()\n",
    "    elif 'growl_hello' in dir(animal):\n",
    "        animal.growl_hello()\n",
    "    "
   ]
  },
  {
   "cell_type": "markdown",
   "metadata": {},
   "source": [
    "Remember that Animal has an abstractmethod. This will force the children to have that method. Let's try instantiate Lion, which inherits from Animal, without a say_hello method"
   ]
  },
  {
   "cell_type": "code",
   "execution_count": null,
   "metadata": {},
   "outputs": [],
   "source": [
    "class Lion(Animal):\n",
    "\n",
    "    def roar_hello(self):\n",
    "        print(f'Hi, my name is {self.name} and I have {self.characteristic}')\n",
    "\n",
    "alex = Lion('Alex', 'a long mane')"
   ]
  },
  {
   "cell_type": "markdown",
   "metadata": {},
   "source": [
    "As expected, we can't do that because we are forcing Animal's children to have a method named say_hello. Two general rules, if you define a Abstract Base Class, the abstract method is there for a reason, not just because you are being whimsical, and the other rule, when defining an abstract method, give it a descriptive name, all children need to have this method, so better make it easy for the user to know what to code. "
   ]
  },
  {
   "cell_type": "markdown",
   "metadata": {},
   "source": [
    "Let's create the classes with the say_hello method"
   ]
  },
  {
   "cell_type": "code",
   "execution_count": null,
   "metadata": {},
   "outputs": [],
   "source": [
    "class Lion(Animal):\n",
    "    def say_hello(self):\n",
    "        print(f'Hi, my name is {self.name} and I have {self.characteristic}')\n",
    "\n",
    "class Mouse(Animal):\n",
    "   def say_hello(self):\n",
    "        print(f'Hi, my name is {self.name} and I have {self.characteristic}')\n",
    "\n",
    "class Koala(Animal):\n",
    "    def say_hello(self):\n",
    "        print(f'Hi, my name is {self.name} and I have {self.characteristic}')\n",
    "        \n",
    "animals = [Lion('Alex', 'a long mane'), Mouse('Mickey', 'a long tail'), Koala('Cuddles', 'chlamydia')]\n",
    "for animal in animals:\n",
    "    animal.say_hello()\n"
   ]
  },
  {
   "cell_type": "markdown",
   "metadata": {},
   "source": [
    "# Magic Methods"
   ]
  },
  {
   "cell_type": "markdown",
   "metadata": {},
   "source": [
    "Magic methods allow us to use Python built-in functions and operators with our classes. For example, let's try using the len() function in the Building class:"
   ]
  },
  {
   "cell_type": "code",
   "execution_count": null,
   "metadata": {},
   "outputs": [],
   "source": [
    "class Building:\n",
    "    def __init__(self, floor_area, n_floors):\n",
    "        self.floor_area = floor_area\n",
    "        self.n_floors = n_floors\n",
    "\n",
    "library = Building(200, 5)\n",
    "print(len(library))\n",
    "\n"
   ]
  },
  {
   "cell_type": "markdown",
   "metadata": {},
   "source": [
    "Python doesn't know how to use the len() function because we haven't told it how to do it. Thus, we can tell Python what to do in those cases. One important thing is that this is our code, we can tell Python what to do, not what we should do. Thus, what goes inside the magic method depends on us, and what we think it will be more useful for the user. Let's say that we want the length of the Building class to be the number of floors:"
   ]
  },
  {
   "cell_type": "code",
   "execution_count": null,
   "metadata": {},
   "outputs": [],
   "source": [
    "class Building:\n",
    "    def __init__(self, floor_area, n_floors):\n",
    "        self.floor_area = floor_area\n",
    "        self.n_floors = n_floors\n",
    "    \n",
    "    def __len__(self): # Magic methods are also called dunder methods because they have Double UNDERscore\n",
    "        return self.n_floors # The __len__ Magic Method must return an integer"
   ]
  },
  {
   "cell_type": "code",
   "execution_count": null,
   "metadata": {},
   "outputs": [],
   "source": [
    "library = Building(200, 5)\n",
    "print(len(library))"
   ]
  },
  {
   "cell_type": "markdown",
   "metadata": {},
   "source": [
    "There are many magic methods that you can use. For example, let's say that you want to compare two buildings. You can use the \\_\\_gt__ method (greater than):"
   ]
  },
  {
   "cell_type": "code",
   "execution_count": null,
   "metadata": {},
   "outputs": [],
   "source": [
    "class Building:\n",
    "    def __init__(self, floor_area, n_floors):\n",
    "        self.floor_area = floor_area\n",
    "        self.n_floors = n_floors\n",
    "    \n",
    "    def __len__(self): # Magic methods are also called dunder methods because they have Double UNDERscore\n",
    "        return self.n_floors # The __len__ Magic Method must return an integer\n",
    "    \n",
    "    def __gt__(self, other): # You usually use 'other' to refer to other instance of the same class\n",
    "        return self.floor_area > other.floor_area # We compare which one has a larger floor area. We can do it like this because Python\n",
    "                                                  # knows how to compare floats and integers\n",
    "    def __eq__(self, other): # You usually use 'other' to refer to other instance of the same class\n",
    "        return self.floor_area == other.floor_area \n",
    "    \n",
    "    def __lt__(self, other):\n",
    "        return other > self\n",
    "\n",
    "library = Building(10000, 5)\n",
    "hotel = Building(15000, 20)\n",
    "hospital = Building(15000, 10)\n",
    "gherkin = Building(48000, 41)\n",
    "\n",
    "print(library < hospital)\n",
    "print(library > gherkin)\n",
    "print(hotel == hospital)\n",
    "print(hotel > hospital)\n",
    "print(library < hospital < gherkin)\n",
    "\n"
   ]
  },
  {
   "cell_type": "code",
   "execution_count": null,
   "metadata": {},
   "outputs": [],
   "source": [
    "library <= hospital"
   ]
  },
  {
   "cell_type": "markdown",
   "metadata": {},
   "source": [
    "It's your turn to implement some of these magic methods"
   ]
  },
  {
   "cell_type": "markdown",
   "metadata": {},
   "source": [
    "There are more magic methods for adding up two objects of the same class \\_\\_add__. Let's go to Potion class:"
   ]
  },
  {
   "cell_type": "code",
   "execution_count": null,
   "metadata": {},
   "outputs": [],
   "source": [
    "class Potion:\n",
    "    def __init__(self, volume):\n",
    "        self.volume = volume\n",
    "    \n",
    "    def __add__(self, other):\n",
    "        new_volume = self.volume + other.volume\n",
    "        return new_volume\n",
    "\n",
    "felix_felicis = Potion(250)\n",
    "veritaserum = Potion(100)\n",
    "\n",
    "new_potion = felix_felicis + veritaserum"
   ]
  },
  {
   "cell_type": "code",
   "execution_count": null,
   "metadata": {},
   "outputs": [],
   "source": [
    "print(new_potion.volume)\n",
    "print(new_potion)"
   ]
  },
  {
   "cell_type": "code",
   "execution_count": null,
   "metadata": {},
   "outputs": [],
   "source": [
    "class Potion:\n",
    "    def __init__(self, volume):\n",
    "        self.volume = volume\n",
    "    \n",
    "    def __add__(self, other):\n",
    "        new_volume = self.volume + other.volume\n",
    "        return Potion(new_volume)\n",
    "\n",
    "    def __repr__(self): # The represenation magic method can only return a string\n",
    "        return f'A potion with {self.volume}mL left'\n",
    "\n",
    "felix_felicis = Potion(250)\n",
    "veritaserum = Potion(100)\n",
    "\n",
    "new_potion = felix_felicis + veritaserum\n",
    "print(new_potion)"
   ]
  },
  {
   "cell_type": "markdown",
   "metadata": {},
   "source": [
    "## Exercise\n",
    "Here is an example for you to have a go at. Try defining a class for a cylinder. It should contain: <br>\n",
    "- 2 parameters:\n",
    "    - height\n",
    "    - radius, which should have a default value of 1.\n",
    "<br><br>\n",
    "- 4 attributes:\n",
    "    - height\n",
    "    - radius\n",
    "    - surface_area, initialised as None.\n",
    "    - volume, initialised as None.\n",
    "<br><br>\n",
    "- 2 methods:\n",
    "    - get_surface_area: \n",
    "        - define surface_area.\n",
    "        - update attribute surface_area.\n",
    "        - return surface_area rounded to 2dp.\n",
    "    - get_volume:\n",
    "        - define volume.\n",
    "        - update attribute volume.\n",
    "        - return volume rounded to 2dp.\n",
    "<br><br>\n",
    "- Use google to find the formulae for surface area and volume of a cylinder.\n",
    "- Use the formulae to create method definitions for these.\n",
    "- The skeletal structure of the class is laid out for you below; replace the \"CODE HERE\" comments with your own code\n",
    "- The spacing and indentation is laid out correctly for you."
   ]
  },
  {
   "cell_type": "code",
   "execution_count": null,
   "metadata": {},
   "outputs": [],
   "source": [
    "# import the math module, use math.pi for pi\n",
    "import math\n",
    "\n",
    "# define a class called Cylinder\n",
    "# CODE HERE\n",
    "\n",
    "    \n",
    "    # define __init__ with parameters height and radius with default 1\n",
    "    # CODE HERE\n",
    "        \n",
    "        # define attributes, initialise surface_area and volume as None\n",
    "        # CODE HERE\n",
    "        # CODE HERE\n",
    "        # CODE HERE\n",
    "        # CODE HERE\n",
    "    \n",
    "    # define get_surface_area method\n",
    "    # CODE HERE\n",
    "        \n",
    "        # assign surface area to variable surface_area\n",
    "        # CODE HERE\n",
    "        \n",
    "        # update attribute surface_area\n",
    "        # CODE HERE\n",
    "        \n",
    "        # return surface area rounded to 2dp\n",
    "        # CODE HERE\n",
    "    \n",
    "    # define get_volume method\n",
    "    # CODE HERE\n",
    "        \n",
    "        # CODE HERE\n",
    "        \n",
    "        # CODE HERE\n",
    "        \n",
    "        # CODE HERE"
   ]
  },
  {
   "cell_type": "code",
   "execution_count": null,
   "metadata": {},
   "outputs": [],
   "source": [
    "bike=[]"
   ]
  },
  {
   "cell_type": "code",
   "execution_count": null,
   "metadata": {},
   "outputs": [],
   "source": [
    "bike.append(\"test\")"
   ]
  },
  {
   "cell_type": "code",
   "execution_count": null,
   "metadata": {},
   "outputs": [],
   "source": [
    "print(bike)"
   ]
  },
  {
   "cell_type": "code",
   "execution_count": null,
   "metadata": {},
   "outputs": [],
   "source": [
    "bike.append(\"second\")"
   ]
  },
  {
   "cell_type": "code",
   "execution_count": null,
   "metadata": {},
   "outputs": [],
   "source": [
    "bike.append(12)"
   ]
  },
  {
   "cell_type": "code",
   "execution_count": null,
   "metadata": {},
   "outputs": [],
   "source": [
    "print(bike)"
   ]
  },
  {
   "cell_type": "code",
   "execution_count": null,
   "metadata": {},
   "outputs": [],
   "source": [
    "bike.append(12312321)"
   ]
  },
  {
   "cell_type": "code",
   "execution_count": null,
   "metadata": {},
   "outputs": [],
   "source": [
    "squates=[]\n",
    "for x in range(1,30):\n",
    "    squates.append(x**2)\n",
    "    print(squates)\n",
    "    "
   ]
  },
  {
   "cell_type": "code",
   "execution_count": null,
   "metadata": {},
   "outputs": [],
   "source": [
    "squates=[x**2 for x in range(1,20)]\n",
    "print(squates)"
   ]
  },
  {
   "cell_type": "code",
   "execution_count": null,
   "metadata": {},
   "outputs": [],
   "source": [
    "print(squates[5::-1])"
   ]
  },
  {
   "cell_type": "code",
   "execution_count": null,
   "metadata": {},
   "outputs": [],
   "source": [
    "test = squates[:]"
   ]
  },
  {
   "cell_type": "code",
   "execution_count": null,
   "metadata": {},
   "outputs": [],
   "source": [
    "print(test)"
   ]
  },
  {
   "cell_type": "code",
   "execution_count": null,
   "metadata": {},
   "outputs": [],
   "source": [
    "x=input()\n",
    "if int(x) in test:\n",
    "    print(f\"{x} in test\")\n",
    "else:\n",
    "    print(f\"{x} not in test\")"
   ]
  },
  {
   "cell_type": "code",
   "execution_count": null,
   "metadata": {},
   "outputs": [],
   "source": [
    "name =input(\"what's yoru name?\")\n",
    "while name != 'RAZA'\n",
    "    print(f\"hello, {name}\")"
   ]
  },
  {
   "cell_type": "code",
   "execution_count": null,
   "metadata": {},
   "outputs": [],
   "source": [
    "test={\"nm\":'Name','ag':0}\n",
    "print({test[\"nm\"]})"
   ]
  },
  {
   "cell_type": "markdown",
   "metadata": {},
   "source": [
    "msg = \"test\"\n",
    "print(msg)\n",
    "while msg != 'quit':\n",
    "    msg = input(\"whats the message \")\n",
    "    print(f\"helloe {msg}\")"
   ]
  },
  {
   "cell_type": "code",
   "execution_count": null,
   "metadata": {},
   "outputs": [],
   "source": [
    "def pizza(cond):\n",
    "    print(f\"this prizza has a single topping {cond} and nothing else\")"
   ]
  },
  {
   "cell_type": "code",
   "execution_count": null,
   "metadata": {},
   "outputs": [],
   "source": [
    "class animal():\n",
    "    \n",
    "    def __init__(self,name):\n",
    "        self.name=name\n",
    "\n",
    "\n",
    "    def sit(self):\n",
    "        print(f\"{self.name} is sitting\")\n",
    "\n",
    "c = animal('Cat')\n",
    "print(c.name)\n",
    "c.sit\n",
    "\n",
    "print(f\"{c.name} is a good animal\")\n",
    "c.sit\n"
   ]
  },
  {
   "cell_type": "code",
   "execution_count": null,
   "metadata": {},
   "outputs": [],
   "source": [
    "cat=animal('test')"
   ]
  },
  {
   "cell_type": "code",
   "execution_count": null,
   "metadata": {},
   "outputs": [],
   "source": [
    "cat.(sit\")"
   ]
  },
  {
   "cell_type": "code",
   "execution_count": 2,
   "metadata": {},
   "outputs": [
    {
     "name": "stdout",
     "output_type": "stream",
     "text": [
      "Peso is a great dog!\n",
      "<class '__main__.Dog'>\n",
      "<class 'method'>\n",
      "Peso is sitting\n",
      "testing Peso\n"
     ]
    }
   ],
   "source": [
    "class Dog():\n",
    "    def __init__(self,name):\n",
    "        self.name = name\n",
    "        \n",
    "    def sit(self):\n",
    "        print(f\"{self.name} is sitting\")\n",
    "        \n",
    "my_dog = Dog('Peso')\n",
    "\n",
    "print(f\"{my_dog.name} is a great dog!\")\n",
    "print(type(my_dog))\n",
    "print(type(my_dog.sit))\n",
    "my_dog.sit()\n",
    "print(f\"testing {my_dog.name}\")"
   ]
  },
  {
   "cell_type": "code",
   "execution_count": 3,
   "metadata": {},
   "outputs": [
    {
     "name": "stdout",
     "output_type": "stream",
     "text": [
      "testing Willie\n",
      "Willie is a search dog\n",
      "Willie is sitting\n",
      "Willie is searching.\n"
     ]
    }
   ],
   "source": [
    "class SarDog(Dog):\n",
    "    def __init__(self,name):\n",
    "        super().__init__(name)\n",
    "        print(f\"testing {self.name}\")\n",
    "        \n",
    "    def search(self):\n",
    "        print(f\"{self.name} is searching.\")\n",
    "        \n",
    "my_dog = SarDog(\"Willie\")\n",
    "\n",
    "print(f\"{my_dog.name} is a search dog\")\n",
    "\n",
    "my_dog.sit()\n",
    "my_dog.search()\n",
    "        "
   ]
  },
  {
   "cell_type": "code",
   "execution_count": null,
   "metadata": {},
   "outputs": [],
   "source": [
    "filename = \"'C:\\Users\\IN4296\\Desktop\\Python\\imran.txt\"\n",
    "\n",
    "with open(filename) as file_object:\n",
    "    lines= file_object.readlines()\n",
    "\n",
    "for line in Lines:\n",
    "    print(line)\n",
    "    "
   ]
  },
  {
   "cell_type": "code",
   "execution_count": null,
   "metadata": {},
   "outputs": [],
   "source": [
    "prompt = \"how many tickets do you need?\"\n",
    "num_tickets = input(prompt)\n",
    "\n",
    "try:\n",
    "    num_tickets = int(num_tickets)\n",
    "\n",
    "except ValueError:\n",
    "    print(\"Please try again\")\n",
    "else:\n",
    "    print(f\"your Tickets are prining.{num_tickets}\")"
   ]
  },
  {
   "cell_type": "raw",
   "metadata": {},
   "source": [
    "x=0\n",
    "squares = [x*3 for x in range(1,11)]\n",
    "\n",
    "for i in squares\n",
    "    print(f\"this is a {squares}\")"
   ]
  },
  {
   "cell_type": "code",
   "execution_count": 12,
   "metadata": {},
   "outputs": [
    {
     "name": "stdout",
     "output_type": "stream",
     "text": [
      "hello wukkue\n",
      "hello wukkue1\n",
      "hello wukkue2\n",
      "hello wukkue3\n",
      "hello wukkue4\n",
      "I love these dogs\n",
      "\n",
      " these were my firt two dogs\n",
      "my old dog was wukkue\n",
      "my old dog was wukkue1\n",
      "['wukkue1', 'wukkue2', 'wukkue3', 'wukkue4']\n",
      "['wukkue1', 'wukkue2', 'wukkue3']\n"
     ]
    }
   ],
   "source": [
    "dogs=[]\n",
    "dogs.append('wukkue')\n",
    "dogs.append('wukkue1')\n",
    "dogs.append('wukkue2')\n",
    "dogs.append('wukkue3')\n",
    "dogs.append('wukkue4')\n",
    "\n",
    "for i in dogs:\n",
    "    print(f\"hello {i}\")\n",
    "print(\"I love these dogs\")\n",
    "\n",
    "print(\"\\n these were my firt two dogs\")\n",
    "old_dog = dogs[:2]\n",
    "\n",
    "for a in old_dog:\n",
    "    print(f\"my old dog was {a}\")\n",
    "\n",
    "del dogs[0]\n",
    "print(dogs)\n",
    "dogs.remove('wukkue4')\n",
    "print(dogs)\n",
    "\n",
    "          \n",
    "\n"
   ]
  },
  {
   "cell_type": "code",
   "execution_count": 36,
   "metadata": {},
   "outputs": [
    {
     "name": "stdout",
     "output_type": "stream",
     "text": [
      "[1, 2, 3]\n",
      "[4, 5, 6]\n",
      "[7, 8, 9]\n",
      "{0: [1, 2, 3], 1: [4, 5, 6], 2: [7, 8, 9]}\n",
      "3\n"
     ]
    }
   ],
   "source": [
    "array=[[1,2,3],[4,5,6],[7,8,9]]\n",
    "for i in array:\n",
    "    print(i)\n",
    "\n",
    "a = dict(enumerate(array))\n",
    "print(a)\n",
    "b=len(array)\n",
    "print(b)"
   ]
  },
  {
   "cell_type": "code",
   "execution_count": 47,
   "metadata": {},
   "outputs": [
    {
     "name": "stdout",
     "output_type": "stream",
     "text": [
      "1\n",
      "5\n",
      "9\n"
     ]
    }
   ],
   "source": [
    "for i,j in enumerate(range(len(array))):\n",
    "    print(array[i][j])"
   ]
  },
  {
   "cell_type": "code",
   "execution_count": null,
   "metadata": {},
   "outputs": [],
   "source": []
  }
 ],
 "metadata": {
  "interpreter": {
   "hash": "aee8b7b246df8f9039afb4144a1f6fd8d2ca17a180786b69acc140d282b71a49"
  },
  "kernelspec": {
   "display_name": "Python 3 (ipykernel)",
   "language": "python",
   "name": "python3"
  },
  "language_info": {
   "codemirror_mode": {
    "name": "ipython",
    "version": 3
   },
   "file_extension": ".py",
   "mimetype": "text/x-python",
   "name": "python",
   "nbconvert_exporter": "python",
   "pygments_lexer": "ipython3",
   "version": "3.9.6"
  }
 },
 "nbformat": 4,
 "nbformat_minor": 4
}
